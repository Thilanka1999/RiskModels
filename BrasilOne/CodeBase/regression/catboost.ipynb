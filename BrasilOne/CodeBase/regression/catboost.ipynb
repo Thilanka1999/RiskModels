{
 "cells": [
  {
   "cell_type": "code",
   "execution_count": null,
   "metadata": {},
   "outputs": [],
   "source": [
    "# import packages\n",
    "import pandas as pd\n",
    "import numpy as np\n",
    "import matplotlib as mpl\n",
    "import matplotlib.pyplot as plt\n",
    "import seaborn as sns\n",
    "\n",
    "\n",
    "from utils import feature_engineering"
   ]
  },
  {
   "cell_type": "code",
   "execution_count": null,
   "metadata": {},
   "outputs": [],
   "source": [
    "df_credit = pd.read_csv('saved/preprocessed_bank_data.csv')\n",
    "X_processed = feature_engineering(df_credit)\n",
    "\n",
    "\n",
    "from catboost import CatBoostRegressor\n",
    "from sklearn.model_selection import train_test_split\n",
    "\n",
    "X = X_processed.drop(columns=['RiskScore'])\n",
    "y = X_processed['RiskScore']\n",
    "X_train, X_test, y_train, y_test = train_test_split(X, y, shuffle=True, test_size=0.1)\n",
    "\n",
    "cat = CatBoostRegressor(\n",
    "        iterations=1000,\n",
    "        learning_rate=0.1,\n",
    "        depth=6,\n",
    "        l2_leaf_reg=3,\n",
    "        random_state=42,\n",
    "        verbose=0\n",
    "    )\n",
    "\n",
    "cat.fit(X_train, y_train,  cat_features=[\"EmploymentStatus\", 'EducationLevel', 'MaritalStatus', 'HomeOwnershipStatus', 'LoanPurpose'])\n",
    "\n",
    "cat.save_model(f\"saved/cat_model.cbm\", format=\"cbm\")\n",
    "\n"
   ]
  },
  {
   "cell_type": "code",
   "execution_count": null,
   "metadata": {},
   "outputs": [],
   "source": [
    "from sklearn.metrics import mean_absolute_error, mean_squared_error, r2_score\n",
    "\n",
    "y_pred = cat.predict(X_test)\n",
    "    \n",
    "# Calculate metrics\n",
    "mae = mean_absolute_error(y_test, y_pred)\n",
    "mse = mean_squared_error(y_test, y_pred)\n",
    "rmse = np.sqrt(mse)\n",
    "r2 = r2_score(y_test, y_pred)\n",
    "\n",
    "# Print metrics\n",
    "print(f\"Mean Absolute Error (MAE): {mae:.4f}\")\n",
    "print(f\"Mean Squared Error (MSE): {mse:.4f}\")\n",
    "print(f\"Root Mean Squared Error (RMSE): {rmse:.4f}\")\n",
    "print(f\"R² Score: {r2:.4f}\")"
   ]
  },
  {
   "cell_type": "code",
   "execution_count": null,
   "metadata": {},
   "outputs": [],
   "source": [
    "user_input = {\n",
    "  \"ApplicationDate\": 6,\n",
    "  \"Age\": 50,\n",
    "  \"CreditScore\": 500,\n",
    "  \"EmploymentStatus\": \"Employed\", #['Employed', 'Self-Employed', 'Unemployed']\n",
    "  \"EducationLevel\": \"High School\", #['Master', 'Associate', 'Bachelor', 'High School', 'Doctorate']\n",
    "  \"LoanAmount\": 120000,\n",
    "  \"LoanDuration\": 60,\n",
    "  \"MaritalStatus\": \"Widowed\",#['Married', 'Single', 'Divorced', 'Widowed']\n",
    "  \"NumberOfDependents\": 1,\n",
    "  \"HomeOwnershipStatus\": \"Rent\",#['Own', 'Mortgage', 'Rent', 'Other']\n",
    "  \"MonthlyDebtPayments\": 700000,\n",
    "  \"CreditCardUtilizationRate\": 0.6,\n",
    "  \"NumberOfOpenCreditLines\": 2,\n",
    "  \"NumberOfCreditInquiries\": 1,\n",
    "  \"DebtToIncomeRatio\": 0.1,\n",
    "  \"BankruptcyHistory\": 0,\n",
    "  \"LoanPurpose\": \"Debt Consolidation\", #['Home', 'Debt Consolidation', 'Education', 'Other', 'Auto']\n",
    "  \"PreviousLoanDefaults\": 0,\n",
    "  \"PaymentHistory\": 24,\n",
    "  \"LengthOfCreditHistory\": 18,\n",
    "  \"SavingsAccountBalance\": 20000,\n",
    "  \"CheckingAccountBalance\": 15000,\n",
    "  \"TotalAssets\": 250000,\n",
    "  \"TotalLiabilities\": 20000000,\n",
    "  \"MonthlyIncome\": 11000,\n",
    "  \"UtilityBillsPaymentHistory\": 0.5,\n",
    "  \"JobTenure\": 12,\n",
    "  \"TotalDebtToIncomeRatio\": 0.22,\n",
    "}\n",
    "user_input = feature_engineering(pd.DataFrame([user_input]))\n",
    "\n",
    "cat.predict(user_input)"
   ]
  }
 ],
 "metadata": {
  "kernelspec": {
   "display_name": "Python 3",
   "language": "python",
   "name": "python3"
  },
  "language_info": {
   "codemirror_mode": {
    "name": "ipython",
    "version": 3
   },
   "file_extension": ".py",
   "mimetype": "text/x-python",
   "name": "python",
   "nbconvert_exporter": "python",
   "pygments_lexer": "ipython3",
   "version": "3.11.0"
  }
 },
 "nbformat": 4,
 "nbformat_minor": 2
}
