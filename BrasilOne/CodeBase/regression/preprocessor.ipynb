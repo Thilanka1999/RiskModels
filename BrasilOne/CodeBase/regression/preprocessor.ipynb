{
 "cells": [
  {
   "cell_type": "code",
   "execution_count": null,
   "metadata": {},
   "outputs": [],
   "source": [
    "# import packages\n",
    "import pandas as pd\n",
    "import numpy as np\n",
    "import matplotlib as mpl\n",
    "import matplotlib.pyplot as plt\n",
    "import seaborn as sns\n",
    "\n",
    "from sklearn.impute import SimpleImputer\n",
    "from sklearn.preprocessing import LabelEncoder, StandardScaler\n",
    "from sklearn.model_selection import train_test_split, cross_validate, GridSearchCV, cross_val_score\n",
    "from imblearn.under_sampling import RandomUnderSampler\n",
    "from sklearn.metrics import accuracy_score, f1_score, confusion_matrix, classification_report, roc_curve, roc_auc_score\n",
    "from sklearn.pipeline import make_pipeline\n",
    "from sklearn.model_selection import StratifiedKFold\n",
    "from xgboost import XGBClassifier\n",
    "from lightgbm import LGBMClassifier\n",
    "from catboost import CatBoostClassifier\n",
    "\n",
    "# set the aesthetic style of the plots\n",
    "sns.set_style()\n",
    "\n",
    "# filter warning messages\n",
    "import warnings\n",
    "warnings.filterwarnings('ignore')"
   ]
  },
  {
   "cell_type": "code",
   "execution_count": null,
   "metadata": {},
   "outputs": [],
   "source": [
    "df_credit = pd.read_csv('../focused_synthetic_loan_data.csv')"
   ]
  },
  {
   "cell_type": "code",
   "execution_count": null,
   "metadata": {},
   "outputs": [],
   "source": [
    "# data frame shape\n",
    "print('Number of rows: ', df_credit.shape[0])\n",
    "print('Number of columns: ', df_credit.shape[1])"
   ]
  },
  {
   "cell_type": "code",
   "execution_count": null,
   "metadata": {},
   "outputs": [],
   "source": [
    "df_credit.columns"
   ]
  },
  {
   "cell_type": "code",
   "execution_count": null,
   "metadata": {},
   "outputs": [],
   "source": [
    "# Count the number of columns for each data type\n",
    "dtype_counts = df_credit.dtypes.value_counts()\n",
    "\n",
    "# Print the results\n",
    "print(\"Number of columns by data type:\")\n",
    "print(dtype_counts)\n",
    "\n",
    "float_features = df_credit.select_dtypes(include=['float']).columns\n",
    "object_features = df_credit.select_dtypes(include=['object']).columns\n",
    "int_features = df_credit.select_dtypes(include=['int']).columns\n",
    "bool_features = df_credit.select_dtypes(include=['bool']).columns\n",
    "\n",
    "# Print the feature names for each category\n",
    "print(\"Float features:\", list(float_features))\n",
    "print(\"Object features:\", list(object_features))\n",
    "print(\"Integer features:\", list(int_features))\n",
    "print(\"Bool features:\", list(bool_features))"
   ]
  },
  {
   "cell_type": "code",
   "execution_count": null,
   "metadata": {},
   "outputs": [],
   "source": [
    "df_credit = df_credit.drop(columns=[\"LoanApproved\"])"
   ]
  },
  {
   "cell_type": "code",
   "execution_count": null,
   "metadata": {},
   "outputs": [],
   "source": [
    "df_credit.info()\n"
   ]
  },
  {
   "cell_type": "code",
   "execution_count": null,
   "metadata": {},
   "outputs": [],
   "source": [
    "df_credit.describe()"
   ]
  },
  {
   "cell_type": "code",
   "execution_count": null,
   "metadata": {},
   "outputs": [],
   "source": [
    "df_credit.nunique().sort_values()\n"
   ]
  },
  {
   "cell_type": "code",
   "execution_count": null,
   "metadata": {},
   "outputs": [],
   "source": [
    "import json\n",
    "\n",
    "with open('saved/before_feature.json', 'w') as f:\n",
    "    json.dump(df_credit.columns.tolist(), f)\n",
    "# with open('saved/before_feature.json', 'r') as f:\n",
    "#     loaded_list = json.dump(df_credit.columns)"
   ]
  },
  {
   "cell_type": "code",
   "execution_count": null,
   "metadata": {},
   "outputs": [],
   "source": [
    "df_credit = df_credit[df_credit['TotalAssets'] <= 1200000 ]  "
   ]
  },
  {
   "cell_type": "code",
   "execution_count": null,
   "metadata": {},
   "outputs": [],
   "source": [
    "df_credit_num = df_credit.select_dtypes(exclude='object').columns\n",
    "df_credit_cat = df_credit.select_dtypes(include='object').columns\n",
    "\n",
    "\n",
    "# fill missing values for numerical variables\n",
    "nimputer = SimpleImputer(missing_values=np.nan, strategy='median')\n",
    "nimputer = nimputer.fit(df_credit.loc[:, df_credit_num])\n",
    "df_credit.loc[:, df_credit_num] = nimputer.transform(df_credit.loc[:, df_credit_num])\n",
    "\n",
    "\n",
    "# fill missing values for categorical variables\n",
    "cimputer = SimpleImputer(missing_values=np.nan, strategy='most_frequent')\n",
    "cimputer = cimputer.fit(df_credit.loc[:, df_credit_cat])\n",
    "df_credit.loc[:, df_credit_cat] = cimputer.transform(df_credit.loc[:, df_credit_cat])\n",
    "\n",
    "import pickle   \n",
    "\n",
    "with open('saved/nimputer.pkl', 'wb') as f:\n",
    "    pickle.dump(nimputer, f)\n",
    "with open('saved/cimputer.pkl', 'wb') as f:\n",
    "    pickle.dump(cimputer, f)\n",
    "\n",
    "\n",
    " \n",
    "\n",
    "print(df_credit.columns)\n",
    "df_credit.to_csv('saved/preprocessed_bank_data.csv', index = False)\n"
   ]
  },
  {
   "cell_type": "code",
   "execution_count": null,
   "metadata": {},
   "outputs": [],
   "source": [
    "df_credit[df_credit.select_dtypes(include='object').columns].nunique().sort_values()\n"
   ]
  },
  {
   "cell_type": "code",
   "execution_count": null,
   "metadata": {},
   "outputs": [],
   "source": [
    "df_credit.head(5)"
   ]
  }
 ],
 "metadata": {
  "kernelspec": {
   "display_name": "Python 3",
   "language": "python",
   "name": "python3"
  },
  "language_info": {
   "codemirror_mode": {
    "name": "ipython",
    "version": 3
   },
   "file_extension": ".py",
   "mimetype": "text/x-python",
   "name": "python",
   "nbconvert_exporter": "python",
   "pygments_lexer": "ipython3",
   "version": "3.11.0"
  }
 },
 "nbformat": 4,
 "nbformat_minor": 2
}
