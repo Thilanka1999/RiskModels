{
 "cells": [
  {
   "cell_type": "code",
   "execution_count": 21,
   "metadata": {},
   "outputs": [],
   "source": [
    "import sagemaker\n",
    "import boto3\n",
    "import pandas as pd\n",
    "import numpy as np\n",
    "import json\n",
    "import joblib\n",
    "from sklearn.preprocessing import OneHotEncoder\n",
    "from sklearn.model_selection import train_test_split\n",
    "from sklearn.impute import SimpleImputer\n"
   ]
  },
  {
   "cell_type": "code",
   "execution_count": null,
   "metadata": {},
   "outputs": [],
   "source": [
    "sagemaker_session = sagemaker.Session()\n",
    "client = boto3.client(\"sagemaker\")\n",
    "region = sagemaker_session.boto_session.region_name\n",
    "\n"
   ]
  },
  {
   "cell_type": "code",
   "execution_count": 26,
   "metadata": {},
   "outputs": [],
   "source": [
    "df_credit = pd.read_csv('../Loan.csv')\n"
   ]
  },
  {
   "cell_type": "code",
   "execution_count": null,
   "metadata": {},
   "outputs": [],
   "source": [
    "df_credit = df_credit.drop(columns=[\"LoanApproved\"])\n"
   ]
  },
  {
   "cell_type": "code",
   "execution_count": null,
   "metadata": {},
   "outputs": [
    {
     "data": {
      "text/plain": [
       "'s3://mitrailabs-personaclassification/risk_prediction/regression/intermediate/before_feature.json'"
      ]
     },
     "execution_count": 17,
     "metadata": {},
     "output_type": "execute_result"
    }
   ],
   "source": [
    "\n",
    "with open('saved/before_feature.json', 'w') as f:\n",
    "    json.dump(df_credit.columns.tolist(), f)\n",
    "\n",
    "bucket = 'mitrailabs-personaclassification'\n",
    "prefix = 'risk_prediction/regression/intermediate'\n",
    "\n",
    "sagemaker_session.upload_data(path='saved/before_feature.json', \n",
    "                              bucket=bucket,\n",
    "                              key_prefix=prefix)"
   ]
  },
  {
   "cell_type": "code",
   "execution_count": 28,
   "metadata": {},
   "outputs": [],
   "source": [
    "df_credit = df_credit[df_credit['TotalAssets'] <= 1200000 ]  \n"
   ]
  },
  {
   "cell_type": "code",
   "execution_count": 29,
   "metadata": {},
   "outputs": [
    {
     "data": {
      "text/plain": [
       "'s3://mitrailabs-personaclassification/risk_prediction/regression/intermediate/cimputer.joblib'"
      ]
     },
     "execution_count": 29,
     "metadata": {},
     "output_type": "execute_result"
    }
   ],
   "source": [
    "df_credit_num = df_credit.select_dtypes(exclude='object').columns\n",
    "df_credit_cat = df_credit.select_dtypes(include='object').columns\n",
    "\n",
    "\n",
    "# fill missing values for numerical variables\n",
    "nimputer = SimpleImputer(missing_values=np.nan, strategy='median')\n",
    "nimputer = nimputer.fit(df_credit.loc[:, df_credit_num])\n",
    "df_credit.loc[:, df_credit_num] = nimputer.transform(df_credit.loc[:, df_credit_num])\n",
    "\n",
    "\n",
    "# fill missing values for categorical variables\n",
    "cimputer = SimpleImputer(missing_values=np.nan, strategy='most_frequent')\n",
    "cimputer = cimputer.fit(df_credit.loc[:, df_credit_cat])\n",
    "df_credit.loc[:, df_credit_cat] = cimputer.transform(df_credit.loc[:, df_credit_cat])\n",
    "\n",
    "\n",
    "joblib.dump(nimputer, 'saved/nimputer.joblib')\n",
    "joblib.dump(cimputer, 'saved/cimputer.joblib')\n",
    "\n",
    "bucket = 'mitrailabs-personaclassification'\n",
    "prefix = 'risk_prediction/regression/intermediate'\n",
    "\n",
    "sagemaker_session.upload_data(path='saved/nimputer.joblib', \n",
    "                              bucket=bucket,\n",
    "                              key_prefix=prefix)\n",
    "\n",
    "sagemaker_session.upload_data(path='saved/cimputer.joblib', \n",
    "                              bucket=bucket,\n",
    "                              key_prefix=prefix)"
   ]
  },
  {
   "cell_type": "code",
   "execution_count": null,
   "metadata": {},
   "outputs": [],
   "source": [
    "from utils import feature_engineering\n",
    "from sklearn.preprocessing import OneHotEncoder\n"
   ]
  },
  {
   "cell_type": "code",
   "execution_count": 31,
   "metadata": {},
   "outputs": [],
   "source": [
    "X_processed = feature_engineering(df_credit)\n"
   ]
  },
  {
   "cell_type": "code",
   "execution_count": 32,
   "metadata": {},
   "outputs": [
    {
     "name": "stdout",
     "output_type": "stream",
     "text": [
      "Index(['ApplicationDate', 'CreditScore', 'EmploymentStatus', 'EducationLevel',\n",
      "       'Experience', 'LoanAmount', 'LoanDuration', 'MaritalStatus',\n",
      "       'NumberOfDependents', 'HomeOwnershipStatus', 'MonthlyDebtPayments',\n",
      "       'CreditCardUtilizationRate', 'NumberOfOpenCreditLines',\n",
      "       'NumberOfCreditInquiries', 'DebtToIncomeRatio', 'BankruptcyHistory',\n",
      "       'LoanPurpose', 'PreviousLoanDefaults', 'PaymentHistory',\n",
      "       'LengthOfCreditHistory', 'CheckingAccountBalance', 'TotalAssets',\n",
      "       'TotalLiabilities', 'MonthlyIncome', 'UtilityBillsPaymentHistory',\n",
      "       'JobTenure', 'BaseInterestRate', 'MonthlyLoanPayment',\n",
      "       'TotalDebtToIncomeRatio', 'RiskScore', 'IncomeToDebtRatio',\n",
      "       'SavingsToIncomeRatio', 'NetWorthToIncomeRatio',\n",
      "       'HighCreditUtilization', 'HighDebtToIncome', 'JobStability',\n",
      "       'PreviousLoanDefaultRate', 'UtilityBillsPaymentHistoryRatio',\n",
      "       'InterestRateSpread', 'AgeExperienceInteraction', 'LogMonthlyIncome',\n",
      "       'LogSavingsAccountBalance', 'AgeBin', 'CreditScoreBin'],\n",
      "      dtype='object')\n",
      "['HighDebtToIncome', 'AgeBin', 'CreditScoreBin', 'EmploymentStatus', 'MaritalStatus', 'HomeOwnershipStatus', 'EducationLevel', 'LoanPurpose']\n",
      "['ApplicationDate', 'CreditScore', 'Experience', 'LoanAmount', 'LoanDuration', 'NumberOfDependents', 'MonthlyDebtPayments', 'CreditCardUtilizationRate', 'NumberOfOpenCreditLines', 'NumberOfCreditInquiries', 'DebtToIncomeRatio', 'BankruptcyHistory', 'PreviousLoanDefaults', 'PaymentHistory', 'LengthOfCreditHistory', 'CheckingAccountBalance', 'TotalAssets', 'TotalLiabilities', 'MonthlyIncome', 'UtilityBillsPaymentHistory', 'JobTenure', 'BaseInterestRate', 'MonthlyLoanPayment', 'TotalDebtToIncomeRatio', 'RiskScore', 'IncomeToDebtRatio', 'SavingsToIncomeRatio', 'NetWorthToIncomeRatio', 'HighCreditUtilization', 'JobStability', 'PreviousLoanDefaultRate', 'UtilityBillsPaymentHistoryRatio', 'InterestRateSpread', 'AgeExperienceInteraction', 'LogMonthlyIncome', 'LogSavingsAccountBalance']\n"
     ]
    },
    {
     "data": {
      "text/plain": [
       "'s3://mitrailabs-personaclassification/risk_prediction/regression/intermediate/encoder.joblib'"
      ]
     },
     "execution_count": 32,
     "metadata": {},
     "output_type": "execute_result"
    }
   ],
   "source": [
    "# List of categorical columns\n",
    "c_columns = ['HighDebtToIncome', 'AgeBin', 'CreditScoreBin', 'EmploymentStatus', \n",
    "             'MaritalStatus', 'HomeOwnershipStatus', 'EducationLevel', 'LoanPurpose']\n",
    "\n",
    "# Create and fit the encoder\n",
    "encoder = OneHotEncoder(sparse_output=False, drop='first', handle_unknown='ignore')\n",
    "encoder.fit(X_processed[c_columns])\n",
    "\n",
    "# Get feature names from the encoder\n",
    "feature_names = encoder.get_feature_names_out(c_columns)\n",
    "# During training\n",
    "def transform_with_encoder(X, categorical_cols, other_cols, encoder):\n",
    "    # Apply encoding to categorical columns\n",
    "    encoded_array = encoder.transform(X[categorical_cols])\n",
    "    \n",
    "    # Convert to DataFrame with proper column names\n",
    "    encoded_df = pd.DataFrame(\n",
    "        encoded_array, \n",
    "        columns=encoder.get_feature_names_out(categorical_cols),\n",
    "        index=X.index\n",
    "    )\n",
    "    \n",
    "    # Combine with non-categorical columns\n",
    "    if other_cols:\n",
    "        result = pd.concat([X[other_cols], encoded_df], axis=1)\n",
    "    else:\n",
    "        result = encoded_df\n",
    "        \n",
    "    return result\n",
    "\n",
    "# Get non-categorical columns\n",
    "other_columns = [col for col in X_processed.columns if col not in c_columns]\n",
    "print(X_processed.columns)\n",
    "print(c_columns)\n",
    "print(other_columns)\n",
    "\n",
    "# Apply the transformation\n",
    "X_processed = transform_with_encoder(X_processed, c_columns, other_columns, encoder)\n",
    "\n",
    "\n",
    "\n",
    "joblib.dump(encoder, 'saved/encoder.joblib')\n",
    "\n",
    "bucket = 'mitrailabs-personaclassification'\n",
    "prefix = 'risk_prediction/regression/intermediate'\n",
    "\n",
    "sagemaker_session.upload_data(path='saved/encoder.joblib', \n",
    "                              bucket=bucket,\n",
    "                              key_prefix=prefix)\n"
   ]
  },
  {
   "cell_type": "code",
   "execution_count": 33,
   "metadata": {},
   "outputs": [
    {
     "data": {
      "text/plain": [
       "'s3://mitrailabs-personaclassification/risk_prediction/regression/intermediate/test-v1.csv'"
      ]
     },
     "execution_count": 33,
     "metadata": {},
     "output_type": "execute_result"
    }
   ],
   "source": [
    "X = X_processed.drop(columns=['RiskScore'])\n",
    "y = X_processed['RiskScore']\n",
    "\n",
    "X_train, X_test, y_train, y_test = train_test_split(X, y, shuffle=True, test_size=0.1)\n",
    "\n",
    "X_train.to_csv('saved/train-v1.csv', index=False)\n",
    "X_test.to_csv('saved/test-v1.csv', index=False)\n",
    "\n",
    "\n",
    "bucket = 'mitrailabs-personaclassification'\n",
    "prefix = 'risk_prediction/regression/intermediate'\n",
    "\n",
    "sagemaker_session.upload_data(path='saved/train-v1.csv', \n",
    "                              bucket=bucket,\n",
    "                              key_prefix=prefix)\n",
    "\n",
    "sagemaker_session.upload_data(path='saved/test-v1.csv', \n",
    "                              bucket=bucket,\n",
    "                              key_prefix=prefix)\n"
   ]
  }
 ],
 "metadata": {
  "kernelspec": {
   "display_name": "Python 3",
   "language": "python",
   "name": "python3"
  },
  "language_info": {
   "codemirror_mode": {
    "name": "ipython",
    "version": 3
   },
   "file_extension": ".py",
   "mimetype": "text/x-python",
   "name": "python",
   "nbconvert_exporter": "python",
   "pygments_lexer": "ipython3",
   "version": "3.11.0"
  }
 },
 "nbformat": 4,
 "nbformat_minor": 2
}
