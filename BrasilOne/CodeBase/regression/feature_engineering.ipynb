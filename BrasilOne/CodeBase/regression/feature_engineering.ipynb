{
 "cells": [
  {
   "cell_type": "code",
   "execution_count": null,
   "metadata": {},
   "outputs": [],
   "source": [
    "# import packages\n",
    "import pandas as pd\n",
    "import numpy as np\n",
    "import matplotlib as mpl\n",
    "import matplotlib.pyplot as plt\n",
    "import seaborn as sns\n",
    "\n",
    "\n",
    "from utils import feature_engineering\n",
    "# set the aesthetic style of the plots\n",
    "sns.set_style()\n",
    "pd.set_option('display.max_rows', None)  # None means unlimited rows\n",
    "pd.set_option('display.max_columns', None) # None means unlimited columns\n",
    "pd.set_option('display.width', None)      # None means auto-detect width\n",
    "pd.set_option('display.max_colwidth', None) # N\n",
    "# filter warning messages\n",
    "import warnings\n",
    "warnings.filterwarnings('ignore')"
   ]
  },
  {
   "cell_type": "code",
   "execution_count": null,
   "metadata": {},
   "outputs": [],
   "source": [
    "df_credit = pd.read_csv('saved/preprocessed_bank_data.csv')"
   ]
  },
  {
   "cell_type": "code",
   "execution_count": null,
   "metadata": {},
   "outputs": [],
   "source": [
    "X_processed = feature_engineering(df_credit)"
   ]
  },
  {
   "cell_type": "code",
   "execution_count": null,
   "metadata": {},
   "outputs": [],
   "source": [
    "from utils import plot_credit_correlation\n",
    "\n",
    "# Example usage:\n",
    "ordinal_cols = ['EmploymentStatus', 'EducationLevel']\n",
    "target_cols = ['MaritalStatus', 'LoanPurpose', 'HomeOwnershipStatus']\n",
    "# plot_credit_correlation(df_credit, ordinal_cols, target_cols, 'RiskScore')\n",
    "plot_credit_correlation(df_credit, ordinal_cols, target_cols, 'RiskScore')\n"
   ]
  },
  {
   "cell_type": "code",
   "execution_count": null,
   "metadata": {},
   "outputs": [],
   "source": [
    "X_processed.head(5)"
   ]
  },
  {
   "cell_type": "code",
   "execution_count": null,
   "metadata": {},
   "outputs": [],
   "source": [
    "from sklearn.preprocessing import OneHotEncoder\n",
    "import pandas as pd\n",
    "from encoders import CustomTargetEncoder, CustomOrdinalEncoder\n",
    "\n",
    "# List of categorical columns\n",
    "c_columns = ['EmploymentStatus', \n",
    "             'MaritalStatus', 'HomeOwnershipStatus', 'EducationLevel', 'LoanPurpose']\n",
    "\n",
    "targetencoder = CustomTargetEncoder(columns_to_encode=['MaritalStatus', 'LoanPurpose'])\n",
    "X_processed = targetencoder.fit_transform(X_processed, X_processed['RiskScore'])\n",
    "\n",
    "feature_order_dict = {\n",
    "    'EducationLevel': ['High School', 'Associate', 'Bachelor', 'Master', 'Doctorate'],\n",
    "    'EmploymentStatus': ['Unemployed', 'Employed', 'Self-Employed'],\n",
    "    'HomeOwnershipStatus': ['Other', 'Rent', 'Mortgage', 'Own']\n",
    "}\n",
    "\n",
    "ordinalencoder = CustomOrdinalEncoder(feature_order_dict)\n",
    "X_processed = ordinalencoder.fit_transform(X_processed)\n"
   ]
  },
  {
   "cell_type": "code",
   "execution_count": null,
   "metadata": {},
   "outputs": [],
   "source": [
    "import joblib\n",
    "\n",
    "joblib.dump(targetencoder, 'saved/targetencoder.joblib')\n",
    "joblib.dump(ordinalencoder, 'saved/ordinalencoder.joblib')"
   ]
  },
  {
   "cell_type": "code",
   "execution_count": null,
   "metadata": {},
   "outputs": [],
   "source": [
    "correlation_matrix = X_processed.corr(method=\"spearman\")\n",
    "        \n",
    "plt.figure(figsize=(15, 18))  # Adjust figure size as needed\n",
    "sns.heatmap(correlation_matrix, annot=True, cmap=\"coolwarm\", fmt=\".2f\", linewidths=.5)\n",
    "plt.title(\"Correlation Matrix of Credit Features\")\n",
    "plt.show()"
   ]
  },
  {
   "cell_type": "code",
   "execution_count": null,
   "metadata": {},
   "outputs": [],
   "source": [
    "df = X_processed.applymap(lambda x: x if x > 0 else np.nan)\n",
    "\n",
    "# Take the log of each feature\n",
    "df_log = df.applymap(np.log1p)\n",
    "\n",
    "# Calculate correlation between original and log-transformed features\n",
    "correlation_results = {}\n",
    "for col in df.columns:\n",
    "    correlation = df[col].corr(df_log[col])\n",
    "    correlation_results[col] = correlation\n",
    "\n",
    "# Rank the correlations from highest to lowest\n",
    "ranked_correlations = pd.Series(correlation_results).sort_values(ascending=False)\n",
    "\n",
    "# Display the results\n",
    "# print(\"Correlation between original and log-transformed features:\")\n",
    "# print(ranked_correlations)"
   ]
  },
  {
   "cell_type": "code",
   "execution_count": null,
   "metadata": {},
   "outputs": [],
   "source": [
    "print(X_processed[X_processed['RiskScore'].isnull()])"
   ]
  },
  {
   "cell_type": "code",
   "execution_count": null,
   "metadata": {},
   "outputs": [],
   "source": [
    "X_processed.nunique().sort_values()"
   ]
  },
  {
   "cell_type": "code",
   "execution_count": null,
   "metadata": {},
   "outputs": [],
   "source": [
    "X_processed.to_csv('saved/feature_engineered_data.csv', index = False)"
   ]
  }
 ],
 "metadata": {
  "kernelspec": {
   "display_name": "Python 3",
   "language": "python",
   "name": "python3"
  },
  "language_info": {
   "codemirror_mode": {
    "name": "ipython",
    "version": 3
   },
   "file_extension": ".py",
   "mimetype": "text/x-python",
   "name": "python",
   "nbconvert_exporter": "python",
   "pygments_lexer": "ipython3",
   "version": "3.11.0"
  }
 },
 "nbformat": 4,
 "nbformat_minor": 2
}
