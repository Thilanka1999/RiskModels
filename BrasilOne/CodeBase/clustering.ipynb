{
 "cells": [
  {
   "cell_type": "markdown",
   "metadata": {},
   "source": [
    "## Normalization"
   ]
  },
  {
   "cell_type": "code",
   "execution_count": null,
   "metadata": {},
   "outputs": [],
   "source": [
    "import pandas as pd\n",
    "from sklearn.compose import ColumnTransformer\n",
    "from sklearn.preprocessing import MinMaxScaler, LabelEncoder, StandardScaler\n",
    "from sklearn.pipeline import Pipeline"
   ]
  },
  {
   "cell_type": "code",
   "execution_count": null,
   "metadata": {},
   "outputs": [],
   "source": [
    "X_processed = pd.read_csv('saved/feature_engineered_data.csv')\n",
    "X_processed_copy = X_processed.copy()"
   ]
  },
  {
   "cell_type": "code",
   "execution_count": null,
   "metadata": {},
   "outputs": [],
   "source": [
    "numerical_cols = X_processed.columns\n",
    "\n",
    "X_scaled = StandardScaler().fit_transform(X_processed)\n",
    "X_scaled = pd.DataFrame(X_scaled, columns=X_processed.columns)"
   ]
  },
  {
   "cell_type": "code",
   "execution_count": null,
   "metadata": {},
   "outputs": [],
   "source": [
    "# inference_preprocessor = ColumnTransformer(\n",
    "#     transformers=[\n",
    "#         # ('num', numerical_pipeline, numerical_cols),\n",
    "#         ('cat', numerical_pipeline, [i for i in numerical_cols if i != \"target_default\"])\n",
    "#     ],\n",
    "#     # remainder='drop'  # <--- IMPORTANT: Drop the remaining columns\n",
    "# )\n",
    "\n",
    "# inference_preprocessor.fit(X_processed_copy.drop(columns=[\"target_default\"]))\n",
    "\n",
    "# import pickle\n",
    "\n",
    "# # Save label encoders to disk\n",
    "# with open('saved/inference_preprocessor.pkl', 'wb') as f:\n",
    "#     pickle.dump(inference_preprocessor, f)"
   ]
  },
  {
   "cell_type": "code",
   "execution_count": null,
   "metadata": {},
   "outputs": [],
   "source": [
    "# from sklearn.feature_selection import f_classif\n",
    "\n",
    "# X_train_rus, y_train_rus = X_processed.drop(columns=['target_default']), X_processed['target_default']\n",
    "\n",
    "# f_scores, p_values = f_classif(X_train_rus, y_train_rus)\n",
    "\n",
    "# # Create a DataFrame to display feature importance\n",
    "# yo = pd.DataFrame({'Feature': X_train_rus.columns, 'F-Score': f_scores, 'P-Value': p_values})\n",
    "\n",
    "# # Sort by F-Score (higher F-Score means more important)\n",
    "# feature_importance = yo.sort_values(by='F-Score', ascending=False)\n",
    "\n",
    "# # Print the feature importance\n",
    "# print(feature_importance)"
   ]
  },
  {
   "cell_type": "markdown",
   "metadata": {},
   "source": [
    "## Clustering"
   ]
  },
  {
   "cell_type": "code",
   "execution_count": null,
   "metadata": {},
   "outputs": [],
   "source": [
    "from sklearn.cluster import KMeans\n",
    "\n",
    "\n",
    "# no_fb = X_processed.drop(columns=[\"facebook_profile\"])\n",
    "# Perform K-Means clustering on normalized data\n",
    "kmeans = KMeans(n_clusters=5, random_state=42)\n",
    "clusters = kmeans.fit_predict(X_scaled)\n",
    "\n",
    "# Add cluster labels to the original dataset\n",
    "X_processed['Cluster'] = clusters\n",
    "# X_processed=X_processed.drop(columns=['target_default'])\n",
    "print(pd.Series(clusters).value_counts().sort_index())\n",
    "# Display the clustered data\n",
    "X_processed.to_csv('saved/clustered_data.csv', index = False)\n",
    "\n",
    "(X_processed.head())"
   ]
  }
 ],
 "metadata": {
  "kernelspec": {
   "display_name": "Python 3",
   "language": "python",
   "name": "python3"
  },
  "language_info": {
   "codemirror_mode": {
    "name": "ipython",
    "version": 3
   },
   "file_extension": ".py",
   "mimetype": "text/x-python",
   "name": "python",
   "nbconvert_exporter": "python",
   "pygments_lexer": "ipython3",
   "version": "3.11.0"
  }
 },
 "nbformat": 4,
 "nbformat_minor": 2
}
