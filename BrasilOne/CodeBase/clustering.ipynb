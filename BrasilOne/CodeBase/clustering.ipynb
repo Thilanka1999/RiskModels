{
 "cells": [
  {
   "cell_type": "markdown",
   "metadata": {},
   "source": [
    "## Normalization"
   ]
  },
  {
   "cell_type": "code",
   "execution_count": null,
   "metadata": {},
   "outputs": [],
   "source": [
    "import pandas as pd\n",
    "from sklearn.compose import ColumnTransformer\n",
    "from sklearn.preprocessing import MinMaxScaler, LabelEncoder, StandardScaler\n",
    "from sklearn.pipeline import Pipeline"
   ]
  },
  {
   "cell_type": "code",
   "execution_count": null,
   "metadata": {},
   "outputs": [],
   "source": [
    "X_processed = pd.read_csv('saved/feature_engineered_data.csv')\n",
    "X_processed.info()"
   ]
  },
  {
   "cell_type": "code",
   "execution_count": null,
   "metadata": {},
   "outputs": [],
   "source": [
    "custom_bins = [20, 36, 40, 46, 49, 51, 53, 55, 58, 63, 90]\n",
    "custom_bins = [20, 40, 49, 54, 58, 90]\n",
    "\n",
    "X_processed['Cluster'] = pd.cut(X_processed['RiskScore'], \n",
    "                           bins=custom_bins, \n",
    "                           labels=range(5),\n",
    "                           include_lowest=True\n",
    "                           )\n",
    "X_processed = X_processed.drop(columns=[\"RiskScore\"])                        \n",
    "\n",
    "X_processed.to_csv('saved/clustered_data.csv', index = False)\n",
    "X_processed['Cluster'].value_counts().sort_index()\n"
   ]
  },
  {
   "cell_type": "code",
   "execution_count": null,
   "metadata": {},
   "outputs": [],
   "source": [
    "numerical_cols = X_processed.columns\n",
    "X_scaled = X_processed.copy() \n",
    "X_scaled = StandardScaler().fit_transform(X_scaled)\n",
    "X_scaled = pd.DataFrame(X_scaled, columns=X_processed.columns)"
   ]
  },
  {
   "cell_type": "code",
   "execution_count": null,
   "metadata": {},
   "outputs": [],
   "source": [
    "# inference_preprocessor = ColumnTransformer(\n",
    "#     transformers=[\n",
    "#         # ('num', numerical_pipeline, numerical_cols),\n",
    "#         ('cat', numerical_pipeline, [i for i in numerical_cols if i != \"target_default\"])\n",
    "#     ],\n",
    "#     # remainder='drop'  # <--- IMPORTANT: Drop the remaining columns\n",
    "# )\n",
    "\n",
    "# inference_preprocessor.fit(X_processed_copy.drop(columns=[\"target_default\"]))\n",
    "\n",
    "# import pickle\n",
    "\n",
    "# # Save label encoders to disk\n",
    "# with open('saved/inference_preprocessor.pkl', 'wb') as f:\n",
    "#     pickle.dump(inference_preprocessor, f)"
   ]
  },
  {
   "cell_type": "code",
   "execution_count": null,
   "metadata": {},
   "outputs": [],
   "source": [
    "# nan_counts = X_processed.isnull().sum()\n",
    "\n",
    "# # Print the columns with NaNs and their counts\n",
    "# print(nan_counts[nan_counts > 0])"
   ]
  },
  {
   "cell_type": "code",
   "execution_count": null,
   "metadata": {},
   "outputs": [],
   "source": [
    "import numpy as np\n",
    "import pandas as pd\n",
    "\n",
    "# Compute correlation matrix\n",
    "correlation_matrix = X_processed.corr().abs()  # Absolute values to consider both positive & negative correlation\n",
    "\n",
    "# Select upper triangle of the correlation matrix to avoid duplicate pairs\n",
    "upper_tri = correlation_matrix.where(np.triu(np.ones(correlation_matrix.shape), k=1).astype(bool))\n",
    "\n",
    "# Find feature pairs with correlation greater than 0.6\n",
    "highly_correlated_pairs = [(col, row, upper_tri.loc[row, col]) \n",
    "                           for col in upper_tri.columns \n",
    "                           for row in upper_tri.index \n",
    "                           if upper_tri.loc[row, col] > 0.6]\n",
    "\n",
    "# Convert to DataFrame for better readability\n",
    "correlated_df = pd.DataFrame(highly_correlated_pairs, columns=[\"Feature 1\", \"Feature 2\", \"Correlation\"])\n",
    "\n",
    "# Sort by absolute correlation value\n",
    "correlated_df = correlated_df.sort_values(by=\"Correlation\", ascending=False)\n",
    "\n",
    "# Display result\n",
    "(correlated_df)\n"
   ]
  },
  {
   "cell_type": "code",
   "execution_count": null,
   "metadata": {},
   "outputs": [],
   "source": [
    "import seaborn as sns\n",
    "import matplotlib.pyplot as plt\n",
    "X_processed.corr()\n",
    "\n",
    "# Compute correlation matrix\n",
    "correlation_matrix = X_processed.corr()\n",
    "\n",
    "# Set figure size\n",
    "plt.figure(figsize=(18, 12))\n",
    "\n",
    "# Create heatmap with bigger annotations\n",
    "sns.heatmap(correlation_matrix, annot=True, fmt=\".2f\", cmap=\"coolwarm\", linewidths=0.5, annot_kws={\"size\": 8})\n",
    "\n",
    "# Show plot\n",
    "plt.title(\"Feature Correlation Heatmap\", fontsize=14)\n",
    "plt.xticks(rotation=45, ha='right', fontsize=10)\n",
    "plt.yticks(fontsize=10)\n",
    "plt.show()"
   ]
  },
  {
   "cell_type": "code",
   "execution_count": null,
   "metadata": {},
   "outputs": [],
   "source": [
    "from sklearn.feature_selection import f_classif\n",
    "\n",
    "X_train_rus, y_train_rus = X_processed.drop(columns=['LoanApproved']), X_processed['LoanApproved']\n",
    "\n",
    "f_scores, p_values = f_classif(X_train_rus, y_train_rus)\n",
    "\n",
    "# Create a DataFrame to display feature importance\n",
    "yo = pd.DataFrame({'Feature': X_train_rus.columns, 'F-Score': f_scores, 'P-Value': p_values})\n",
    "\n",
    "# Sort by F-Score (higher F-Score means more important)\n",
    "feature_importance = yo.sort_values(by='F-Score', ascending=False)\n",
    "\n",
    "# Print the feature importance\n",
    "print(feature_importance)"
   ]
  },
  {
   "cell_type": "markdown",
   "metadata": {},
   "source": [
    "## Clustering"
   ]
  },
  {
   "cell_type": "code",
   "execution_count": null,
   "metadata": {},
   "outputs": [],
   "source": [
    "from sklearn.cluster import KMeans\n",
    "\n",
    "\n",
    "kmeans = KMeans(n_clusters=5, random_state=42)\n",
    "clusters = kmeans.fit_predict(X_scaled)\n",
    "\n",
    "X_processed['Cluster'] = clusters\n",
    "print(pd.Series(clusters).value_counts().sort_index())\n",
    "\n",
    "# X_processed.to_csv('saved/clustered_data.csv', index = False)\n",
    "\n",
    "(X_processed.head())"
   ]
  }
 ],
 "metadata": {
  "kernelspec": {
   "display_name": "Python 3",
   "language": "python",
   "name": "python3"
  },
  "language_info": {
   "codemirror_mode": {
    "name": "ipython",
    "version": 3
   },
   "file_extension": ".py",
   "mimetype": "text/x-python",
   "name": "python",
   "nbconvert_exporter": "python",
   "pygments_lexer": "ipython3",
   "version": "3.11.0"
  }
 },
 "nbformat": 4,
 "nbformat_minor": 2
}
