{
 "cells": [
  {
   "cell_type": "code",
   "execution_count": null,
   "metadata": {},
   "outputs": [],
   "source": [
    "# import packages\n",
    "import pandas as pd\n",
    "import numpy as np\n",
    "import matplotlib as mpl\n",
    "import matplotlib.pyplot as plt\n",
    "import seaborn as sns\n",
    "\n",
    "from sklearn.impute import SimpleImputer\n",
    "from sklearn.preprocessing import LabelEncoder, StandardScaler, TargetEncoder\n",
    "from sklearn.model_selection import train_test_split, cross_validate, GridSearchCV, cross_val_score\n",
    "from imblearn.under_sampling import RandomUnderSampler\n",
    "from sklearn.metrics import accuracy_score, f1_score, confusion_matrix, classification_report, roc_curve, roc_auc_score\n",
    "from sklearn.pipeline import make_pipeline\n",
    "from sklearn.model_selection import StratifiedKFold\n",
    "\n",
    "from utils import feature_engineering, additional_feature_engineering\n",
    "# set the aesthetic style of the plots\n",
    "sns.set_style()\n",
    "\n",
    "# filter warning messages\n",
    "import warnings\n",
    "warnings.filterwarnings('ignore')"
   ]
  },
  {
   "cell_type": "code",
   "execution_count": null,
   "metadata": {},
   "outputs": [],
   "source": [
    "df_credit = pd.read_csv('saved/preprocessed_bank_data.csv')\n",
    "df_credit.info()\n"
   ]
  },
  {
   "cell_type": "code",
   "execution_count": null,
   "metadata": {},
   "outputs": [],
   "source": [
    "X_processed = feature_engineering(df_credit)\n",
    "X_processed.info()"
   ]
  },
  {
   "cell_type": "code",
   "execution_count": null,
   "metadata": {},
   "outputs": [],
   "source": [
    "print(X_processed[X_processed['target_default'].isnull()])"
   ]
  },
  {
   "cell_type": "code",
   "execution_count": null,
   "metadata": {},
   "outputs": [],
   "source": [
    "X_processed.nunique().sort_values()\n"
   ]
  },
  {
   "cell_type": "code",
   "execution_count": null,
   "metadata": {},
   "outputs": [],
   "source": [
    "import pickle\n",
    "import category_encoders as ce\n",
    "X_processed[\"target_default\"] = X_processed[\"target_default\"].astype(int)\n",
    "\n",
    "X = X_processed.drop(columns=[\"target_default\"])\n",
    "y = X_processed[\"target_default\"]\n",
    "\n",
    "categorical_cols = X.select_dtypes(exclude=['float64', 'int64']).columns.tolist()\n",
    "# print(categorical_cols)\n",
    "# # Check for missing values in each categorical column\n",
    "# nan_counts = X_processed[categorical_cols].isnull().sum()\n",
    "\n",
    "# # Print the columns with NaNs and their counts\n",
    "# print(nan_counts[nan_counts > 0])\n",
    "# Define the one-out encoder\n",
    "oneout_encoder = ce.TargetEncoder(cols=categorical_cols)\n",
    "# Fit and transform the categorical columns\n",
    "X_processed[categorical_cols] = oneout_encoder.fit_transform(X[categorical_cols], y)\n",
    "\n",
    "\n",
    "\n",
    "# Save label encoders to disk\n",
    "with open('saved/label_encoders.pkl', 'wb') as f:\n",
    "    pickle.dump(oneout_encoder, f)"
   ]
  },
  {
   "cell_type": "code",
   "execution_count": null,
   "metadata": {},
   "outputs": [],
   "source": [
    "X_processed.nunique().sort_values()\n"
   ]
  },
  {
   "cell_type": "code",
   "execution_count": null,
   "metadata": {},
   "outputs": [],
   "source": [
    "X_processed2 = additional_feature_engineering(X_processed)"
   ]
  },
  {
   "cell_type": "code",
   "execution_count": null,
   "metadata": {},
   "outputs": [],
   "source": [
    "# import pandas as pd\n",
    "# from imblearn.over_sampling import SMOTE\n",
    "\n",
    "\n",
    "# # Separate features (X) and target (y)\n",
    "# X = df_credit.drop('target_default', axis=1)\n",
    "# y = df_credit['target_default']\n",
    "\n",
    "# # Apply SMOTE\n",
    "# smote = SMOTE(random_state=42)\n",
    "# X_resampled, y_resampled = smote.fit_resample(X, y)\n",
    "\n",
    "# # Create a new DataFrame with resampled data\n",
    "# df_resampled = pd.DataFrame(X_resampled, columns=X.columns)\n",
    "# df_resampled['target_default'] = y_resampled\n",
    "\n",
    "# Save the resampled data to a new CSV file\n",
    "# df_resampled.to_csv('saved/feature_engineered_data.csv', index=False)\n",
    "\n",
    "# print(\"SMOTE applied and saved to 'saved/feature_engineered_data.csv'\")"
   ]
  },
  {
   "cell_type": "code",
   "execution_count": null,
   "metadata": {},
   "outputs": [],
   "source": [
    "df_credit.to_csv('saved/feature_engineered_data.csv', index = False)"
   ]
  }
 ],
 "metadata": {
  "kernelspec": {
   "display_name": "Python 3",
   "language": "python",
   "name": "python3"
  },
  "language_info": {
   "codemirror_mode": {
    "name": "ipython",
    "version": 3
   },
   "file_extension": ".py",
   "mimetype": "text/x-python",
   "name": "python",
   "nbconvert_exporter": "python",
   "pygments_lexer": "ipython3",
   "version": "3.11.0"
  }
 },
 "nbformat": 4,
 "nbformat_minor": 2
}
