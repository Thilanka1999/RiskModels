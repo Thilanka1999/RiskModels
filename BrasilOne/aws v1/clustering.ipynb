{
 "cells": [
  {
   "cell_type": "code",
   "execution_count": 1,
   "metadata": {},
   "outputs": [
    {
     "name": "stdout",
     "output_type": "stream",
     "text": [
      "sagemaker.config INFO - Not applying SDK defaults from location: /etc/xdg/sagemaker/config.yaml\n",
      "sagemaker.config INFO - Not applying SDK defaults from location: /home/sagemaker-user/.config/sagemaker/config.yaml\n"
     ]
    }
   ],
   "source": [
    "import boto3\n",
    "import sagemaker\n",
    "from sagemaker import Model\n",
    "import os\n",
    "import json"
   ]
  },
  {
   "cell_type": "code",
   "execution_count": 2,
   "metadata": {},
   "outputs": [
    {
     "name": "stdout",
     "output_type": "stream",
     "text": [
      "SageMaker Role ARN: arn:aws:iam::796932308591:role/service-role/SageMaker-ExecutionRole-20250214T145019\n"
     ]
    }
   ],
   "source": [
    "sagemaker_session = sagemaker.Session()\n",
    "\n",
    "role = sagemaker.get_execution_role()\n",
    "print(f\"SageMaker Role ARN: {role}\")"
   ]
  },
  {
   "cell_type": "markdown",
   "metadata": {},
   "source": [
    "## Normalization"
   ]
  },
  {
   "cell_type": "code",
   "execution_count": 3,
   "metadata": {},
   "outputs": [],
   "source": [
    "import pandas as pd\n",
    "from sklearn.compose import ColumnTransformer\n",
    "from sklearn.preprocessing import MinMaxScaler, LabelEncoder\n",
    "from sklearn.pipeline import Pipeline"
   ]
  },
  {
   "cell_type": "code",
   "execution_count": 4,
   "metadata": {},
   "outputs": [],
   "source": [
    "s3 = boto3.client('s3')\n",
    "\n",
    "bucket = 'mitrailabs-personaclassification'\n",
    "model_prefix = 'risk_prediction/data/'\n",
    "response = s3.get_object(\n",
    "    Bucket=bucket,\n",
    "    Key=f\"{model_prefix}feature_engineered_data.csv\"\n",
    ")\n",
    "\n",
    "X_processed = pd.read_csv(response['Body'])\n",
    "X_processed_copy = X_processed.copy()"
   ]
  },
  {
   "cell_type": "code",
   "execution_count": 5,
   "metadata": {},
   "outputs": [],
   "source": [
    "numerical_cols = X_processed.columns\n",
    "# numerical_pipeline = Pipeline([\n",
    "#     ('scaler', MinMaxScaler())\n",
    "# ])\n",
    "# preprocessor = ColumnTransformer(\n",
    "#     transformers=[\n",
    "#         ('num', numerical_pipeline, numerical_cols),\n",
    "#         # ('cat', categorical_pipeline, categorical_cols)\n",
    "#     ]\n",
    "# )\n",
    "\n",
    "\n",
    "# X_scaled = preprocessor.fit_transform(X_processed)\n",
    "# X_processed = pd.DataFrame(\n",
    "#     X_scaled, \n",
    "#     columns=numerical_cols#+categorical_cols#[name.split('__')[-1] for name in preprocessor.get_feature_names_out()]\n",
    "# )"
   ]
  },
  {
   "cell_type": "code",
   "execution_count": 6,
   "metadata": {},
   "outputs": [],
   "source": [
    "scaler = MinMaxScaler()  # Default range is (0,1)\n",
    "X_scaled = scaler.fit_transform(X_processed) \n",
    "# X_processed"
   ]
  },
  {
   "cell_type": "code",
   "execution_count": 7,
   "metadata": {},
   "outputs": [],
   "source": [
    "# inference_preprocessor = ColumnTransformer(\n",
    "#     transformers=[\n",
    "#         # ('num', numerical_pipeline, numerical_cols),\n",
    "#         ('cat', numerical_pipeline, [i for i in numerical_cols if i != \"target_default\"])\n",
    "#     ],\n",
    "#     # remainder='drop'  # <--- IMPORTANT: Drop the remaining columns\n",
    "# )\n",
    "\n",
    "# inference_preprocessor.fit(X_processed_copy.drop(columns=[\"target_default\"]))\n",
    "\n",
    "# import joblib\n",
    "\n",
    "# # For the second save (which appears duplicative but keeping structure)\n",
    "# inference_preprocessor_path = 'saved/inference_preprocessor.joblib'\n",
    "# joblib.dump(inference_preprocessor, inference_preprocessor_path)\n",
    "\n",
    "# # Upload to S3 (updating file extension)\n",
    "# target_bucket = 'mitrailabs-personaclassification'\n",
    "# target_prefix = 'risk_prediction/Intermediate_states'\n",
    "# model_path = f'{target_prefix}/inference_preprocessor.joblib'\n",
    "# s3.upload_file(\n",
    "#     inference_preprocessor_path,\n",
    "#     target_bucket,\n",
    "#     model_path\n",
    "# )"
   ]
  },
  {
   "cell_type": "code",
   "execution_count": 8,
   "metadata": {},
   "outputs": [],
   "source": [
    "# !pip freeze > requirements2.txt\n"
   ]
  },
  {
   "cell_type": "markdown",
   "metadata": {},
   "source": [
    "## Clustering"
   ]
  },
  {
   "cell_type": "code",
   "execution_count": 9,
   "metadata": {},
   "outputs": [
    {
     "name": "stdout",
     "output_type": "stream",
     "text": [
      "0    10696\n",
      "1    10457\n",
      "2     9223\n",
      "3     3478\n",
      "4     7887\n",
      "Name: count, dtype: int64\n"
     ]
    }
   ],
   "source": [
    "from sklearn.cluster import KMeans\n",
    "\n",
    "# Perform K-Means clustering on normalized data\n",
    "kmeans = KMeans(n_clusters=5, random_state=42)\n",
    "clusters = kmeans.fit_predict(X_scaled)\n",
    "\n",
    "# Add cluster labels to the original dataset\n",
    "X_processed['Cluster'] = clusters\n",
    "\n",
    "print(pd.Series(clusters).value_counts().sort_index())\n",
    "# Display the clustered data\n",
    "(X_processed.head())\n",
    "\n",
    "\n",
    "\n",
    "\n",
    "\n",
    "\n",
    "X_processed_path = 'saved/clustered_data.csv'\n",
    "X_processed.to_csv(X_processed_path, index=False)\n",
    "\n",
    "target_bucket = 'mitrailabs-personaclassification'\n",
    "target_prefix = 'risk_prediction/data'\n",
    "\n",
    "\n",
    "model_path = f'{target_prefix}/clustered_data.csv'\n",
    "s3.upload_file(X_processed_path, \n",
    "               target_bucket, \n",
    "               model_path\n",
    "              )"
   ]
  },
  {
   "cell_type": "code",
   "execution_count": 12,
   "metadata": {},
   "outputs": [
    {
     "data": {
      "text/plain": [
       "Index(['target_default', 'score_1', 'score_2', 'score_3', 'score_4', 'score_5',\n",
       "       'score_6', 'risk_rate', 'last_amount_borrowed',\n",
       "       'last_borrowed_in_months', 'credit_limit', 'income', 'facebook_profile',\n",
       "       'state', 'real_state', 'ok_since', 'n_bankruptcies',\n",
       "       'n_defaulted_loans', 'n_accounts', 'n_issues',\n",
       "       'application_time_in_funnel',\n",
       "       'external_data_provider_credit_checks_last_month',\n",
       "       'external_data_provider_credit_checks_last_year',\n",
       "       'external_data_provider_email_seen_before',\n",
       "       'external_data_provider_fraud_score', 'reported_income',\n",
       "       'shipping_state', 'score_4_minus_score_3', 'avg_score_5_6',\n",
       "       'debt_to_income', 'credit_utilization', 'default_rate',\n",
       "       'reported_income_div_income', 'fraud_score_bin', 'credit_available',\n",
       "       'income_per_account', 'loan_amount_to_income',\n",
       "       'n_accounts_to_credit_limit', 'debt_to_income_x_default_rate',\n",
       "       'credit_utilization_x_fraud_score', 'income_sq',\n",
       "       'last_amount_borrowed_sq', 'score_1_x_score_2',\n",
       "       'score_1_x_facebook_profile', 'score_2_x_facebook_profile',\n",
       "       'fraud_score_bin_x_score_1', 'fraud_score_bin_x_score_2',\n",
       "       'state_avg_score_1', 'state_avg_score_2',\n",
       "       'real_state_avg_facebook_profile',\n",
       "       'shipping_state_avg_facebook_profile', 'score_1_div_score_2',\n",
       "       'facebook_profile_div_score_1', 'facebook_profile_div_score_2',\n",
       "       'score_1_minus_score_2', 'facebook_profile_minus_score_1',\n",
       "       'facebook_profile_minus_score_2', 'score_1_bin', 'score_2_bin',\n",
       "       'score_1_bin_x_score_2_bin', 'score_1_bin_x_fraud_score_bin',\n",
       "       'score_2_bin_x_fraud_score_bin', 'state_x_real_state',\n",
       "       'state_x_shipping_state', 'state_real_state_avg_score_1',\n",
       "       'state_shipping_state_avg_score_2', 'score_1_sq', 'score_2_sq',\n",
       "       'facebook_profile_sq', 'Cluster'],\n",
       "      dtype='object')"
      ]
     },
     "execution_count": 12,
     "metadata": {},
     "output_type": "execute_result"
    }
   ],
   "source": [
    "X_processed.columns"
   ]
  },
  {
   "cell_type": "code",
   "execution_count": null,
   "metadata": {},
   "outputs": [],
   "source": []
  }
 ],
 "metadata": {
  "kernelspec": {
   "display_name": "Python 3 (ipykernel)",
   "language": "python",
   "name": "python3"
  },
  "language_info": {
   "codemirror_mode": {
    "name": "ipython",
    "version": 3
   },
   "file_extension": ".py",
   "mimetype": "text/x-python",
   "name": "python",
   "nbconvert_exporter": "python",
   "pygments_lexer": "ipython3",
   "version": "3.11.11"
  }
 },
 "nbformat": 4,
 "nbformat_minor": 2
}
