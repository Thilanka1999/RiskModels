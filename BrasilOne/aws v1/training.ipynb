{
 "cells": [
  {
   "cell_type": "code",
   "execution_count": 1,
   "metadata": {},
   "outputs": [
    {
     "name": "stdout",
     "output_type": "stream",
     "text": [
      "sagemaker.config INFO - Not applying SDK defaults from location: /etc/xdg/sagemaker/config.yaml\n",
      "sagemaker.config INFO - Not applying SDK defaults from location: /home/sagemaker-user/.config/sagemaker/config.yaml\n"
     ]
    }
   ],
   "source": [
    "import boto3\n",
    "import sagemaker\n",
    "from sagemaker import Model\n",
    "import os\n",
    "import json"
   ]
  },
  {
   "cell_type": "code",
   "execution_count": 2,
   "metadata": {},
   "outputs": [
    {
     "name": "stdout",
     "output_type": "stream",
     "text": [
      "SageMaker Role ARN: arn:aws:iam::796932308591:role/service-role/SageMaker-ExecutionRole-20250214T145019\n"
     ]
    }
   ],
   "source": [
    "sagemaker_session = sagemaker.Session()\n",
    "\n",
    "role = sagemaker.get_execution_role()\n",
    "print(f\"SageMaker Role ARN: {role}\")"
   ]
  },
  {
   "cell_type": "code",
   "execution_count": 3,
   "metadata": {},
   "outputs": [
    {
     "name": "stderr",
     "output_type": "stream",
     "text": [
      "/opt/conda/lib/python3.11/site-packages/dask/dataframe/__init__.py:42: FutureWarning: \n",
      "Dask dataframe query planning is disabled because dask-expr is not installed.\n",
      "\n",
      "You can install it with `pip install dask[dataframe]` or `conda install dask`.\n",
      "This will raise in a future version.\n",
      "\n",
      "  warnings.warn(msg, FutureWarning)\n"
     ]
    }
   ],
   "source": [
    "# import packages\n",
    "import pandas as pd\n",
    "import numpy as np\n",
    "import matplotlib as mpl\n",
    "import matplotlib.pyplot as plt\n",
    "import seaborn as sns\n",
    "\n",
    "from sklearn.impute import SimpleImputer\n",
    "from sklearn.preprocessing import LabelEncoder, StandardScaler, MinMaxScaler\n",
    "from sklearn.model_selection import train_test_split, cross_validate, GridSearchCV, cross_val_score\n",
    "# from imblearn.under_sampling import RandomUnderSampler\n",
    "from sklearn.metrics import accuracy_score, f1_score, confusion_matrix, classification_report, roc_curve, roc_auc_score\n",
    "from sklearn.pipeline import make_pipeline\n",
    "from sklearn.model_selection import StratifiedKFold\n",
    "from xgboost import XGBClassifier\n",
    "from lightgbm import LGBMClassifier\n",
    "from catboost import CatBoostClassifier\n",
    "\n",
    "# set the aesthetic style of the plots\n",
    "sns.set_style()\n",
    "\n",
    "# filter warning messages\n",
    "import warnings\n",
    "warnings.filterwarnings('ignore')"
   ]
  },
  {
   "cell_type": "code",
   "execution_count": 4,
   "metadata": {},
   "outputs": [],
   "source": [
    "s3 = boto3.client('s3')\n",
    "\n",
    "bucket = 'mitrailabs-personaclassification'\n",
    "model_prefix = 'risk_prediction/data/'\n",
    "response = s3.get_object(\n",
    "    Bucket=bucket,\n",
    "    Key=f\"{model_prefix}clustered_data.csv\"\n",
    ")\n",
    "\n",
    "X_processed = pd.read_csv(response['Body'])\n",
    "X_processed_copy = X_processed.copy()\n"
   ]
  },
  {
   "cell_type": "code",
   "execution_count": 5,
   "metadata": {},
   "outputs": [
    {
     "name": "stdout",
     "output_type": "stream",
     "text": [
      "Cluster in df_normalized: True\n",
      "Cluster in X: False\n",
      "                                           Feature       F-Score  P-Value\n",
      "11                                facebook_profile           inf      0.0\n",
      "67                             facebook_profile_sq           inf      0.0\n",
      "42                      score_1_x_facebook_profile  3.720036e+04      0.0\n",
      "43                      score_2_x_facebook_profile  2.626969e+04      0.0\n",
      "21  external_data_provider_credit_checks_last_year  2.105914e+04      0.0\n",
      "..                                             ...           ...      ...\n",
      "56                                     score_1_bin           NaN      NaN\n",
      "57                                     score_2_bin           NaN      NaN\n",
      "58                       score_1_bin_x_score_2_bin           NaN      NaN\n",
      "59                   score_1_bin_x_fraud_score_bin           NaN      NaN\n",
      "60                   score_2_bin_x_fraud_score_bin           NaN      NaN\n",
      "\n",
      "[68 rows x 3 columns]\n"
     ]
    }
   ],
   "source": [
    "from sklearn.feature_selection import f_classif\n",
    "\n",
    "X = X_processed.drop(columns=['Cluster', 'target_default'])\n",
    "y = X_processed['Cluster']\n",
    "\n",
    "print(\"Cluster in df_normalized:\", 'Cluster' in X_processed.columns)  # Should be True\n",
    "print(\"Cluster in X:\", 'Cluster' in X.columns)  # Should be False\n",
    "\n",
    "\n",
    "\n",
    "f_scores, p_values = f_classif(X, y)\n",
    "\n",
    "# Create a DataFrame to display results\n",
    "feature_importance = pd.DataFrame({\n",
    "    'Feature': X.columns,\n",
    "    'F-Score': f_scores,\n",
    "    'P-Value': p_values\n",
    "})\n",
    "\n",
    "# Sort by F-Score (higher F-Score means more important)\n",
    "feature_importance = feature_importance.sort_values(by='F-Score', ascending=False)\n",
    "\n",
    "print(feature_importance)"
   ]
  },
  {
   "cell_type": "code",
   "execution_count": 6,
   "metadata": {},
   "outputs": [
    {
     "data": {
      "text/plain": [
       "score_1_bin                          1\n",
       "score_1_bin_x_score_2_bin            1\n",
       "score_2_bin                          1\n",
       "score_1_bin_x_fraud_score_bin        1\n",
       "score_2_bin_x_fraud_score_bin        1\n",
       "                                 ...  \n",
       "score_4                          41741\n",
       "reported_income_div_income       41741\n",
       "score_6                          41741\n",
       "avg_score_5_6                    41741\n",
       "score_4_minus_score_3            41741\n",
       "Length: 68, dtype: int64"
      ]
     },
     "execution_count": 6,
     "metadata": {},
     "output_type": "execute_result"
    }
   ],
   "source": [
    "# X = X.drop(columns=[\"score_2_bin_x_fraud_score_bin\", \n",
    "#                 \"score_1_bin_x_fraud_score_bin\",\n",
    "#                 \"score_1_bin_x_score_2_bin\",\n",
    "#                 \"score_2_bin\",\n",
    "#                 \"score_1_bin\"])\n",
    "X.nunique().sort_values()"
   ]
  },
  {
   "cell_type": "code",
   "execution_count": 7,
   "metadata": {},
   "outputs": [
    {
     "name": "stdout",
     "output_type": "stream",
     "text": [
      "<class 'pandas.core.frame.DataFrame'>\n",
      "RangeIndex: 41741 entries, 0 to 41740\n",
      "Data columns (total 68 columns):\n",
      " #   Column                                           Non-Null Count  Dtype  \n",
      "---  ------                                           --------------  -----  \n",
      " 0   score_1                                          41741 non-null  int64  \n",
      " 1   score_2                                          41741 non-null  int64  \n",
      " 2   score_3                                          41741 non-null  float64\n",
      " 3   score_4                                          41741 non-null  float64\n",
      " 4   score_5                                          41741 non-null  float64\n",
      " 5   score_6                                          41741 non-null  float64\n",
      " 6   risk_rate                                        41741 non-null  float64\n",
      " 7   last_amount_borrowed                             41741 non-null  float64\n",
      " 8   last_borrowed_in_months                          41741 non-null  float64\n",
      " 9   credit_limit                                     41741 non-null  float64\n",
      " 10  income                                           41741 non-null  float64\n",
      " 11  facebook_profile                                 41741 non-null  int64  \n",
      " 12  state                                            41741 non-null  int64  \n",
      " 13  real_state                                       41741 non-null  int64  \n",
      " 14  ok_since                                         41741 non-null  float64\n",
      " 15  n_bankruptcies                                   41741 non-null  float64\n",
      " 16  n_defaulted_loans                                41741 non-null  float64\n",
      " 17  n_accounts                                       41741 non-null  float64\n",
      " 18  n_issues                                         41741 non-null  float64\n",
      " 19  application_time_in_funnel                       41741 non-null  int64  \n",
      " 20  external_data_provider_credit_checks_last_month  41741 non-null  int64  \n",
      " 21  external_data_provider_credit_checks_last_year   41741 non-null  float64\n",
      " 22  external_data_provider_email_seen_before         41741 non-null  float64\n",
      " 23  external_data_provider_fraud_score               41741 non-null  int64  \n",
      " 24  reported_income                                  41741 non-null  float64\n",
      " 25  shipping_state                                   41741 non-null  int64  \n",
      " 26  score_4_minus_score_3                            41741 non-null  float64\n",
      " 27  avg_score_5_6                                    41741 non-null  float64\n",
      " 28  debt_to_income                                   41741 non-null  float64\n",
      " 29  credit_utilization                               41741 non-null  float64\n",
      " 30  default_rate                                     41741 non-null  float64\n",
      " 31  reported_income_div_income                       41741 non-null  float64\n",
      " 32  fraud_score_bin                                  41741 non-null  int64  \n",
      " 33  credit_available                                 41741 non-null  float64\n",
      " 34  income_per_account                               41741 non-null  float64\n",
      " 35  loan_amount_to_income                            41741 non-null  float64\n",
      " 36  n_accounts_to_credit_limit                       41741 non-null  float64\n",
      " 37  debt_to_income_x_default_rate                    41741 non-null  float64\n",
      " 38  credit_utilization_x_fraud_score                 41741 non-null  float64\n",
      " 39  income_sq                                        41741 non-null  float64\n",
      " 40  last_amount_borrowed_sq                          41741 non-null  float64\n",
      " 41  score_1_x_score_2                                41741 non-null  int64  \n",
      " 42  score_1_x_facebook_profile                       41741 non-null  int64  \n",
      " 43  score_2_x_facebook_profile                       41741 non-null  int64  \n",
      " 44  fraud_score_bin_x_score_1                        41741 non-null  int64  \n",
      " 45  fraud_score_bin_x_score_2                        41741 non-null  int64  \n",
      " 46  state_avg_score_1                                41741 non-null  float64\n",
      " 47  state_avg_score_2                                41741 non-null  float64\n",
      " 48  real_state_avg_facebook_profile                  41741 non-null  float64\n",
      " 49  shipping_state_avg_facebook_profile              41741 non-null  float64\n",
      " 50  score_1_div_score_2                              41741 non-null  float64\n",
      " 51  facebook_profile_div_score_1                     41741 non-null  float64\n",
      " 52  facebook_profile_div_score_2                     41741 non-null  float64\n",
      " 53  score_1_minus_score_2                            41741 non-null  int64  \n",
      " 54  facebook_profile_minus_score_1                   41741 non-null  int64  \n",
      " 55  facebook_profile_minus_score_2                   41741 non-null  int64  \n",
      " 56  score_1_bin                                      41741 non-null  int64  \n",
      " 57  score_2_bin                                      41741 non-null  int64  \n",
      " 58  score_1_bin_x_score_2_bin                        41741 non-null  int64  \n",
      " 59  score_1_bin_x_fraud_score_bin                    41741 non-null  int64  \n",
      " 60  score_2_bin_x_fraud_score_bin                    41741 non-null  int64  \n",
      " 61  state_x_real_state                               41741 non-null  int64  \n",
      " 62  state_x_shipping_state                           41741 non-null  int64  \n",
      " 63  state_real_state_avg_score_1                     41741 non-null  float64\n",
      " 64  state_shipping_state_avg_score_2                 41741 non-null  float64\n",
      " 65  score_1_sq                                       41741 non-null  int64  \n",
      " 66  score_2_sq                                       41741 non-null  int64  \n",
      " 67  facebook_profile_sq                              41741 non-null  int64  \n",
      "dtypes: float64(40), int64(28)\n",
      "memory usage: 21.7 MB\n"
     ]
    }
   ],
   "source": [
    "X.info()"
   ]
  },
  {
   "cell_type": "code",
   "execution_count": 8,
   "metadata": {},
   "outputs": [
    {
     "name": "stdout",
     "output_type": "stream",
     "text": [
      "29218 12523\n",
      "NaN in X_train: 0\n",
      "NaN in y_train: 0\n",
      "Infinite values in X: 0\n"
     ]
    }
   ],
   "source": [
    "\n",
    "X_train, X_test, y_train, y_test = train_test_split(X, y, shuffle=True, stratify=y, test_size=0.3)\n",
    "print(len(X_train), len(X_test))\n",
    "print(\"NaN in X_train:\", X_train.isna().sum().sum())\n",
    "print(\"NaN in y_train:\", y_train.isna().sum())\n",
    "print(\"Infinite values in X:\", np.isinf(y_train.values).sum())"
   ]
  },
  {
   "cell_type": "code",
   "execution_count": 9,
   "metadata": {},
   "outputs": [
    {
     "data": {
      "text/plain": [
       "Index(['score_1', 'score_2', 'score_3', 'score_4', 'score_5', 'score_6',\n",
       "       'risk_rate', 'last_amount_borrowed', 'last_borrowed_in_months',\n",
       "       'credit_limit', 'income', 'facebook_profile', 'state', 'real_state',\n",
       "       'ok_since', 'n_bankruptcies', 'n_defaulted_loans', 'n_accounts',\n",
       "       'n_issues', 'application_time_in_funnel',\n",
       "       'external_data_provider_credit_checks_last_month',\n",
       "       'external_data_provider_credit_checks_last_year',\n",
       "       'external_data_provider_email_seen_before',\n",
       "       'external_data_provider_fraud_score', 'reported_income',\n",
       "       'shipping_state', 'score_4_minus_score_3', 'avg_score_5_6',\n",
       "       'debt_to_income', 'credit_utilization', 'default_rate',\n",
       "       'reported_income_div_income', 'fraud_score_bin', 'credit_available',\n",
       "       'income_per_account', 'loan_amount_to_income',\n",
       "       'n_accounts_to_credit_limit', 'debt_to_income_x_default_rate',\n",
       "       'credit_utilization_x_fraud_score', 'income_sq',\n",
       "       'last_amount_borrowed_sq', 'score_1_x_score_2',\n",
       "       'score_1_x_facebook_profile', 'score_2_x_facebook_profile',\n",
       "       'fraud_score_bin_x_score_1', 'fraud_score_bin_x_score_2',\n",
       "       'state_avg_score_1', 'state_avg_score_2',\n",
       "       'real_state_avg_facebook_profile',\n",
       "       'shipping_state_avg_facebook_profile', 'score_1_div_score_2',\n",
       "       'facebook_profile_div_score_1', 'facebook_profile_div_score_2',\n",
       "       'score_1_minus_score_2', 'facebook_profile_minus_score_1',\n",
       "       'facebook_profile_minus_score_2', 'score_1_bin', 'score_2_bin',\n",
       "       'score_1_bin_x_score_2_bin', 'score_1_bin_x_fraud_score_bin',\n",
       "       'score_2_bin_x_fraud_score_bin', 'state_x_real_state',\n",
       "       'state_x_shipping_state', 'state_real_state_avg_score_1',\n",
       "       'state_shipping_state_avg_score_2', 'score_1_sq', 'score_2_sq',\n",
       "       'facebook_profile_sq'],\n",
       "      dtype='object')"
      ]
     },
     "execution_count": 9,
     "metadata": {},
     "output_type": "execute_result"
    }
   ],
   "source": [
    "X_train.columns"
   ]
  },
  {
   "cell_type": "code",
   "execution_count": 10,
   "metadata": {},
   "outputs": [],
   "source": [
    "# scaler = MinMaxScaler().fit(X_train)\n",
    "# X_train = scaler.transform(X_train)\n",
    "\n",
    "# resample\n",
    "# rus = RandomUnderSampler()\n",
    "# X_train_rus, y_train_rus = rus.fit_resample(X_train, y_train)\n",
    "\n",
    "# from imblearn.over_sampling import SMOTE\n",
    "\n",
    "# Apply SMOTE to balance clusters\n",
    "# smote = SMOTE(sampling_strategy='auto', random_state=42)\n",
    "# X_train_rus, y_train_rus = smote.fit_resample(X_train, y_train)\n",
    "\n",
    "X_train_rus, y_train_rus = (X_train, y_train)\n",
    "\n",
    "# Check new cluster distribution\n",
    "# print(pd.Series(y_train_rus).value_counts())\n",
    "\n",
    "# print(X_train_rus)\n"
   ]
  },
  {
   "cell_type": "code",
   "execution_count": 11,
   "metadata": {},
   "outputs": [],
   "source": [
    "# define the function val_model\n",
    "def val_model(X, y, clf, show=True):\n",
    "    \"\"\"\n",
    "    Apply cross-validation on the training set.\n",
    "\n",
    "    # Arguments\n",
    "        X: DataFrame containing the independent variables.\n",
    "        y: Series containing the target vector.\n",
    "        clf: Scikit-learn estimator instance.\n",
    "        \n",
    "    # Returns\n",
    "        float, mean value of the cross-validation scores.\n",
    "    \"\"\"   \n",
    "    X = np.array(X)\n",
    "    y = np.array(y)\n",
    "\n",
    "    pipeline = make_pipeline(MinMaxScaler(), clf)\n",
    "    scores = cross_val_score(pipeline, X, y, scoring='recall')\n",
    "\n",
    "    if show == True:\n",
    "        print(f'Recall: {scores.mean()}, {scores.std()}')\n",
    "    \n",
    "    return scores.mean()"
   ]
  },
  {
   "cell_type": "code",
   "execution_count": 12,
   "metadata": {},
   "outputs": [
    {
     "name": "stdout",
     "output_type": "stream",
     "text": [
      "       score_1  score_2  score_3     score_4   score_5     score_6  risk_rate  \\\n",
      "33493        0        2    320.0   97.912991  0.956521  105.066733       0.30   \n",
      "40992        4       12    310.0  100.129852  0.295036  104.508797       0.52   \n",
      "15053        3        9    340.0  107.506312  0.072266   98.490385       0.30   \n",
      "4181         3       26    430.0  100.861250  0.846504   97.995556       0.32   \n",
      "26420        3        9    430.0   96.462426  0.204137   98.172248       0.23   \n",
      "35227        2       20    450.0   99.255945  0.550011  113.621721       0.27   \n",
      "40056        0       11    500.0  100.696629  0.290125  112.593483       0.21   \n",
      "3911         1       27    600.0   96.770374  0.392009   97.679198       0.33   \n",
      "18342        1        7    310.0   98.897200  0.716072   94.781603       0.40   \n",
      "38136        2       14    240.0   99.066543  0.224149   84.422232       0.35   \n",
      "\n",
      "       last_amount_borrowed  last_borrowed_in_months  credit_limit  ...  \\\n",
      "33493                  0.00                      0.0       43378.0  ...   \n",
      "40992                  0.00                      0.0           0.0  ...   \n",
      "15053              20019.67                     60.0       25213.0  ...   \n",
      "4181               20014.14                     36.0       32255.0  ...   \n",
      "26420                  0.00                      0.0       25213.0  ...   \n",
      "35227               1634.61                     36.0       29869.0  ...   \n",
      "40056                  0.00                      0.0       42683.0  ...   \n",
      "3911               15013.02                     36.0       38514.0  ...   \n",
      "18342                  0.00                      0.0       25213.0  ...   \n",
      "38136                  0.00                      0.0        2941.0  ...   \n",
      "\n",
      "       score_1_bin_x_score_2_bin  score_1_bin_x_fraud_score_bin  \\\n",
      "33493                          0                              0   \n",
      "40992                          0                              0   \n",
      "15053                          0                              0   \n",
      "4181                           0                              0   \n",
      "26420                          0                              0   \n",
      "35227                          0                              0   \n",
      "40056                          0                              0   \n",
      "3911                           0                              0   \n",
      "18342                          0                              0   \n",
      "38136                          0                              0   \n",
      "\n",
      "       score_2_bin_x_fraud_score_bin  state_x_real_state  \\\n",
      "33493                              0                  52   \n",
      "40992                              0                  47   \n",
      "15053                              0                  17   \n",
      "4181                               0                  34   \n",
      "26420                              0                   8   \n",
      "35227                              0                   9   \n",
      "40056                              0                   5   \n",
      "3911                               0                  27   \n",
      "18342                              0                  42   \n",
      "38136                              0                  23   \n",
      "\n",
      "       state_x_shipping_state  state_real_state_avg_score_1  \\\n",
      "33493                      72                      2.021505   \n",
      "40992                      63                      1.882734   \n",
      "15053                      24                      1.861804   \n",
      "4181                       46                      1.977663   \n",
      "26420                      26                      2.120235   \n",
      "35227                      14                      1.950408   \n",
      "40056                       3                      1.865600   \n",
      "3911                       26                      1.917293   \n",
      "18342                      53                      1.872807   \n",
      "38136                      26                      1.913884   \n",
      "\n",
      "       state_shipping_state_avg_score_2  score_1_sq  score_2_sq  \\\n",
      "33493                         14.535714           0           4   \n",
      "40992                         17.362573          16         144   \n",
      "15053                         17.575581           9          81   \n",
      "4181                          16.500000           9         676   \n",
      "26420                         17.486150           9          81   \n",
      "35227                         17.775758           4         400   \n",
      "40056                         15.394366           0         121   \n",
      "3911                          17.486150           1         729   \n",
      "18342                         17.283310           1          49   \n",
      "38136                         17.486150           4         196   \n",
      "\n",
      "       facebook_profile_sq  \n",
      "33493                    1  \n",
      "40992                    1  \n",
      "15053                    0  \n",
      "4181                     0  \n",
      "26420                    0  \n",
      "35227                    1  \n",
      "40056                    0  \n",
      "3911                     1  \n",
      "18342                    1  \n",
      "38136                    0  \n",
      "\n",
      "[10 rows x 68 columns]\n",
      "              precision    recall  f1-score   support\n",
      "\n",
      "           0       1.00      1.00      1.00      3209\n",
      "           1       1.00      1.00      1.00      3137\n",
      "           2       1.00      1.00      1.00      2767\n",
      "           3       1.00      1.00      1.00      1044\n",
      "           4       1.00      1.00      1.00      2366\n",
      "\n",
      "    accuracy                           1.00     12523\n",
      "   macro avg       1.00      1.00      1.00     12523\n",
      "weighted avg       1.00      1.00      1.00     12523\n",
      "\n"
     ]
    },
    {
     "data": {
      "image/png": "[encoded data removed]",
      "text/plain": [
       "<Figure size 640x480 with 2 Axes>"
      ]
     },
     "metadata": {},
     "output_type": "display_data"
    },
    {
     "name": "stdout",
     "output_type": "stream",
     "text": [
      "AUC Score: 1.0\n"
     ]
    },
    {
     "data": {
      "image/png": "[encoded data removed]",
      "text/plain": [
       "<Figure size 800x600 with 1 Axes>"
      ]
     },
     "metadata": {},
     "output_type": "display_data"
    }
   ],
   "source": [
    "# final XGBoost model\n",
    "xgb = XGBClassifier(\n",
    "    max_depth=5, \n",
    "    learning_rate=0.01,  \n",
    "    n_estimators=200, \n",
    "    gamma=1,  \n",
    "    min_child_weight=6,  \n",
    "    # subsample=0.8,  \n",
    "    # colsample_bytree=0.8,  \n",
    "    # reg_lambda=1,  \n",
    "    # reg_alpha=0.1\n",
    ")\n",
    "\n",
    "from sklearn.ensemble import RandomForestClassifier, AdaBoostClassifier\n",
    "# xgb = RandomForestClassifier(\n",
    "#     n_estimators=200,  # Number of trees in the forest\n",
    "#     max_depth=8,        # Maximum depth of the trees\n",
    "#     #... other hyperparameters (e.g., min_samples_split, min_samples_leaf, etc.)...\n",
    "#     random_state=42,     # For reproducibility\n",
    "# )\n",
    "\n",
    "# xgb = AdaBoostClassifier(n_estimators=100, learning_rate=0.01, algorithm='SAMME', random_state=42)  # Adjust parameters\n",
    "xgb.fit(X_train_rus, y_train_rus)\n",
    "# prediction\n",
    "# scaler = MinMaxScaler().fit(X_test)\n",
    "X_test_xgb = X_test #scaler.transform(X_test)\n",
    "print(X_test_xgb.head(10))\n",
    "y_pred_xgb = xgb.predict(X_test_xgb)\n",
    "\n",
    "# classification report\n",
    "print(classification_report(y_test, y_pred_xgb))\n",
    "\n",
    "# confusion matrix\n",
    "fig, ax = plt.subplots()\n",
    "sns.heatmap(confusion_matrix(y_test, y_pred_xgb, normalize='true'), annot=True, ax=ax)\n",
    "ax.set_title('Confusion Matrix - XGBoost test')\n",
    "ax.set_xlabel('Predicted Value')\n",
    "ax.set_ylabel('Real Value')\n",
    "\n",
    "plt.show()\n",
    "\n",
    "\n",
    "\n",
    "\n",
    "\n",
    "from sklearn.preprocessing import label_binarize\n",
    "y_pred_xgb = xgb.predict_proba(X_test_xgb)\n",
    "n_classes = len(np.unique(y_test))\n",
    "y_test_binarized = label_binarize(y_test, classes=np.arange(n_classes))\n",
    "\n",
    "auc_score = roc_auc_score(y_test_binarized, y_pred_xgb)\n",
    "print(\"AUC Score:\", auc_score)\n",
    "\n",
    "# Plot ROC curve for each class\n",
    "fpr = dict()\n",
    "tpr = dict()\n",
    "roc_auc = dict()\n",
    "for i in range(n_classes):\n",
    "    fpr[i], tpr[i], _ = roc_curve(y_test_binarized[:, i], y_pred_xgb[:, i])\n",
    "    roc_auc[i] = roc_auc_score(y_test_binarized[:, i], y_pred_xgb[:, i])\n",
    "\n",
    "# Plot ROC curves\n",
    "plt.figure(figsize=(8, 6))\n",
    "for i in range(n_classes):\n",
    "    plt.plot(fpr[i], tpr[i], label=f'Class {i} (AUC = {roc_auc[i]:.2f})')\n",
    "\n",
    "plt.plot([0, 1], [0, 1], linestyle='--', color='gray', label='Random Guess')\n",
    "plt.xlabel('False Positive Rate (FPR)')\n",
    "plt.ylabel('True Positive Rate (TPR)')\n",
    "plt.title('ROC Curve - XGBoost (Multiclass)')\n",
    "plt.legend()\n",
    "plt.show()"
   ]
  },
  {
   "cell_type": "code",
   "execution_count": 13,
   "metadata": {},
   "outputs": [],
   "source": [
    "# import joblib\n",
    "\n",
    "# xgb_model_path = 'saved/xgb_model.joblib'   \n",
    "# joblib.dump(xgb, xgb_model_path)\n",
    "\n",
    "# target_bucket = 'mitrailabs-personaclassification'\n",
    "# target_prefix = 'risk_prediction/models'\n",
    "# model_path = f'{target_prefix}/xgb_model.joblib'\n",
    "# s3.upload_file(\n",
    "#     xgb_model_path,\n",
    "#     target_bucket,\n",
    "#     model_path\n",
    "# )\n",
    "xgb_model_path = 'saved/xgb_model.json'  # Use .json for XGBoost's native format\n",
    "xgb.save_model(xgb_model_path)  # Save in XGBoost's format\n",
    "\n",
    "target_bucket = 'mitrailabs-personaclassification'\n",
    "target_prefix = 'risk_prediction/models'\n",
    "model_path = f'{target_prefix}/xgb_model.json'\n",
    "\n",
    "s3.upload_file(\n",
    "    xgb_model_path,\n",
    "    target_bucket,\n",
    "    model_path\n",
    ")"
   ]
  },
  {
   "cell_type": "code",
   "execution_count": null,
   "metadata": {},
   "outputs": [],
   "source": []
  }
 ],
 "metadata": {
  "kernelspec": {
   "display_name": "Python 3 (ipykernel)",
   "language": "python",
   "name": "python3"
  },
  "language_info": {
   "codemirror_mode": {
    "name": "ipython",
    "version": 3
   },
   "file_extension": ".py",
   "mimetype": "text/x-python",
   "name": "python",
   "nbconvert_exporter": "python",
   "pygments_lexer": "ipython3",
   "version": "3.11.11"
  }
 },
 "nbformat": 4,
 "nbformat_minor": 2
}
