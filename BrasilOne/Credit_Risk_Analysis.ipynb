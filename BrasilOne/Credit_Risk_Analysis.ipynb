{
  "cells": [
    {
      "cell_type": "markdown",
      "metadata": {
        "id": "z4mj2zXAKMlp"
      },
      "source": [
        "# Credit Risk Analysis with Machine Learning\n",
        "\n",
        "\n",
        "\n",
        "### Predicting the risk of client default using XGBoost, LightGBM and CatBoost\n",
        "\n",
        "\n",
        "\n",
        "---\n",
        "\n",
        "**Credit risk** is associated with the possibility of a client failing to meet contractual obligations, such as mortgages, credit card debts, and other types of loans.\n",
        "\n",
        "Minimizing the risk of default is a major concern for financial institutions. For this reason, commercial and investment banks, venture capital funds, asset management companies and insurance firms, to name a few, are increasingly relying on technology to predict which clients are more prone to not honoring their debts.\n",
        "\n",
        "**Machine Learning** models have been helping these companies to improve the accuracy of their credit risk analysis, providing a scientific method to identify potential debtors in advance.\n",
        "\n",
        "In this article, we will build a model to predict the risk of client default for [Nubank](https://nubank.com.br/en/about-us/), a prominent Brazilian Fintech.\n"
      ]
    },
    {
      "cell_type": "markdown",
      "metadata": {
        "id": "xvcikpBBO3H4"
      },
      "source": [
        "## About the Data\n",
        "\n",
        "**Nubank** is a Brazilian digital bank and one of the largest Fintechs in Latin America. It is known to be a data-driven company, taking advantage of technology to make decisions and improve services. \n",
        "\n",
        "The data set can be downloaded [here](http://dl.dropboxusercontent.com/s/xn2a4kzf0zer0xu/acquisition_train.csv?dl=0). Some private information were hashed to keep the data anonymous.\n",
        "\n",
        "Let's import the libraries we'll need for the analysis and take a first look at our data frame."
      ]
    },
    {
      "cell_type": "code",
      "execution_count": 1,
      "metadata": {
        "colab": {
          "base_uri": "https://localhost:8080/",
          "height": 105
        },
        "id": "r2e18rxkIB_w",
        "outputId": "4662731d-0513-4ca5-a696-d22ba5dbbff5"
      },
      "outputs": [],
      "source": [
        "# import packages\n",
        "import pandas as pd\n",
        "import numpy as np\n",
        "import matplotlib as mpl\n",
        "import matplotlib.pyplot as plt\n",
        "import seaborn as sns\n",
        "\n",
        "from sklearn.impute import SimpleImputer\n",
        "from sklearn.preprocessing import LabelEncoder, StandardScaler\n",
        "from sklearn.model_selection import train_test_split, cross_validate, GridSearchCV, cross_val_score\n",
        "from imblearn.under_sampling import RandomUnderSampler\n",
        "from sklearn.metrics import accuracy_score, f1_score, confusion_matrix, classification_report\n",
        "from sklearn.pipeline import make_pipeline\n",
        "from sklearn.model_selection import StratifiedKFold\n",
        "from xgboost import XGBClassifier\n",
        "from lightgbm import LGBMClassifier\n",
        "from catboost import CatBoostClassifier\n",
        "\n",
        "# set the aesthetic style of the plots\n",
        "sns.set_style()\n",
        "\n",
        "# filter warning messages\n",
        "import warnings\n",
        "warnings.filterwarnings('ignore')"
      ]
    },
    {
      "cell_type": "code",
      "execution_count": 2,
      "metadata": {
        "id": "Pdi3mhoOJndi"
      },
      "outputs": [],
      "source": [
        "# set default matplotlib parameters\n",
        "COLOR = '#ababab'\n",
        "mpl.rcParams['figure.titlesize'] = 16\n",
        "mpl.rcParams['text.color'] = 'black'\n",
        "mpl.rcParams['axes.labelcolor'] = COLOR\n",
        "mpl.rcParams['xtick.color'] = COLOR\n",
        "mpl.rcParams['ytick.color'] = COLOR\n",
        "mpl.rcParams['grid.color'] = COLOR\n",
        "mpl.rcParams['grid.alpha'] = 0.1"
      ]
    },
    {
      "cell_type": "code",
      "execution_count": 3,
      "metadata": {
        "id": "3YdKF-HkK3ey"
      },
      "outputs": [],
      "source": [
        "# import data set and create a data frame\n",
        "df_credit = pd.read_csv('acquisition_train.csv')"
      ]
    },
    {
      "cell_type": "code",
      "execution_count": 4,
      "metadata": {
        "colab": {
          "base_uri": "https://localhost:8080/",
          "height": 615
        },
        "id": "Mi_5gjwaLBRH",
        "outputId": "0f0b49e2-348e-470b-c149-accc0db218dc"
      },
      "outputs": [
        {
          "data": {
            "text/html": [
              "<div>\n",
              "<style scoped>\n",
              "    .dataframe tbody tr th:only-of-type {\n",
              "        vertical-align: middle;\n",
              "    }\n",
              "\n",
              "    .dataframe tbody tr th {\n",
              "        vertical-align: top;\n",
              "    }\n",
              "\n",
              "    .dataframe thead th {\n",
              "        text-align: right;\n",
              "    }\n",
              "</style>\n",
              "<table border=\"1\" class=\"dataframe\">\n",
              "  <thead>\n",
              "    <tr style=\"text-align: right;\">\n",
              "      <th></th>\n",
              "      <th>ids</th>\n",
              "      <th>target_default</th>\n",
              "      <th>score_1</th>\n",
              "      <th>score_2</th>\n",
              "      <th>score_3</th>\n",
              "      <th>score_4</th>\n",
              "      <th>score_5</th>\n",
              "      <th>score_6</th>\n",
              "      <th>risk_rate</th>\n",
              "      <th>last_amount_borrowed</th>\n",
              "      <th>...</th>\n",
              "      <th>external_data_provider_fraud_score</th>\n",
              "      <th>lat_lon</th>\n",
              "      <th>marketing_channel</th>\n",
              "      <th>profile_phone_number</th>\n",
              "      <th>reported_income</th>\n",
              "      <th>shipping_state</th>\n",
              "      <th>shipping_zip_code</th>\n",
              "      <th>profile_tags</th>\n",
              "      <th>user_agent</th>\n",
              "      <th>target_fraud</th>\n",
              "    </tr>\n",
              "  </thead>\n",
              "  <tbody>\n",
              "    <tr>\n",
              "      <th>0</th>\n",
              "      <td>343b7e7b-2cf8-e508-b8fd-0a0285af30aa</td>\n",
              "      <td>False</td>\n",
              "      <td>1Rk8w4Ucd5yR3KcqZzLdow==</td>\n",
              "      <td>IOVu8au3ISbo6+zmfnYwMg==</td>\n",
              "      <td>350.0</td>\n",
              "      <td>101.800832</td>\n",
              "      <td>0.259555</td>\n",
              "      <td>108.427273</td>\n",
              "      <td>0.40</td>\n",
              "      <td>25033.92</td>\n",
              "      <td>...</td>\n",
              "      <td>645</td>\n",
              "      <td>(-29.151545708122246, -51.1386461804385)</td>\n",
              "      <td>Invite-email</td>\n",
              "      <td>514-9840782</td>\n",
              "      <td>57849.0</td>\n",
              "      <td>BR-MT</td>\n",
              "      <td>17528</td>\n",
              "      <td>{'tags': ['n19', 'n8']}</td>\n",
              "      <td>Mozilla/5.0 (Linux; Android 6.0.1; SGP771 Buil...</td>\n",
              "      <td>NaN</td>\n",
              "    </tr>\n",
              "    <tr>\n",
              "      <th>1</th>\n",
              "      <td>bc2c7502-bbad-0f8c-39c3-94e881967124</td>\n",
              "      <td>False</td>\n",
              "      <td>DGCQep2AE5QRkNCshIAlFQ==</td>\n",
              "      <td>SaamrHMo23l/3TwXOWgVzw==</td>\n",
              "      <td>370.0</td>\n",
              "      <td>97.062615</td>\n",
              "      <td>0.942655</td>\n",
              "      <td>92.002546</td>\n",
              "      <td>0.24</td>\n",
              "      <td>NaN</td>\n",
              "      <td>...</td>\n",
              "      <td>243</td>\n",
              "      <td>(-19.687710705798963, -47.94151536525154)</td>\n",
              "      <td>Radio-commercial</td>\n",
              "      <td>251-3659293</td>\n",
              "      <td>4902.0</td>\n",
              "      <td>BR-RS</td>\n",
              "      <td>40933</td>\n",
              "      <td>{'tags': ['n6', 'n7', 'nim']}</td>\n",
              "      <td>Mozilla/5.0 (Linux; Android 5.0.2; SAMSUNG SM-...</td>\n",
              "      <td>NaN</td>\n",
              "    </tr>\n",
              "    <tr>\n",
              "      <th>2</th>\n",
              "      <td>669630dd-2e6a-0396-84bf-455e5009c922</td>\n",
              "      <td>True</td>\n",
              "      <td>DGCQep2AE5QRkNCshIAlFQ==</td>\n",
              "      <td>Fv28Bz0YRTVAT5kl1bAV6g==</td>\n",
              "      <td>360.0</td>\n",
              "      <td>100.027073</td>\n",
              "      <td>0.351918</td>\n",
              "      <td>112.892453</td>\n",
              "      <td>0.29</td>\n",
              "      <td>7207.92</td>\n",
              "      <td>...</td>\n",
              "      <td>65</td>\n",
              "      <td>(-28.748023890412284, -51.867279334353995)</td>\n",
              "      <td>Waiting-list</td>\n",
              "      <td>230-6097993</td>\n",
              "      <td>163679.0</td>\n",
              "      <td>BR-RR</td>\n",
              "      <td>50985</td>\n",
              "      <td>{'tags': ['n0', 'n17', 'nim', 'da']}</td>\n",
              "      <td>Mozilla/5.0 (Linux; Android 6.0.1; SGP771 Buil...</td>\n",
              "      <td>NaN</td>\n",
              "    </tr>\n",
              "    <tr>\n",
              "      <th>3</th>\n",
              "      <td>d235609e-b6cb-0ccc-a329-d4f12e7ebdc1</td>\n",
              "      <td>False</td>\n",
              "      <td>1Rk8w4Ucd5yR3KcqZzLdow==</td>\n",
              "      <td>dCm9hFKfdRm7ej3jW+gyxw==</td>\n",
              "      <td>510.0</td>\n",
              "      <td>101.599485</td>\n",
              "      <td>0.987673</td>\n",
              "      <td>94.902491</td>\n",
              "      <td>0.32</td>\n",
              "      <td>NaN</td>\n",
              "      <td>...</td>\n",
              "      <td>815</td>\n",
              "      <td>(-17.520650158450454, -39.75801139933186)</td>\n",
              "      <td>Waiting-list</td>\n",
              "      <td>261-3543751</td>\n",
              "      <td>1086.0</td>\n",
              "      <td>BR-RN</td>\n",
              "      <td>37825</td>\n",
              "      <td>{'tags': ['n4']}</td>\n",
              "      <td>Mozilla/5.0 (Linux; Android 6.0; HTC One X10 B...</td>\n",
              "      <td>NaN</td>\n",
              "    </tr>\n",
              "    <tr>\n",
              "      <th>4</th>\n",
              "      <td>9e0eb880-e8f4-3faa-67d8-f5cdd2b3932b</td>\n",
              "      <td>False</td>\n",
              "      <td>8k8UDR4Yx0qasAjkGrUZLw==</td>\n",
              "      <td>+CxEO4w7jv3QPI/BQbyqAA==</td>\n",
              "      <td>500.0</td>\n",
              "      <td>98.474289</td>\n",
              "      <td>0.532539</td>\n",
              "      <td>118.126207</td>\n",
              "      <td>0.18</td>\n",
              "      <td>NaN</td>\n",
              "      <td>...</td>\n",
              "      <td>320</td>\n",
              "      <td>(-16.574259446978008, -39.90990074785962)</td>\n",
              "      <td>Invite-email</td>\n",
              "      <td>102-3660162</td>\n",
              "      <td>198618.0</td>\n",
              "      <td>BR-MT</td>\n",
              "      <td>52827</td>\n",
              "      <td>{'tags': ['pro+aty', 'n19', 'da', 'b19']}</td>\n",
              "      <td>Mozilla/5.0 (Linux; Android 7.0; Pixel C Build...</td>\n",
              "      <td>NaN</td>\n",
              "    </tr>\n",
              "  </tbody>\n",
              "</table>\n",
              "<p>5 rows × 43 columns</p>\n",
              "</div>"
            ],
            "text/plain": [
              "                                    ids target_default  \\\n",
              "0  343b7e7b-2cf8-e508-b8fd-0a0285af30aa          False   \n",
              "1  bc2c7502-bbad-0f8c-39c3-94e881967124          False   \n",
              "2  669630dd-2e6a-0396-84bf-455e5009c922           True   \n",
              "3  d235609e-b6cb-0ccc-a329-d4f12e7ebdc1          False   \n",
              "4  9e0eb880-e8f4-3faa-67d8-f5cdd2b3932b          False   \n",
              "\n",
              "                    score_1                   score_2  score_3     score_4  \\\n",
              "0  1Rk8w4Ucd5yR3KcqZzLdow==  IOVu8au3ISbo6+zmfnYwMg==    350.0  101.800832   \n",
              "1  DGCQep2AE5QRkNCshIAlFQ==  SaamrHMo23l/3TwXOWgVzw==    370.0   97.062615   \n",
              "2  DGCQep2AE5QRkNCshIAlFQ==  Fv28Bz0YRTVAT5kl1bAV6g==    360.0  100.027073   \n",
              "3  1Rk8w4Ucd5yR3KcqZzLdow==  dCm9hFKfdRm7ej3jW+gyxw==    510.0  101.599485   \n",
              "4  8k8UDR4Yx0qasAjkGrUZLw==  +CxEO4w7jv3QPI/BQbyqAA==    500.0   98.474289   \n",
              "\n",
              "    score_5     score_6  risk_rate  last_amount_borrowed  ...  \\\n",
              "0  0.259555  108.427273       0.40              25033.92  ...   \n",
              "1  0.942655   92.002546       0.24                   NaN  ...   \n",
              "2  0.351918  112.892453       0.29               7207.92  ...   \n",
              "3  0.987673   94.902491       0.32                   NaN  ...   \n",
              "4  0.532539  118.126207       0.18                   NaN  ...   \n",
              "\n",
              "   external_data_provider_fraud_score  \\\n",
              "0                                 645   \n",
              "1                                 243   \n",
              "2                                  65   \n",
              "3                                 815   \n",
              "4                                 320   \n",
              "\n",
              "                                      lat_lon marketing_channel  \\\n",
              "0    (-29.151545708122246, -51.1386461804385)      Invite-email   \n",
              "1   (-19.687710705798963, -47.94151536525154)  Radio-commercial   \n",
              "2  (-28.748023890412284, -51.867279334353995)      Waiting-list   \n",
              "3   (-17.520650158450454, -39.75801139933186)      Waiting-list   \n",
              "4   (-16.574259446978008, -39.90990074785962)      Invite-email   \n",
              "\n",
              "   profile_phone_number reported_income shipping_state shipping_zip_code  \\\n",
              "0           514-9840782         57849.0          BR-MT             17528   \n",
              "1           251-3659293          4902.0          BR-RS             40933   \n",
              "2           230-6097993        163679.0          BR-RR             50985   \n",
              "3           261-3543751          1086.0          BR-RN             37825   \n",
              "4           102-3660162        198618.0          BR-MT             52827   \n",
              "\n",
              "                                profile_tags  \\\n",
              "0                    {'tags': ['n19', 'n8']}   \n",
              "1              {'tags': ['n6', 'n7', 'nim']}   \n",
              "2       {'tags': ['n0', 'n17', 'nim', 'da']}   \n",
              "3                           {'tags': ['n4']}   \n",
              "4  {'tags': ['pro+aty', 'n19', 'da', 'b19']}   \n",
              "\n",
              "                                          user_agent target_fraud  \n",
              "0  Mozilla/5.0 (Linux; Android 6.0.1; SGP771 Buil...          NaN  \n",
              "1  Mozilla/5.0 (Linux; Android 5.0.2; SAMSUNG SM-...          NaN  \n",
              "2  Mozilla/5.0 (Linux; Android 6.0.1; SGP771 Buil...          NaN  \n",
              "3  Mozilla/5.0 (Linux; Android 6.0; HTC One X10 B...          NaN  \n",
              "4  Mozilla/5.0 (Linux; Android 7.0; Pixel C Build...          NaN  \n",
              "\n",
              "[5 rows x 43 columns]"
            ]
          },
          "execution_count": 4,
          "metadata": {},
          "output_type": "execute_result"
        }
      ],
      "source": [
        "# show first 5 rows\n",
        "df_credit.head()"
      ]
    },
    {
      "cell_type": "markdown",
      "metadata": {
        "id": "Np3JcdqEwLJo"
      },
      "source": [
        "## Data Analysis"
      ]
    },
    {
      "cell_type": "code",
      "execution_count": 5,
      "metadata": {
        "colab": {
          "base_uri": "https://localhost:8080/",
          "height": 51
        },
        "id": "SpcAweA0LkRQ",
        "outputId": "3ac63bf8-5149-40a6-ec5f-85dc021004d2"
      },
      "outputs": [
        {
          "name": "stdout",
          "output_type": "stream",
          "text": [
            "Number of rows:  45000\n",
            "Number of columns:  43\n"
          ]
        }
      ],
      "source": [
        "# data frame shape\n",
        "print('Number of rows: ', df_credit.shape[0])\n",
        "print('Number of columns: ', df_credit.shape[1])"
      ]
    },
    {
      "cell_type": "markdown",
      "metadata": {
        "id": "SQtM2Vk9ciGf"
      },
      "source": [
        "We are working with a data set containing 43 features for 45,000 clients. `target_default` is a True/False feature and is the target variable we are trying to predict. We'll explore all features searching for outliers, treating possible missing values, and making other necessary adjustments to improve the overall quality of the model.\n",
        "\n",
        "Let's examine the structure of the data set."
      ]
    },
    {
      "cell_type": "code",
      "execution_count": 6,
      "metadata": {
        "colab": {
          "base_uri": "https://localhost:8080/",
          "height": 867
        },
        "id": "OyC4gZGQMrlA",
        "outputId": "2600f0b1-8345-42f1-c089-fc0b4a476e62"
      },
      "outputs": [
        {
          "name": "stdout",
          "output_type": "stream",
          "text": [
            "<class 'pandas.core.frame.DataFrame'>\n",
            "RangeIndex: 45000 entries, 0 to 44999\n",
            "Data columns (total 43 columns):\n",
            " #   Column                                            Non-Null Count  Dtype  \n",
            "---  ------                                            --------------  -----  \n",
            " 0   ids                                               45000 non-null  object \n",
            " 1   target_default                                    41741 non-null  object \n",
            " 2   score_1                                           44438 non-null  object \n",
            " 3   score_2                                           44438 non-null  object \n",
            " 4   score_3                                           44438 non-null  float64\n",
            " 5   score_4                                           45000 non-null  float64\n",
            " 6   score_5                                           45000 non-null  float64\n",
            " 7   score_6                                           45000 non-null  float64\n",
            " 8   risk_rate                                         44438 non-null  float64\n",
            " 9   last_amount_borrowed                              15044 non-null  float64\n",
            " 10  last_borrowed_in_months                           15044 non-null  float64\n",
            " 11  credit_limit                                      31200 non-null  float64\n",
            " 12  reason                                            44434 non-null  object \n",
            " 13  income                                            44438 non-null  float64\n",
            " 14  facebook_profile                                  40542 non-null  object \n",
            " 15  state                                             44438 non-null  object \n",
            " 16  zip                                               44438 non-null  object \n",
            " 17  channel                                           44438 non-null  object \n",
            " 18  job_name                                          41664 non-null  object \n",
            " 19  real_state                                        44438 non-null  object \n",
            " 20  ok_since                                          18455 non-null  float64\n",
            " 21  n_bankruptcies                                    44303 non-null  float64\n",
            " 22  n_defaulted_loans                                 44426 non-null  float64\n",
            " 23  n_accounts                                        44438 non-null  float64\n",
            " 24  n_issues                                          33456 non-null  float64\n",
            " 25  application_time_applied                          45000 non-null  object \n",
            " 26  application_time_in_funnel                        45000 non-null  int64  \n",
            " 27  email                                             45000 non-null  object \n",
            " 28  external_data_provider_credit_checks_last_2_year  22372 non-null  float64\n",
            " 29  external_data_provider_credit_checks_last_month   45000 non-null  int64  \n",
            " 30  external_data_provider_credit_checks_last_year    29876 non-null  float64\n",
            " 31  external_data_provider_email_seen_before          42767 non-null  float64\n",
            " 32  external_data_provider_first_name                 45000 non-null  object \n",
            " 33  external_data_provider_fraud_score                45000 non-null  int64  \n",
            " 34  lat_lon                                           43637 non-null  object \n",
            " 35  marketing_channel                                 41422 non-null  object \n",
            " 36  profile_phone_number                              45000 non-null  object \n",
            " 37  reported_income                                   45000 non-null  float64\n",
            " 38  shipping_state                                    45000 non-null  object \n",
            " 39  shipping_zip_code                                 45000 non-null  int64  \n",
            " 40  profile_tags                                      45000 non-null  object \n",
            " 41  user_agent                                        44278 non-null  object \n",
            " 42  target_fraud                                      1522 non-null   object \n",
            "dtypes: float64(18), int64(4), object(21)\n",
            "memory usage: 14.8+ MB\n"
          ]
        }
      ],
      "source": [
        "# data frame summary\n",
        "df_credit.info()"
      ]
    },
    {
      "cell_type": "code",
      "execution_count": 7,
      "metadata": {},
      "outputs": [
        {
          "name": "stdout",
          "output_type": "stream",
          "text": [
            "Number of columns by data type:\n",
            "object     21\n",
            "float64    18\n",
            "int64       4\n",
            "Name: count, dtype: int64\n",
            "Float features: ['score_3', 'score_4', 'score_5', 'score_6', 'risk_rate', 'last_amount_borrowed', 'last_borrowed_in_months', 'credit_limit', 'income', 'ok_since', 'n_bankruptcies', 'n_defaulted_loans', 'n_accounts', 'n_issues', 'external_data_provider_credit_checks_last_2_year', 'external_data_provider_credit_checks_last_year', 'external_data_provider_email_seen_before', 'reported_income']\n",
            "Object features: ['ids', 'target_default', 'score_1', 'score_2', 'reason', 'facebook_profile', 'state', 'zip', 'channel', 'job_name', 'real_state', 'application_time_applied', 'email', 'external_data_provider_first_name', 'lat_lon', 'marketing_channel', 'profile_phone_number', 'shipping_state', 'profile_tags', 'user_agent', 'target_fraud']\n",
            "Integer features: ['application_time_in_funnel', 'external_data_provider_credit_checks_last_month', 'external_data_provider_fraud_score', 'shipping_zip_code']\n"
          ]
        }
      ],
      "source": [
        "# Assuming df_credit is your DataFrame\n",
        "\n",
        "# Count the number of columns for each data type\n",
        "dtype_counts = df_credit.dtypes.value_counts()\n",
        "\n",
        "# Print the results\n",
        "print(\"Number of columns by data type:\")\n",
        "print(dtype_counts)\n",
        "\n",
        "import pandas as pd\n",
        "\n",
        "# Assuming df_credit is your DataFrame\n",
        "\n",
        "# Get column names for each data type category\n",
        "float_features = df_credit.select_dtypes(include=['float']).columns\n",
        "object_features = df_credit.select_dtypes(include=['object']).columns\n",
        "int_features = df_credit.select_dtypes(include=['int']).columns\n",
        "\n",
        "# Print the feature names for each category\n",
        "print(\"Float features:\", list(float_features))\n",
        "print(\"Object features:\", list(object_features))\n",
        "print(\"Integer features:\", list(int_features))"
      ]
    },
    {
      "cell_type": "markdown",
      "metadata": {
        "id": "fpyUZFv6gGo5"
      },
      "source": [
        "We can see that some features have missing values. Let's take a closer look at them."
      ]
    },
    {
      "cell_type": "code",
      "execution_count": 8,
      "metadata": {
        "colab": {
          "base_uri": "https://localhost:8080/",
          "height": 765
        },
        "id": "vmSbv6uDxUMW",
        "outputId": "f2808c31-cbff-46b0-9409-752ec1d516f5"
      },
      "outputs": [
        {
          "name": "stdout",
          "output_type": "stream",
          "text": [
            "target_fraud                                        96.617778\n",
            "last_amount_borrowed                                66.568889\n",
            "last_borrowed_in_months                             66.568889\n",
            "ok_since                                            58.988889\n",
            "external_data_provider_credit_checks_last_2_year    50.284444\n",
            "external_data_provider_credit_checks_last_year      33.608889\n",
            "credit_limit                                        30.666667\n",
            "n_issues                                            25.653333\n",
            "facebook_profile                                     9.906667\n",
            "marketing_channel                                    7.951111\n",
            "job_name                                             7.413333\n",
            "target_default                                       7.242222\n",
            "external_data_provider_email_seen_before             4.962222\n",
            "lat_lon                                              3.028889\n",
            "user_agent                                           1.604444\n",
            "n_bankruptcies                                       1.548889\n",
            "n_defaulted_loans                                    1.275556\n",
            "reason                                               1.257778\n",
            "zip                                                  1.248889\n",
            "n_accounts                                           1.248889\n",
            "channel                                              1.248889\n",
            "score_1                                              1.248889\n",
            "score_3                                              1.248889\n",
            "risk_rate                                            1.248889\n",
            "income                                               1.248889\n",
            "real_state                                           1.248889\n",
            "state                                                1.248889\n",
            "score_2                                              1.248889\n",
            "profile_tags                                         0.000000\n",
            "shipping_zip_code                                    0.000000\n",
            "shipping_state                                       0.000000\n",
            "reported_income                                      0.000000\n",
            "profile_phone_number                                 0.000000\n",
            "external_data_provider_credit_checks_last_month      0.000000\n",
            "external_data_provider_fraud_score                   0.000000\n",
            "external_data_provider_first_name                    0.000000\n",
            "score_4                                              0.000000\n",
            "score_5                                              0.000000\n",
            "score_6                                              0.000000\n",
            "email                                                0.000000\n",
            "application_time_in_funnel                           0.000000\n",
            "application_time_applied                             0.000000\n",
            "ids                                                  0.000000\n",
            "dtype: float64\n"
          ]
        }
      ],
      "source": [
        "# percentage of missing values per feature\n",
        "print((df_credit.isnull().sum() * 100 / df_credit.shape[0]).sort_values(ascending=False))"
      ]
    },
    {
      "cell_type": "markdown",
      "metadata": {
        "id": "5VTCQffY7vgl"
      },
      "source": [
        "First of all, note that `target_default` has missing values. As this is our target variable, we don't have a lot of options here. So, we'll eliminate all entries where `target_default` is null."
      ]
    },
    {
      "cell_type": "code",
      "execution_count": 9,
      "metadata": {
        "id": "mxbr7IaD8eMp"
      },
      "outputs": [],
      "source": [
        "df_credit.dropna(subset=['target_default'], inplace=True)"
      ]
    },
    {
      "cell_type": "markdown",
      "metadata": {
        "id": "H3Bq5ewm3HoS"
      },
      "source": [
        "Observe that `target_fraud` has almost all its entries missing. As this feature is not crucial for the project, we are dropping it.\n",
        "\n",
        "Other variables also have a high rate of missing values, but we are not dealing with them by now."
      ]
    },
    {
      "cell_type": "code",
      "execution_count": 10,
      "metadata": {
        "id": "vBp0gcIa5UPn"
      },
      "outputs": [],
      "source": [
        "# drop the column \"target_fraud\"\n",
        "df_credit.drop('target_fraud', axis=1, inplace=True)"
      ]
    },
    {
      "cell_type": "markdown",
      "metadata": {
        "id": "c7D_K01l6C0g"
      },
      "source": [
        "Now, let's examine the number of unique values for each feature."
      ]
    },
    {
      "cell_type": "code",
      "execution_count": 11,
      "metadata": {
        "colab": {
          "base_uri": "https://localhost:8080/",
          "height": 748
        },
        "id": "kqiPrqiLNBlZ",
        "outputId": "ce7c47de-31f1-4af8-b792-f71a69cff8e5"
      },
      "outputs": [
        {
          "data": {
            "text/plain": [
              "channel                                                 1\n",
              "external_data_provider_credit_checks_last_2_year        1\n",
              "last_borrowed_in_months                                 2\n",
              "target_default                                          2\n",
              "facebook_profile                                        2\n",
              "external_data_provider_credit_checks_last_year          2\n",
              "external_data_provider_credit_checks_last_month         4\n",
              "real_state                                              5\n",
              "n_defaulted_loans                                       5\n",
              "email                                                   6\n",
              "n_bankruptcies                                          6\n",
              "score_1                                                 7\n",
              "marketing_channel                                       9\n",
              "shipping_state                                         25\n",
              "score_2                                                35\n",
              "n_issues                                               44\n",
              "n_accounts                                             44\n",
              "state                                                  50\n",
              "external_data_provider_email_seen_before               62\n",
              "risk_rate                                              81\n",
              "score_3                                                87\n",
              "ok_since                                              100\n",
              "user_agent                                            297\n",
              "application_time_in_funnel                            501\n",
              "zip                                                   823\n",
              "external_data_provider_fraud_score                   1001\n",
              "last_amount_borrowed                                13480\n",
              "reason                                              14260\n",
              "credit_limit                                        19336\n",
              "lat_lon                                             21596\n",
              "profile_tags                                        24458\n",
              "shipping_zip_code                                   26996\n",
              "job_name                                            30543\n",
              "external_data_provider_first_name                   31183\n",
              "application_time_applied                            33560\n",
              "reported_income                                     37368\n",
              "income                                              38849\n",
              "score_5                                             41741\n",
              "profile_phone_number                                41741\n",
              "score_4                                             41741\n",
              "score_6                                             41741\n",
              "ids                                                 41741\n",
              "dtype: int64"
            ]
          },
          "execution_count": 11,
          "metadata": {},
          "output_type": "execute_result"
        }
      ],
      "source": [
        "# number of unique observations per column\n",
        "df_credit.nunique().sort_values()"
      ]
    },
    {
      "cell_type": "markdown",
      "metadata": {
        "id": "pHagXXgk6qH2"
      },
      "source": [
        "The features `channel` and `external_data_provider_credit_checks_last_2_year` have only one value. As that won't be useful for the model, we can drop these two columns."
      ]
    },
    {
      "cell_type": "code",
      "execution_count": 12,
      "metadata": {
        "id": "wt-COKoy7ss-"
      },
      "outputs": [],
      "source": [
        "# drop the columns \"channel\" and \"external_data_provider_credit_checks_last_2_year\"\n",
        "df_credit.drop(labels=['channel', 'external_data_provider_credit_checks_last_2_year'], axis=1, inplace=True)"
      ]
    },
    {
      "cell_type": "markdown",
      "metadata": {
        "id": "nzBuiAbPwCjX"
      },
      "source": [
        "Moving on with the cleaning process, to keep the data set as adequate as possible we'll remove some other columns that are not adding value to the model. Some features, as `score_1` and `score_2`, are filled with hashed values. However, we are keeping these variables as they might be useful to our model."
      ]
    },
    {
      "cell_type": "code",
      "execution_count": 13,
      "metadata": {
        "id": "bOz4dipyzRXA"
      },
      "outputs": [],
      "source": [
        "df_credit.drop(labels=['email', 'reason', 'zip', 'job_name', 'external_data_provider_first_name', 'lat_lon',\n",
        "                       'shipping_zip_code', 'user_agent', 'profile_tags', 'marketing_channel',\n",
        "                       'profile_phone_number', 'application_time_applied', 'ids'], axis=1, inplace=True)"
      ]
    },
    {
      "cell_type": "markdown",
      "metadata": {
        "id": "51ouDd_A01ow"
      },
      "source": [
        "Ok, now we are working with a leaner data set. Before dealing with the missing values, let's examine if there are outliers in the data set. We'll start by taking a look at some statistical details of the numerical features."
      ]
    },
    {
      "cell_type": "code",
      "execution_count": 14,
      "metadata": {
        "colab": {
          "base_uri": "https://localhost:8080/",
          "height": 317
        },
        "id": "Ek56arC22N5i",
        "outputId": "2d9704a2-7edc-4a01-a895-ebbedfbc56b1"
      },
      "outputs": [
        {
          "data": {
            "text/html": [
              "<div>\n",
              "<style scoped>\n",
              "    .dataframe tbody tr th:only-of-type {\n",
              "        vertical-align: middle;\n",
              "    }\n",
              "\n",
              "    .dataframe tbody tr th {\n",
              "        vertical-align: top;\n",
              "    }\n",
              "\n",
              "    .dataframe thead th {\n",
              "        text-align: right;\n",
              "    }\n",
              "</style>\n",
              "<table border=\"1\" class=\"dataframe\">\n",
              "  <thead>\n",
              "    <tr style=\"text-align: right;\">\n",
              "      <th></th>\n",
              "      <th>score_3</th>\n",
              "      <th>score_4</th>\n",
              "      <th>score_5</th>\n",
              "      <th>score_6</th>\n",
              "      <th>risk_rate</th>\n",
              "      <th>last_amount_borrowed</th>\n",
              "      <th>last_borrowed_in_months</th>\n",
              "      <th>credit_limit</th>\n",
              "      <th>income</th>\n",
              "      <th>ok_since</th>\n",
              "      <th>n_bankruptcies</th>\n",
              "      <th>n_defaulted_loans</th>\n",
              "      <th>n_accounts</th>\n",
              "      <th>n_issues</th>\n",
              "      <th>application_time_in_funnel</th>\n",
              "      <th>external_data_provider_credit_checks_last_month</th>\n",
              "      <th>external_data_provider_credit_checks_last_year</th>\n",
              "      <th>external_data_provider_email_seen_before</th>\n",
              "      <th>external_data_provider_fraud_score</th>\n",
              "      <th>reported_income</th>\n",
              "    </tr>\n",
              "  </thead>\n",
              "  <tbody>\n",
              "    <tr>\n",
              "      <th>count</th>\n",
              "      <td>41741.000000</td>\n",
              "      <td>41741.000000</td>\n",
              "      <td>41741.000000</td>\n",
              "      <td>41741.000000</td>\n",
              "      <td>41741.000000</td>\n",
              "      <td>14133.000000</td>\n",
              "      <td>14133.000000</td>\n",
              "      <td>28632.000000</td>\n",
              "      <td>4.174100e+04</td>\n",
              "      <td>17276.000000</td>\n",
              "      <td>41606.000000</td>\n",
              "      <td>41729.000000</td>\n",
              "      <td>41741.000000</td>\n",
              "      <td>30818.000000</td>\n",
              "      <td>41741.000000</td>\n",
              "      <td>41741.000000</td>\n",
              "      <td>27720.000000</td>\n",
              "      <td>39656.000000</td>\n",
              "      <td>41741.000000</td>\n",
              "      <td>41741.0</td>\n",
              "    </tr>\n",
              "    <tr>\n",
              "      <th>mean</th>\n",
              "      <td>346.459836</td>\n",
              "      <td>100.006820</td>\n",
              "      <td>0.499416</td>\n",
              "      <td>99.919399</td>\n",
              "      <td>0.294451</td>\n",
              "      <td>13328.104095</td>\n",
              "      <td>40.588410</td>\n",
              "      <td>33877.220453</td>\n",
              "      <td>7.108012e+04</td>\n",
              "      <td>35.192174</td>\n",
              "      <td>0.076696</td>\n",
              "      <td>0.004625</td>\n",
              "      <td>10.639108</td>\n",
              "      <td>11.023882</td>\n",
              "      <td>247.748545</td>\n",
              "      <td>1.504396</td>\n",
              "      <td>0.504185</td>\n",
              "      <td>12.731188</td>\n",
              "      <td>500.491771</td>\n",
              "      <td>inf</td>\n",
              "    </tr>\n",
              "    <tr>\n",
              "      <th>std</th>\n",
              "      <td>110.102271</td>\n",
              "      <td>3.183821</td>\n",
              "      <td>0.288085</td>\n",
              "      <td>10.022703</td>\n",
              "      <td>0.101561</td>\n",
              "      <td>7918.698433</td>\n",
              "      <td>9.437936</td>\n",
              "      <td>36141.985884</td>\n",
              "      <td>5.225978e+04</td>\n",
              "      <td>21.629577</td>\n",
              "      <td>0.274820</td>\n",
              "      <td>0.080157</td>\n",
              "      <td>4.588175</td>\n",
              "      <td>4.596036</td>\n",
              "      <td>146.326172</td>\n",
              "      <td>1.114207</td>\n",
              "      <td>0.499992</td>\n",
              "      <td>125.711218</td>\n",
              "      <td>287.993121</td>\n",
              "      <td>NaN</td>\n",
              "    </tr>\n",
              "    <tr>\n",
              "      <th>min</th>\n",
              "      <td>0.000000</td>\n",
              "      <td>86.191572</td>\n",
              "      <td>0.000035</td>\n",
              "      <td>60.663039</td>\n",
              "      <td>0.000000</td>\n",
              "      <td>1005.180000</td>\n",
              "      <td>36.000000</td>\n",
              "      <td>0.000000</td>\n",
              "      <td>4.821180e+03</td>\n",
              "      <td>0.000000</td>\n",
              "      <td>0.000000</td>\n",
              "      <td>0.000000</td>\n",
              "      <td>0.000000</td>\n",
              "      <td>0.000000</td>\n",
              "      <td>0.000000</td>\n",
              "      <td>0.000000</td>\n",
              "      <td>0.000000</td>\n",
              "      <td>-999.000000</td>\n",
              "      <td>0.000000</td>\n",
              "      <td>403.0</td>\n",
              "    </tr>\n",
              "    <tr>\n",
              "      <th>25%</th>\n",
              "      <td>270.000000</td>\n",
              "      <td>97.862546</td>\n",
              "      <td>0.251595</td>\n",
              "      <td>93.182517</td>\n",
              "      <td>0.220000</td>\n",
              "      <td>7210.280000</td>\n",
              "      <td>36.000000</td>\n",
              "      <td>9975.000000</td>\n",
              "      <td>4.401958e+04</td>\n",
              "      <td>17.000000</td>\n",
              "      <td>0.000000</td>\n",
              "      <td>0.000000</td>\n",
              "      <td>7.000000</td>\n",
              "      <td>8.000000</td>\n",
              "      <td>120.000000</td>\n",
              "      <td>1.000000</td>\n",
              "      <td>0.000000</td>\n",
              "      <td>11.000000</td>\n",
              "      <td>252.000000</td>\n",
              "      <td>50910.0</td>\n",
              "    </tr>\n",
              "    <tr>\n",
              "      <th>50%</th>\n",
              "      <td>340.000000</td>\n",
              "      <td>100.017950</td>\n",
              "      <td>0.500174</td>\n",
              "      <td>99.977774</td>\n",
              "      <td>0.290000</td>\n",
              "      <td>12011.050000</td>\n",
              "      <td>36.000000</td>\n",
              "      <td>25213.000000</td>\n",
              "      <td>6.004409e+04</td>\n",
              "      <td>32.000000</td>\n",
              "      <td>0.000000</td>\n",
              "      <td>0.000000</td>\n",
              "      <td>10.000000</td>\n",
              "      <td>10.000000</td>\n",
              "      <td>248.000000</td>\n",
              "      <td>2.000000</td>\n",
              "      <td>1.000000</td>\n",
              "      <td>27.000000</td>\n",
              "      <td>502.000000</td>\n",
              "      <td>101623.0</td>\n",
              "    </tr>\n",
              "    <tr>\n",
              "      <th>75%</th>\n",
              "      <td>420.000000</td>\n",
              "      <td>102.143100</td>\n",
              "      <td>0.747630</td>\n",
              "      <td>106.630991</td>\n",
              "      <td>0.360000</td>\n",
              "      <td>18030.160000</td>\n",
              "      <td>36.000000</td>\n",
              "      <td>46492.500000</td>\n",
              "      <td>8.503289e+04</td>\n",
              "      <td>50.000000</td>\n",
              "      <td>0.000000</td>\n",
              "      <td>0.000000</td>\n",
              "      <td>13.000000</td>\n",
              "      <td>14.000000</td>\n",
              "      <td>375.000000</td>\n",
              "      <td>2.000000</td>\n",
              "      <td>1.000000</td>\n",
              "      <td>43.000000</td>\n",
              "      <td>747.000000</td>\n",
              "      <td>151248.0</td>\n",
              "    </tr>\n",
              "    <tr>\n",
              "      <th>max</th>\n",
              "      <td>990.000000</td>\n",
              "      <td>113.978234</td>\n",
              "      <td>0.999973</td>\n",
              "      <td>142.192400</td>\n",
              "      <td>0.900000</td>\n",
              "      <td>35059.600000</td>\n",
              "      <td>60.000000</td>\n",
              "      <td>448269.000000</td>\n",
              "      <td>5.000028e+06</td>\n",
              "      <td>141.000000</td>\n",
              "      <td>5.000000</td>\n",
              "      <td>5.000000</td>\n",
              "      <td>49.000000</td>\n",
              "      <td>49.000000</td>\n",
              "      <td>500.000000</td>\n",
              "      <td>3.000000</td>\n",
              "      <td>1.000000</td>\n",
              "      <td>59.000000</td>\n",
              "      <td>1000.000000</td>\n",
              "      <td>inf</td>\n",
              "    </tr>\n",
              "  </tbody>\n",
              "</table>\n",
              "</div>"
            ],
            "text/plain": [
              "            score_3       score_4       score_5       score_6     risk_rate  \\\n",
              "count  41741.000000  41741.000000  41741.000000  41741.000000  41741.000000   \n",
              "mean     346.459836    100.006820      0.499416     99.919399      0.294451   \n",
              "std      110.102271      3.183821      0.288085     10.022703      0.101561   \n",
              "min        0.000000     86.191572      0.000035     60.663039      0.000000   \n",
              "25%      270.000000     97.862546      0.251595     93.182517      0.220000   \n",
              "50%      340.000000    100.017950      0.500174     99.977774      0.290000   \n",
              "75%      420.000000    102.143100      0.747630    106.630991      0.360000   \n",
              "max      990.000000    113.978234      0.999973    142.192400      0.900000   \n",
              "\n",
              "       last_amount_borrowed  last_borrowed_in_months   credit_limit  \\\n",
              "count          14133.000000             14133.000000   28632.000000   \n",
              "mean           13328.104095                40.588410   33877.220453   \n",
              "std             7918.698433                 9.437936   36141.985884   \n",
              "min             1005.180000                36.000000       0.000000   \n",
              "25%             7210.280000                36.000000    9975.000000   \n",
              "50%            12011.050000                36.000000   25213.000000   \n",
              "75%            18030.160000                36.000000   46492.500000   \n",
              "max            35059.600000                60.000000  448269.000000   \n",
              "\n",
              "             income      ok_since  n_bankruptcies  n_defaulted_loans  \\\n",
              "count  4.174100e+04  17276.000000    41606.000000       41729.000000   \n",
              "mean   7.108012e+04     35.192174        0.076696           0.004625   \n",
              "std    5.225978e+04     21.629577        0.274820           0.080157   \n",
              "min    4.821180e+03      0.000000        0.000000           0.000000   \n",
              "25%    4.401958e+04     17.000000        0.000000           0.000000   \n",
              "50%    6.004409e+04     32.000000        0.000000           0.000000   \n",
              "75%    8.503289e+04     50.000000        0.000000           0.000000   \n",
              "max    5.000028e+06    141.000000        5.000000           5.000000   \n",
              "\n",
              "         n_accounts      n_issues  application_time_in_funnel  \\\n",
              "count  41741.000000  30818.000000                41741.000000   \n",
              "mean      10.639108     11.023882                  247.748545   \n",
              "std        4.588175      4.596036                  146.326172   \n",
              "min        0.000000      0.000000                    0.000000   \n",
              "25%        7.000000      8.000000                  120.000000   \n",
              "50%       10.000000     10.000000                  248.000000   \n",
              "75%       13.000000     14.000000                  375.000000   \n",
              "max       49.000000     49.000000                  500.000000   \n",
              "\n",
              "       external_data_provider_credit_checks_last_month  \\\n",
              "count                                     41741.000000   \n",
              "mean                                          1.504396   \n",
              "std                                           1.114207   \n",
              "min                                           0.000000   \n",
              "25%                                           1.000000   \n",
              "50%                                           2.000000   \n",
              "75%                                           2.000000   \n",
              "max                                           3.000000   \n",
              "\n",
              "       external_data_provider_credit_checks_last_year  \\\n",
              "count                                    27720.000000   \n",
              "mean                                         0.504185   \n",
              "std                                          0.499992   \n",
              "min                                          0.000000   \n",
              "25%                                          0.000000   \n",
              "50%                                          1.000000   \n",
              "75%                                          1.000000   \n",
              "max                                          1.000000   \n",
              "\n",
              "       external_data_provider_email_seen_before  \\\n",
              "count                              39656.000000   \n",
              "mean                                  12.731188   \n",
              "std                                  125.711218   \n",
              "min                                 -999.000000   \n",
              "25%                                   11.000000   \n",
              "50%                                   27.000000   \n",
              "75%                                   43.000000   \n",
              "max                                   59.000000   \n",
              "\n",
              "       external_data_provider_fraud_score  reported_income  \n",
              "count                        41741.000000          41741.0  \n",
              "mean                           500.491771              inf  \n",
              "std                            287.993121              NaN  \n",
              "min                              0.000000            403.0  \n",
              "25%                            252.000000          50910.0  \n",
              "50%                            502.000000         101623.0  \n",
              "75%                            747.000000         151248.0  \n",
              "max                           1000.000000              inf  "
            ]
          },
          "execution_count": 14,
          "metadata": {},
          "output_type": "execute_result"
        }
      ],
      "source": [
        "# show descriptive statistics\n",
        "df_credit.describe()"
      ]
    },
    {
      "cell_type": "code",
      "execution_count": 15,
      "metadata": {
        "colab": {
          "base_uri": "https://localhost:8080/",
          "height": 34
        },
        "id": "5pTsx5iXmXTr",
        "outputId": "10f54c29-bb7c-4a27-8ce9-fb10892d3414"
      },
      "outputs": [
        {
          "data": {
            "text/plain": [
              "66"
            ]
          },
          "execution_count": 15,
          "metadata": {},
          "output_type": "execute_result"
        }
      ],
      "source": [
        "# count of \"inf\" values in \"reported_income\"\n",
        "np.isinf(df_credit['reported_income']).sum()"
      ]
    },
    {
      "cell_type": "code",
      "execution_count": 16,
      "metadata": {
        "colab": {
          "base_uri": "https://localhost:8080/",
          "height": 51
        },
        "id": "hOPxu8Yon5h4",
        "outputId": "eef7134e-3365-4345-f060-8f384176276c"
      },
      "outputs": [
        {
          "data": {
            "text/plain": [
              "external_data_provider_email_seen_before\n",
              "-999.0    591\n",
              "Name: count, dtype: int64"
            ]
          },
          "execution_count": 16,
          "metadata": {},
          "output_type": "execute_result"
        }
      ],
      "source": [
        "# count of values = -999 in \"external_data_provider_email_seen_before\"\n",
        "df_credit.loc[df_credit['external_data_provider_email_seen_before'] == -999, 'external_data_provider_email_seen_before'].value_counts()"
      ]
    },
    {
      "cell_type": "markdown",
      "metadata": {
        "id": "K_XJ59l-hgNb"
      },
      "source": [
        "First of all, when examining the statistics above, we noticed that `reported_income` has 66 values displayed as \"inf\". Additionally, we have 591 values of `external_data_provider_email_seen_before` displayed as *-999*. We'll replace these values with NaN, so we can plot histograms to visualize the values' distributions."
      ]
    },
    {
      "cell_type": "code",
      "execution_count": 17,
      "metadata": {
        "id": "DDjTEbzIl4t6"
      },
      "outputs": [],
      "source": [
        "# replace \"inf\" values with \"nan\"\n",
        "df_credit['reported_income'] = df_credit['reported_income'].replace(np.inf, np.nan)\n",
        "\n",
        "# replace \"-999\" values with \"nan\"\n",
        "df_credit.loc[df_credit['external_data_provider_email_seen_before'] == -999, 'external_data_provider_email_seen_before'] = np.nan"
      ]
    },
    {
      "cell_type": "markdown",
      "metadata": {
        "id": "xK7Yydw43vKM"
      },
      "source": [
        "A new data frame, containing numerical features of interest, will be created. Plotting a histogram for these features will helps us examine their distribution."
      ]
    },
    {
      "cell_type": "code",
      "execution_count": 18,
      "metadata": {
        "id": "Jsa1en1km4dd"
      },
      "outputs": [],
      "source": [
        "# data frame containing numerical features\n",
        "df_credit_numerical = df_credit[['score_3', 'risk_rate', 'last_amount_borrowed', \n",
        "                                 'last_borrowed_in_months', 'credit_limit', 'income', 'ok_since', \n",
        "                                 'n_bankruptcies', 'n_defaulted_loans', 'n_accounts', 'n_issues', \n",
        "                                 'external_data_provider_email_seen_before']]"
      ]
    },
    {
      "cell_type": "code",
      "execution_count": 19,
      "metadata": {
        "colab": {
          "base_uri": "https://localhost:8080/",
          "height": 937
        },
        "id": "qPu5gDp0m9Tt",
        "outputId": "b3710c1f-76d7-4461-fe9c-c6852c2521cf"
      },
      "outputs": [
        {
          "data": {
            "image/png": "[encoded data removed]",
            "text/plain": [
              "<Figure size 2500x1600 with 12 Axes>"
            ]
          },
          "metadata": {},
          "output_type": "display_data"
        }
      ],
      "source": [
        "# plot a histogram for each of the features above \n",
        "\n",
        "nrows = 3\n",
        "ncols = 4\n",
        "\n",
        "fig, ax = plt.subplots(nrows=nrows, ncols=ncols, figsize=(25, 16))\n",
        "\n",
        "r = 0\n",
        "c = 0\n",
        "\n",
        "for i in df_credit_numerical:\n",
        "  sns.distplot(df_credit_numerical[i], bins=15,kde=False, ax=ax[r][c])\n",
        "  if c == ncols - 1:\n",
        "    r += 1\n",
        "    c = 0\n",
        "  else:\n",
        "    c += 1\n",
        "\n",
        "plt.show()"
      ]
    },
    {
      "cell_type": "markdown",
      "metadata": {
        "id": "Ep1BXSQv47vB"
      },
      "source": [
        "All these features above have missing values that need to be treated. As we can see, they have skewed distribution, which is an indication that we should fill the missing values with the median value for each feature.\n",
        "\n",
        "It's time to deal with the missing values from the remaining 32 columns. We are filling these values according to the particularities of each feature, as below:\n",
        "\n",
        "\n",
        "\n",
        "*   Categorical variables will be filled with the most recurrent value.\n",
        "*   Numerical variables will be filled with their median values.\n",
        "*   In the specific cases of `last_amount_borrowed`, `last_borrowed_in_months` and `n_issues` we'll fill the missing values with zero, as it is reasonable to believe that not every client would have values assigned to these variables.\n",
        "\n"
      ]
    },
    {
      "cell_type": "code",
      "execution_count": 20,
      "metadata": {},
      "outputs": [
        {
          "data": {
            "text/plain": [
              "target_default                                         2\n",
              "external_data_provider_credit_checks_last_year         2\n",
              "facebook_profile                                       2\n",
              "last_borrowed_in_months                                2\n",
              "external_data_provider_credit_checks_last_month        4\n",
              "n_defaulted_loans                                      5\n",
              "real_state                                             5\n",
              "n_bankruptcies                                         6\n",
              "score_1                                                7\n",
              "shipping_state                                        25\n",
              "score_2                                               35\n",
              "n_accounts                                            44\n",
              "n_issues                                              44\n",
              "state                                                 50\n",
              "external_data_provider_email_seen_before              61\n",
              "risk_rate                                             81\n",
              "score_3                                               87\n",
              "ok_since                                             100\n",
              "application_time_in_funnel                           501\n",
              "external_data_provider_fraud_score                  1001\n",
              "last_amount_borrowed                               13480\n",
              "credit_limit                                       19336\n",
              "reported_income                                    37367\n",
              "income                                             38849\n",
              "score_6                                            41741\n",
              "score_5                                            41741\n",
              "score_4                                            41741\n",
              "dtype: int64"
            ]
          },
          "execution_count": 20,
          "metadata": {},
          "output_type": "execute_result"
        }
      ],
      "source": [
        "df_credit.nunique().sort_values()"
      ]
    },
    {
      "cell_type": "code",
      "execution_count": 21,
      "metadata": {
        "id": "4W7aQ5V8FWLF"
      },
      "outputs": [],
      "source": [
        "df_credit_num = df_credit.select_dtypes(exclude='object').columns\n",
        "df_credit_cat = df_credit.select_dtypes(include='object').columns\n",
        "\n",
        "# fill missing values for \"last_amount_borrowed\", \"last_borrowed_in_months\" and \"n_issues\"\n",
        "df_credit['last_amount_borrowed'].fillna(value=0, inplace=True)\n",
        "df_credit['last_borrowed_in_months'].fillna(value=0, inplace=True)\n",
        "df_credit['n_issues'].fillna(value=0, inplace=True)\n",
        "\n",
        "# fill missing values for numerical variables\n",
        "nimputer = SimpleImputer(missing_values=np.nan, strategy='median')\n",
        "nimputer = nimputer.fit(df_credit.loc[:, df_credit_num])\n",
        "df_credit.loc[:, df_credit_num] = nimputer.transform(df_credit.loc[:, df_credit_num])\n",
        "\n",
        "\n",
        "# fill missing values for categorical variables\n",
        "cimputer = SimpleImputer(missing_values=np.nan, strategy='most_frequent')\n",
        "cimputer = cimputer.fit(df_credit.loc[:, df_credit_cat])\n",
        "df_credit.loc[:, df_credit_cat] = cimputer.transform(df_credit.loc[:, df_credit_cat])\n"
      ]
    },
    {
      "cell_type": "markdown",
      "metadata": {},
      "source": [
        "## Between Numerical and Catogorical filling we need to do the feature importance"
      ]
    },
    {
      "cell_type": "code",
      "execution_count": 22,
      "metadata": {},
      "outputs": [
        {
          "name": "stdout",
          "output_type": "stream",
          "text": [
            "    score_3   score_4   score_5   score_6  risk_rate  last_amount_borrowed  \\\n",
            "0  0.353535  0.561754  0.259535  0.585853   0.444444              0.714039   \n",
            "1  0.373737  0.391232  0.942678  0.384395   0.266667              0.000000   \n",
            "2  0.363636  0.497919  0.351904  0.640621   0.322222              0.205590   \n",
            "3  0.515152  0.554508  0.987699  0.419965   0.355556              0.000000   \n",
            "4  0.505051  0.442036  0.532537  0.704816   0.200000              0.000000   \n",
            "\n",
            "   last_borrowed_in_months  credit_limit    income  ok_since  ...  \\\n",
            "0                      0.6      0.000000  0.012050   0.22695  ...   \n",
            "1                      0.0      0.088621  0.019058   0.35461  ...   \n",
            "2                      0.6      0.056245  0.012052   0.22695  ...   \n",
            "3                      0.0      0.121782  0.012814   0.22695  ...   \n",
            "4                      0.0      0.056245  0.011049   0.22695  ...   \n",
            "\n",
            "   external_data_provider_email_seen_before  \\\n",
            "0                                  0.866667   \n",
            "1                                  0.300000   \n",
            "2                                  0.166667   \n",
            "3                                  0.650000   \n",
            "4                                  0.783333   \n",
            "\n",
            "   external_data_provider_fraud_score  reported_income  target_default  \\\n",
            "0                               0.645     9.038785e-12             0.0   \n",
            "1                               0.243     7.078908e-13             0.0   \n",
            "2                               0.065     2.569050e-11             1.0   \n",
            "3                               0.815     1.074660e-13             0.0   \n",
            "4                               0.320     3.118795e-11             0.0   \n",
            "\n",
            "    score_1   score_2  facebook_profile     state  real_state  shipping_state  \n",
            "0  0.181165  0.193467          0.238321  0.136666    0.147915        0.161480  \n",
            "1  0.116603  0.132917          0.120118  0.153306    0.147915        0.128368  \n",
            "2  0.116603  0.100309          0.120118  0.150190    0.173175        0.221777  \n",
            "3  0.181165  0.208456          0.120118  0.128889    0.173175        0.150662  \n",
            "4  0.231838  0.253831          0.238321  0.153306    0.173175        0.161480  \n",
            "\n",
            "[5 rows x 27 columns]\n"
          ]
        }
      ],
      "source": [
        "from sklearn.compose import ColumnTransformer\n",
        "from sklearn.preprocessing import MinMaxScaler, FunctionTransformer\n",
        "from sklearn.pipeline import Pipeline\n",
        "import pandas as pd\n",
        "import numpy as np\n",
        "\n",
        "# Custom function for target encoding\n",
        "def target_encode(X, y=None):\n",
        "    if y is None:\n",
        "        raise ValueError(\"Target variable 'y' must be provided for target encoding.\")\n",
        "    \n",
        "    # Calculate mean of target for each category\n",
        "    encoded_X = X.copy()\n",
        "    for col in encoded_X.columns:\n",
        "        encoded_X[col] = encoded_X[col].map(y.groupby(X[col]).mean())\n",
        "    \n",
        "    # Fill NaN values (for categories not seen during fitting)\n",
        "    encoded_X = encoded_X.fillna(y.mean())\n",
        "    \n",
        "    return encoded_X\n",
        "\n",
        "# Copy the original DataFrame\n",
        "df_credit_2 = df_credit.copy()\n",
        "\n",
        "# Separate numerical and categorical columns\n",
        "numerical_cols = df_credit_2.select_dtypes(include=['float64', 'int64']).columns.tolist()\n",
        "categorical_cols = df_credit_2.select_dtypes(include=['object']).columns.tolist()\n",
        "# print(df_credit_2.head(1))\n",
        "# Ensure y is a Pandas Series\n",
        "y = df_credit_2[\"target_default\"]  # Target variable\n",
        "\n",
        "# Define preprocessing steps\n",
        "preprocessor = ColumnTransformer(\n",
        "    transformers=[\n",
        "        ('num', MinMaxScaler(), numerical_cols),  # Normalize numerical columns\n",
        "        ('cat', FunctionTransformer(target_encode, kw_args={'y': y}), categorical_cols)  # Target encode categorical columns\n",
        "    ]\n",
        ")\n",
        "\n",
        "# Apply preprocessing\n",
        "X_processed = preprocessor.fit_transform(df_credit_2)\n",
        "\n",
        "# Convert back to DataFrame\n",
        "processed_columns = numerical_cols + categorical_cols\n",
        "X_processed = pd.DataFrame(X_processed, columns=processed_columns)\n",
        "\n",
        "# Drop the target column from the final feature set\n",
        "# X_processed = X_processed.drop(labels=[\"target_default\"], axis=1, errors='ignore')\n",
        "\n",
        "# Display the processed DataFrame\n",
        "print(X_processed.head())"
      ]
    },
    {
      "cell_type": "code",
      "execution_count": 23,
      "metadata": {},
      "outputs": [
        {
          "name": "stdout",
          "output_type": "stream",
          "text": [
            "Top 27 most important features:\n",
            "Index(['target_default', 'score_2', 'shipping_state', 'n_defaulted_loans',\n",
            "       'score_4', 'score_5', 'score_6', 'risk_rate', 'last_amount_borrowed',\n",
            "       'last_borrowed_in_months', 'credit_limit', 'income', 'ok_since',\n",
            "       'n_bankruptcies', 'n_issues', 'n_accounts', 'real_state',\n",
            "       'application_time_in_funnel',\n",
            "       'external_data_provider_credit_checks_last_month',\n",
            "       'external_data_provider_credit_checks_last_year',\n",
            "       'external_data_provider_email_seen_before',\n",
            "       'external_data_provider_fraud_score', 'reported_income', 'score_1',\n",
            "       'facebook_profile', 'state', 'score_3'],\n",
            "      dtype='object')\n"
          ]
        }
      ],
      "source": [
        "import xgboost as xgb\n",
        "import numpy as np\n",
        "import pandas as pd\n",
        "import matplotlib.pyplot as plt\n",
        "\n",
        "# Train XGBoost model on encoded data\n",
        "model = xgb.XGBClassifier(use_label_encoder=False, eval_metric=\"logloss\")\n",
        "model.fit(X_processed, y)\n",
        "\n",
        "# Get feature importances\n",
        "importances = model.feature_importances_\n",
        "features = X_processed.columns\n",
        "\n",
        "# Sort and visualize feature importances\n",
        "sorted_indices = np.argsort(importances)[::-1]\n",
        "\n",
        "sorted_features = features[sorted_indices]\n",
        "sorted_importances = importances[sorted_indices]\n",
        "\n",
        "# plt.figure(figsize=(10, 6))\n",
        "# plt.bar(range(len(importances)), importances[sorted_indices], tick_label=np.array(features)[sorted_indices])\n",
        "# plt.xticks(rotation=90)\n",
        "# plt.xlabel(\"Features\")\n",
        "# plt.ylabel(\"Importance Score\")\n",
        "# plt.title(\"Feature Importance\")\n",
        "# plt.show()\n",
        "\n",
        "\n",
        "# Select top N most important features\n",
        "top_n = 27  # Change this to the desired number of features\n",
        "top_features = sorted_features[:top_n]\n",
        "print(\"Top\", top_n, \"most important features:\")\n",
        "print(top_features)\n",
        "\n",
        "\n",
        "X_processed_top_features = X_processed[top_features]"
      ]
    },
    {
      "cell_type": "code",
      "execution_count": 24,
      "metadata": {},
      "outputs": [
        {
          "data": {
            "image/png": "[encoded data removed]",
            "text/plain": [
              "<Figure size 1000x600 with 1 Axes>"
            ]
          },
          "metadata": {},
          "output_type": "display_data"
        }
      ],
      "source": [
        "from sklearn.cluster import KMeans\n",
        "import matplotlib.pyplot as plt\n",
        "\n",
        "# Calculate WCSS for different values of k\n",
        "wcss = []\n",
        "max_clusters = 10  # Maximum number of clusters to try\n",
        "for k in range(1, max_clusters + 1):\n",
        "    kmeans = KMeans(n_clusters=k, random_state=42)\n",
        "    kmeans.fit(X_processed_top_features)\n",
        "    wcss.append(kmeans.inertia_)  # Inertia is the WCSS\n",
        "\n",
        "# Plot the Elbow Method graph\n",
        "plt.figure(figsize=(10, 6))\n",
        "plt.plot(range(1, max_clusters + 1), wcss, marker='o', linestyle='--')\n",
        "plt.xlabel('Number of Clusters (k)')\n",
        "plt.ylabel('Within-Cluster-Sum of Squared Errors (WCSS)')\n",
        "plt.title('Elbow Method for Optimal k')\n",
        "plt.xticks(range(1, max_clusters + 1))\n",
        "plt.grid()\n",
        "plt.show()"
      ]
    },
    {
      "cell_type": "code",
      "execution_count": 25,
      "metadata": {},
      "outputs": [
        {
          "name": "stdout",
          "output_type": "stream",
          "text": [
            "Top 27 most important features:\n",
            "Index(['target_default', 'score_2', 'score_1', 'facebook_profile', 'risk_rate',\n",
            "       'external_data_provider_email_seen_before', 'shipping_state', 'state',\n",
            "       'score_3', 'income', 'real_state', 'n_issues',\n",
            "       'application_time_in_funnel', 'last_borrowed_in_months',\n",
            "       'last_amount_borrowed', 'n_accounts', 'n_bankruptcies',\n",
            "       'external_data_provider_credit_checks_last_year', 'credit_limit',\n",
            "       'ok_since', 'score_5',\n",
            "       'external_data_provider_credit_checks_last_month', 'score_4',\n",
            "       'n_defaulted_loans', 'score_6', 'reported_income',\n",
            "       'external_data_provider_fraud_score'],\n",
            "      dtype='object')\n"
          ]
        }
      ],
      "source": [
        "from sklearn.feature_selection import SelectKBest, f_classif\n",
        "import matplotlib.pyplot as plt\n",
        "import numpy as np\n",
        "\n",
        "# Apply SelectKBest\n",
        "selector = SelectKBest(score_func=f_classif, k=\"all\")  # Get scores for all features\n",
        "selector.fit(X_processed, y)\n",
        "\n",
        "# Get feature scores\n",
        "feature_scores = selector.scores_\n",
        "feature_names = X_processed.columns\n",
        "\n",
        "# Sort features by importance\n",
        "sorted_indices = np.argsort(feature_scores)[::-1]\n",
        "sorted_scores = feature_scores[sorted_indices]\n",
        "sorted_names = feature_names[sorted_indices]\n",
        "\n",
        "# # Plot feature importance\n",
        "# plt.figure(figsize=(12, 6))\n",
        "# plt.bar(range(len(sorted_scores)), sorted_scores, tick_label=sorted_names)\n",
        "# plt.xticks(rotation=90)\n",
        "# plt.xlabel(\"Features\")\n",
        "# plt.ylabel(\"F-Score\")\n",
        "# plt.title(\"Feature Importance (F-Score)\")\n",
        "# plt.show()\n",
        "\n",
        "\n",
        "\n",
        "# Select top N most important features\n",
        "# top_n = 45645  # Change this to the desired number of features\n",
        "top_features = sorted_names[:top_n]\n",
        "print(\"Top\", top_n, \"most important features:\")\n",
        "print(top_features)\n",
        "\n",
        "\n",
        "X_processed_top_features = X_processed[top_features]\n"
      ]
    },
    {
      "cell_type": "code",
      "execution_count": 26,
      "metadata": {},
      "outputs": [
        {
          "data": {
            "image/png": "[encoded data removed]",
            "text/plain": [
              "<Figure size 1000x600 with 1 Axes>"
            ]
          },
          "metadata": {},
          "output_type": "display_data"
        }
      ],
      "source": [
        "from sklearn.cluster import KMeans\n",
        "import matplotlib.pyplot as plt\n",
        "\n",
        "# Calculate WCSS for different values of k\n",
        "wcss = []\n",
        "max_clusters = 10  # Maximum number of clusters to try\n",
        "for k in range(1, max_clusters + 1):\n",
        "    kmeans = KMeans(n_clusters=k, random_state=42)\n",
        "    kmeans.fit(X_processed_top_features)\n",
        "    wcss.append(kmeans.inertia_)  # Inertia is the WCSS\n",
        "\n",
        "# Plot the Elbow Method graph\n",
        "plt.figure(figsize=(10, 6))\n",
        "plt.plot(range(1, max_clusters + 1), wcss, marker='o', linestyle='--')\n",
        "plt.xlabel('Number of Clusters (k)')\n",
        "plt.ylabel('Within-Cluster-Sum of Squared Errors (WCSS)')\n",
        "plt.title('Elbow Method for Optimal k')\n",
        "plt.xticks(range(1, max_clusters + 1))\n",
        "plt.grid()\n",
        "plt.show()"
      ]
    },
    {
      "cell_type": "markdown",
      "metadata": {},
      "source": [
        "## END\n"
      ]
    },
    {
      "cell_type": "code",
      "execution_count": 27,
      "metadata": {
        "colab": {
          "base_uri": "https://localhost:8080/",
          "height": 493
        },
        "id": "eTLevtutGZRf",
        "outputId": "fa5cf42f-4bb2-46dd-c302-89a467449234"
      },
      "outputs": [
        {
          "data": {
            "text/plain": [
              "target_default                                     0\n",
              "score_1                                            0\n",
              "score_2                                            0\n",
              "score_3                                            0\n",
              "score_4                                            0\n",
              "score_5                                            0\n",
              "score_6                                            0\n",
              "risk_rate                                          0\n",
              "last_amount_borrowed                               0\n",
              "last_borrowed_in_months                            0\n",
              "credit_limit                                       0\n",
              "income                                             0\n",
              "facebook_profile                                   0\n",
              "state                                              0\n",
              "real_state                                         0\n",
              "ok_since                                           0\n",
              "n_bankruptcies                                     0\n",
              "n_defaulted_loans                                  0\n",
              "n_accounts                                         0\n",
              "n_issues                                           0\n",
              "application_time_in_funnel                         0\n",
              "external_data_provider_credit_checks_last_month    0\n",
              "external_data_provider_credit_checks_last_year     0\n",
              "external_data_provider_email_seen_before           0\n",
              "external_data_provider_fraud_score                 0\n",
              "reported_income                                    0\n",
              "shipping_state                                     0\n",
              "dtype: int64"
            ]
          },
          "execution_count": 27,
          "metadata": {},
          "output_type": "execute_result"
        }
      ],
      "source": [
        "df_credit.isnull().sum()"
      ]
    },
    {
      "cell_type": "markdown",
      "metadata": {
        "id": "iGvQSjDvLPEK"
      },
      "source": [
        "After handling the missing values, case by case, we now have a data set free of null values.\n",
        "\n",
        "We'll now preprocess the data, converting the categorical features into numerical values. `LabelEncoder` will be used for the binary variables while `get_dummies` will be used for the other categorical variables."
      ]
    },
    {
      "cell_type": "code",
      "execution_count": 28,
      "metadata": {
        "colab": {
          "base_uri": "https://localhost:8080/",
          "height": 270
        },
        "id": "jcf9fa2letgD",
        "outputId": "72220418-b070-4894-9991-2011e348677a"
      },
      "outputs": [],
      "source": [
        "# bin_var = df_credit.nunique()[df_credit.nunique() == 2].keys().tolist()\n",
        "# num_var = [col for col in df_credit.select_dtypes(['int', 'float']).columns.tolist() if col not in bin_var]\n",
        "# cat_var = [col for col in df_credit.select_dtypes(['object']).columns.tolist() if col not in bin_var]\n",
        "\n",
        "# df_credit_encoded = df_credit.copy()\n",
        "  \n",
        "# # label encoding for the binary variables\n",
        "# le = LabelEncoder()\n",
        "# for col in bin_var:\n",
        "#   df_credit_encoded[col] = le.fit_transform(df_credit_encoded[col])\n",
        "\n",
        "# # encoding with get_dummies for the categorical variables\n",
        "# df_credit_encoded = pd.get_dummies(df_credit_encoded, columns=cat_var)\n",
        "\n",
        "# df_credit_encoded.head()\n",
        "# df_transposed = df_credit_encoded.head()\n",
        "\n",
        "# # Display the transposed DataFrame\n",
        "# print(df_transposed)\n",
        "\n",
        "# # Iterate through each column (originally rows) and inspect the data\n",
        "# for column_name, column_data in df_transposed.items():\n",
        "#     print(f\"\\nColumn: {column_name}\")\n",
        "#     print(column_data)"
      ]
    },
    {
      "cell_type": "markdown",
      "metadata": {
        "id": "Ab7Ri3xX6D3_"
      },
      "source": [
        "After encoding the categorical variables, let's start working on the machine learning models."
      ]
    },
    {
      "cell_type": "markdown",
      "metadata": {},
      "source": [
        "## clustering"
      ]
    },
    {
      "cell_type": "code",
      "execution_count": 29,
      "metadata": {},
      "outputs": [
        {
          "data": {
            "text/html": [
              "<div>\n",
              "<style scoped>\n",
              "    .dataframe tbody tr th:only-of-type {\n",
              "        vertical-align: middle;\n",
              "    }\n",
              "\n",
              "    .dataframe tbody tr th {\n",
              "        vertical-align: top;\n",
              "    }\n",
              "\n",
              "    .dataframe thead th {\n",
              "        text-align: right;\n",
              "    }\n",
              "</style>\n",
              "<table border=\"1\" class=\"dataframe\">\n",
              "  <thead>\n",
              "    <tr style=\"text-align: right;\">\n",
              "      <th></th>\n",
              "      <th>score_3</th>\n",
              "      <th>score_4</th>\n",
              "      <th>score_5</th>\n",
              "      <th>score_6</th>\n",
              "      <th>risk_rate</th>\n",
              "      <th>last_amount_borrowed</th>\n",
              "      <th>last_borrowed_in_months</th>\n",
              "      <th>credit_limit</th>\n",
              "      <th>income</th>\n",
              "      <th>ok_since</th>\n",
              "      <th>...</th>\n",
              "      <th>external_data_provider_fraud_score</th>\n",
              "      <th>reported_income</th>\n",
              "      <th>target_default</th>\n",
              "      <th>score_1</th>\n",
              "      <th>score_2</th>\n",
              "      <th>facebook_profile</th>\n",
              "      <th>state</th>\n",
              "      <th>real_state</th>\n",
              "      <th>shipping_state</th>\n",
              "      <th>Cluster</th>\n",
              "    </tr>\n",
              "  </thead>\n",
              "  <tbody>\n",
              "    <tr>\n",
              "      <th>0</th>\n",
              "      <td>0.353535</td>\n",
              "      <td>0.561754</td>\n",
              "      <td>0.259535</td>\n",
              "      <td>0.585853</td>\n",
              "      <td>0.444444</td>\n",
              "      <td>0.714039</td>\n",
              "      <td>0.6</td>\n",
              "      <td>0.000000</td>\n",
              "      <td>0.012050</td>\n",
              "      <td>0.22695</td>\n",
              "      <td>...</td>\n",
              "      <td>0.645</td>\n",
              "      <td>9.038785e-12</td>\n",
              "      <td>0.0</td>\n",
              "      <td>0.181165</td>\n",
              "      <td>0.193467</td>\n",
              "      <td>0.238321</td>\n",
              "      <td>0.136666</td>\n",
              "      <td>0.147915</td>\n",
              "      <td>0.161480</td>\n",
              "      <td>3</td>\n",
              "    </tr>\n",
              "    <tr>\n",
              "      <th>1</th>\n",
              "      <td>0.373737</td>\n",
              "      <td>0.391232</td>\n",
              "      <td>0.942678</td>\n",
              "      <td>0.384395</td>\n",
              "      <td>0.266667</td>\n",
              "      <td>0.000000</td>\n",
              "      <td>0.0</td>\n",
              "      <td>0.088621</td>\n",
              "      <td>0.019058</td>\n",
              "      <td>0.35461</td>\n",
              "      <td>...</td>\n",
              "      <td>0.243</td>\n",
              "      <td>7.078908e-13</td>\n",
              "      <td>0.0</td>\n",
              "      <td>0.116603</td>\n",
              "      <td>0.132917</td>\n",
              "      <td>0.120118</td>\n",
              "      <td>0.153306</td>\n",
              "      <td>0.147915</td>\n",
              "      <td>0.128368</td>\n",
              "      <td>2</td>\n",
              "    </tr>\n",
              "    <tr>\n",
              "      <th>2</th>\n",
              "      <td>0.363636</td>\n",
              "      <td>0.497919</td>\n",
              "      <td>0.351904</td>\n",
              "      <td>0.640621</td>\n",
              "      <td>0.322222</td>\n",
              "      <td>0.205590</td>\n",
              "      <td>0.6</td>\n",
              "      <td>0.056245</td>\n",
              "      <td>0.012052</td>\n",
              "      <td>0.22695</td>\n",
              "      <td>...</td>\n",
              "      <td>0.065</td>\n",
              "      <td>2.569050e-11</td>\n",
              "      <td>1.0</td>\n",
              "      <td>0.116603</td>\n",
              "      <td>0.100309</td>\n",
              "      <td>0.120118</td>\n",
              "      <td>0.150190</td>\n",
              "      <td>0.173175</td>\n",
              "      <td>0.221777</td>\n",
              "      <td>4</td>\n",
              "    </tr>\n",
              "    <tr>\n",
              "      <th>3</th>\n",
              "      <td>0.515152</td>\n",
              "      <td>0.554508</td>\n",
              "      <td>0.987699</td>\n",
              "      <td>0.419965</td>\n",
              "      <td>0.355556</td>\n",
              "      <td>0.000000</td>\n",
              "      <td>0.0</td>\n",
              "      <td>0.121782</td>\n",
              "      <td>0.012814</td>\n",
              "      <td>0.22695</td>\n",
              "      <td>...</td>\n",
              "      <td>0.815</td>\n",
              "      <td>1.074660e-13</td>\n",
              "      <td>0.0</td>\n",
              "      <td>0.181165</td>\n",
              "      <td>0.208456</td>\n",
              "      <td>0.120118</td>\n",
              "      <td>0.128889</td>\n",
              "      <td>0.173175</td>\n",
              "      <td>0.150662</td>\n",
              "      <td>0</td>\n",
              "    </tr>\n",
              "    <tr>\n",
              "      <th>4</th>\n",
              "      <td>0.505051</td>\n",
              "      <td>0.442036</td>\n",
              "      <td>0.532537</td>\n",
              "      <td>0.704816</td>\n",
              "      <td>0.200000</td>\n",
              "      <td>0.000000</td>\n",
              "      <td>0.0</td>\n",
              "      <td>0.056245</td>\n",
              "      <td>0.011049</td>\n",
              "      <td>0.22695</td>\n",
              "      <td>...</td>\n",
              "      <td>0.320</td>\n",
              "      <td>3.118795e-11</td>\n",
              "      <td>0.0</td>\n",
              "      <td>0.231838</td>\n",
              "      <td>0.253831</td>\n",
              "      <td>0.238321</td>\n",
              "      <td>0.153306</td>\n",
              "      <td>0.173175</td>\n",
              "      <td>0.161480</td>\n",
              "      <td>1</td>\n",
              "    </tr>\n",
              "  </tbody>\n",
              "</table>\n",
              "<p>5 rows × 28 columns</p>\n",
              "</div>"
            ],
            "text/plain": [
              "    score_3   score_4   score_5   score_6  risk_rate  last_amount_borrowed  \\\n",
              "0  0.353535  0.561754  0.259535  0.585853   0.444444              0.714039   \n",
              "1  0.373737  0.391232  0.942678  0.384395   0.266667              0.000000   \n",
              "2  0.363636  0.497919  0.351904  0.640621   0.322222              0.205590   \n",
              "3  0.515152  0.554508  0.987699  0.419965   0.355556              0.000000   \n",
              "4  0.505051  0.442036  0.532537  0.704816   0.200000              0.000000   \n",
              "\n",
              "   last_borrowed_in_months  credit_limit    income  ok_since  ...  \\\n",
              "0                      0.6      0.000000  0.012050   0.22695  ...   \n",
              "1                      0.0      0.088621  0.019058   0.35461  ...   \n",
              "2                      0.6      0.056245  0.012052   0.22695  ...   \n",
              "3                      0.0      0.121782  0.012814   0.22695  ...   \n",
              "4                      0.0      0.056245  0.011049   0.22695  ...   \n",
              "\n",
              "   external_data_provider_fraud_score  reported_income  target_default  \\\n",
              "0                               0.645     9.038785e-12             0.0   \n",
              "1                               0.243     7.078908e-13             0.0   \n",
              "2                               0.065     2.569050e-11             1.0   \n",
              "3                               0.815     1.074660e-13             0.0   \n",
              "4                               0.320     3.118795e-11             0.0   \n",
              "\n",
              "    score_1   score_2  facebook_profile     state  real_state  shipping_state  \\\n",
              "0  0.181165  0.193467          0.238321  0.136666    0.147915        0.161480   \n",
              "1  0.116603  0.132917          0.120118  0.153306    0.147915        0.128368   \n",
              "2  0.116603  0.100309          0.120118  0.150190    0.173175        0.221777   \n",
              "3  0.181165  0.208456          0.120118  0.128889    0.173175        0.150662   \n",
              "4  0.231838  0.253831          0.238321  0.153306    0.173175        0.161480   \n",
              "\n",
              "   Cluster  \n",
              "0        3  \n",
              "1        2  \n",
              "2        4  \n",
              "3        0  \n",
              "4        1  \n",
              "\n",
              "[5 rows x 28 columns]"
            ]
          },
          "execution_count": 29,
          "metadata": {},
          "output_type": "execute_result"
        }
      ],
      "source": [
        "from sklearn.cluster import KMeans\n",
        "\n",
        "# Perform K-Means clustering on normalized data\n",
        "kmeans = KMeans(n_clusters=5, random_state=42)\n",
        "clusters = kmeans.fit_predict(X_processed)\n",
        "\n",
        "# Add cluster labels to the original dataset\n",
        "X_processed['Cluster'] = clusters\n",
        "\n",
        "# Display the clustered data\n",
        "(X_processed.head())"
      ]
    },
    {
      "cell_type": "code",
      "execution_count": 30,
      "metadata": {},
      "outputs": [
        {
          "name": "stdout",
          "output_type": "stream",
          "text": [
            "          score_3   score_4   score_5   score_6  risk_rate  \\\n",
            "Cluster                                                      \n",
            "0        0.349246  0.497544  0.497896  0.482677   0.325453   \n",
            "1        0.347994  0.497866  0.500329  0.480444   0.320622   \n",
            "2        0.346972  0.494014  0.498275  0.481408   0.320847   \n",
            "3        0.344910  0.497554  0.504569  0.482501   0.322709   \n",
            "4        0.361980  0.497746  0.496381  0.481006   0.352231   \n",
            "\n",
            "         last_amount_borrowed  last_borrowed_in_months  credit_limit  \\\n",
            "Cluster                                                                \n",
            "0                    0.240642                 0.421884      0.070967   \n",
            "1                    0.037161                 0.070660      0.068969   \n",
            "2                    0.131519                 0.230968      0.070541   \n",
            "3                    0.128713                 0.231794      0.068640   \n",
            "4                    0.137480                 0.245549      0.068181   \n",
            "\n",
            "           income  ok_since  ...  external_data_provider_email_seen_before  \\\n",
            "Cluster                      ...                                             \n",
            "0        0.013443  0.237223  ...                                  0.495783   \n",
            "1        0.013488  0.236172  ...                                  0.489733   \n",
            "2        0.013480  0.236801  ...                                  0.497086   \n",
            "3        0.013417  0.235950  ...                                  0.491551   \n",
            "4        0.012226  0.235142  ...                                  0.436036   \n",
            "\n",
            "         external_data_provider_fraud_score  reported_income  target_default  \\\n",
            "Cluster                                                                        \n",
            "0                                  0.500237         0.001668             0.0   \n",
            "1                                  0.498251         0.001356             0.0   \n",
            "2                                  0.502154         0.001726             0.0   \n",
            "3                                  0.504203         0.002403             0.0   \n",
            "4                                  0.500656         0.001501             1.0   \n",
            "\n",
            "          score_1   score_2  facebook_profile     state  real_state  \\\n",
            "Cluster                                                               \n",
            "0        0.154497  0.154216          0.155985  0.159555    0.159362   \n",
            "1        0.150266  0.149241          0.156179  0.158936    0.159509   \n",
            "2        0.151172  0.150891          0.155214  0.159031    0.159134   \n",
            "3        0.152985  0.152653          0.155690  0.158759    0.159420   \n",
            "4        0.198990  0.201996          0.179051  0.162092    0.160578   \n",
            "\n",
            "         shipping_state  \n",
            "Cluster                  \n",
            "0              0.159023  \n",
            "1              0.158902  \n",
            "2              0.159265  \n",
            "3              0.159135  \n",
            "4              0.162442  \n",
            "\n",
            "[5 rows x 27 columns]\n"
          ]
        }
      ],
      "source": [
        "import pandas as pd\n",
        "\n",
        "# Assuming 'Cluster' column contains the cluster labels\n",
        "cluster_summary = X_processed.groupby('Cluster').mean()  # Use .median() for median values\n",
        "df_normalized = X_processed\n",
        "# Display the cluster summary\n",
        "print(cluster_summary)"
      ]
    },
    {
      "cell_type": "code",
      "execution_count": 31,
      "metadata": {},
      "outputs": [
        {
          "name": "stdout",
          "output_type": "stream",
          "text": [
            "                                            Feature       F-Score  \\\n",
            "20                                   target_default           inf   \n",
            "16   external_data_provider_credit_checks_last_year  5.601853e+04   \n",
            "15  external_data_provider_credit_checks_last_month  8.282978e+03   \n",
            "6                           last_borrowed_in_months  1.902934e+03   \n",
            "5                              last_amount_borrowed  1.363536e+03   \n",
            "22                                          score_2  5.608681e+02   \n",
            "21                                          score_1  5.182933e+02   \n",
            "23                                 facebook_profile  2.478203e+02   \n",
            "4                                         risk_rate  1.016901e+02   \n",
            "17         external_data_provider_email_seen_before  5.552689e+01   \n",
            "26                                   shipping_state  3.598917e+01   \n",
            "24                                            state  3.328280e+01   \n",
            "0                                           score_3  2.469904e+01   \n",
            "8                                            income  1.960699e+01   \n",
            "25                                       real_state  1.332399e+01   \n",
            "14                       application_time_in_funnel  6.837560e+00   \n",
            "13                                         n_issues  6.403000e+00   \n",
            "12                                       n_accounts  3.129920e+00   \n",
            "7                                      credit_limit  2.635119e+00   \n",
            "10                                   n_bankruptcies  2.450002e+00   \n",
            "1                                           score_4  1.306653e+00   \n",
            "11                                n_defaulted_loans  9.900546e-01   \n",
            "2                                           score_5  7.775391e-01   \n",
            "19                                  reported_income  7.022463e-01   \n",
            "3                                           score_6  6.026441e-01   \n",
            "9                                          ok_since  5.059570e-01   \n",
            "18               external_data_provider_fraud_score  4.934823e-01   \n",
            "\n",
            "          P-Value  \n",
            "20   0.000000e+00  \n",
            "16   0.000000e+00  \n",
            "15   0.000000e+00  \n",
            "6    0.000000e+00  \n",
            "5    0.000000e+00  \n",
            "22   0.000000e+00  \n",
            "21   0.000000e+00  \n",
            "23  8.880294e-211  \n",
            "4    2.552706e-86  \n",
            "17   8.810108e-47  \n",
            "26   4.525986e-30  \n",
            "24   9.232041e-28  \n",
            "0    1.876936e-20  \n",
            "8    3.882832e-16  \n",
            "25   7.506562e-11  \n",
            "14   1.695245e-05  \n",
            "13   3.801465e-05  \n",
            "12   1.388701e-02  \n",
            "7    3.225859e-02  \n",
            "10   4.395138e-02  \n",
            "1    2.648453e-01  \n",
            "11   4.114292e-01  \n",
            "2    5.395700e-01  \n",
            "19   5.902874e-01  \n",
            "3    6.607189e-01  \n",
            "9    7.313762e-01  \n",
            "18   7.405541e-01  \n"
          ]
        }
      ],
      "source": [
        "from sklearn.feature_selection import f_classif\n",
        "\n",
        "# Perform ANOVA F-test\n",
        "df_normalized.drop(columns=['target_default'])\n",
        "X = df_normalized.drop(columns=['Cluster'])\n",
        "y = df_normalized['Cluster']\n",
        "\n",
        "f_scores, p_values = f_classif(X, y)\n",
        "\n",
        "# Create a DataFrame to display results\n",
        "feature_importance = pd.DataFrame({\n",
        "    'Feature': X.columns,\n",
        "    'F-Score': f_scores,\n",
        "    'P-Value': p_values\n",
        "})\n",
        "\n",
        "# Sort by F-Score (higher F-Score means more important)\n",
        "feature_importance = feature_importance.sort_values(by='F-Score', ascending=False)\n",
        "\n",
        "print(feature_importance)"
      ]
    },
    {
      "cell_type": "markdown",
      "metadata": {
        "id": "HvEsMakWhtTI"
      },
      "source": [
        "## Machine Learning Models\n",
        "\n",
        "We are experimenting with the following 3 boosting algorithms to determine which one yields better results:\n",
        "\n",
        "\n",
        "*   XGBoost\n",
        "*   LightGBM\n",
        "*   CatBoost\n",
        "\n",
        "Before starting with the models, let's split the data into training and test sets."
      ]
    },
    {
      "cell_type": "code",
      "execution_count": 32,
      "metadata": {
        "id": "IQ8UrfZehwXy"
      },
      "outputs": [
        {
          "name": "stdout",
          "output_type": "stream",
          "text": [
            "29218 12523\n"
          ]
        }
      ],
      "source": [
        "X_train, X_test, y_train, y_test = train_test_split(X, y, shuffle=True, stratify=y, test_size=0.3)\n",
        "print(len(X_train), len(X_test))"
      ]
    },
    {
      "cell_type": "markdown",
      "metadata": {
        "id": "CrXJ_oq9kWvt"
      },
      "source": [
        "Now, as we are dealing with an unbalanced data set, we'll standardize and resample the training set, with `StandardScaler` and `RandomUnderSampler`, respectively."
      ]
    },
    {
      "cell_type": "code",
      "execution_count": 33,
      "metadata": {
        "id": "9aDtXu1QkWVP"
      },
      "outputs": [],
      "source": [
        "# standardize numerical variables\n",
        "scaler = StandardScaler().fit(X_train)\n",
        "X_train = scaler.transform(X_train)\n",
        "\n",
        "# resample\n",
        "rus = RandomUnderSampler()\n",
        "X_train_rus, y_train_rus = rus.fit_resample(X_train, y_train)"
      ]
    },
    {
      "cell_type": "markdown",
      "metadata": {
        "id": "TGr9-k-Trmon"
      },
      "source": [
        "We're all set up to start evaluating the models. It's worth mentioning that we should consider `Precision`, `Recall` and `F1 Score` as evaluation metrics, for the following reasons:\n",
        "\n",
        "\n",
        "*   **Precision** will give us the proportion of positive identifications that were indeed correct. It can be defined as:\n",
        "\n",
        "${Precision} = \\frac{True Positives}{True Positives + False Positives}$\n"
      ]
    },
    {
      "cell_type": "markdown",
      "metadata": {
        "id": "C8AzKdAmvkwo"
      },
      "source": [
        "*   **Recall** will determine the proportion of real positives that were \n",
        "correctly identified, and it can be defined as:\n",
        "\n",
        "${Recall} = \\frac{True Positives}{True Positives + False Negatives}$"
      ]
    },
    {
      "cell_type": "markdown",
      "metadata": {
        "id": "OS2Zm-eFqZSI"
      },
      "source": [
        "*   **F1 Score** is a metric that is useful when we need to seek a balance between precision and recall. The formula is defined as:\n",
        "\n",
        "${F_1} = 2 \\times \\frac{Precision \\times Recall}{Precision + Recall}$\n"
      ]
    },
    {
      "cell_type": "markdown",
      "metadata": {
        "id": "8rNT4D3UvnDj"
      },
      "source": [
        "Since our objective is to minimize company loss, predicting the risk of client default, a good recall rate is desirable because we want to identify the maximum amount of clients that are indeed prone to stop paying their debts, thus, we are pursuing a small number of *False Negatives*.\n",
        "\n",
        "Additionally, we also seek to minimize the number of False Positives because we don't want clients to be mistakenly identified as defaulters. Therefore, a good precision rate is also desirable.\n",
        "\n",
        "However, there is always a tradeoff between precision and recall. For this article, we chose to give more emphasis to recall, using it as our evaluation metric. "
      ]
    },
    {
      "cell_type": "markdown",
      "metadata": {
        "id": "n4r3506Z683V"
      },
      "source": [
        "We'll use Cross-Validation to get better results. Instead of simply splitting the data into a train and test set, the cross_validate method splits our training data into k number of Folds, making better use of the data. In our case, we'll perform 5-fold cross-validation, as we let the default k value."
      ]
    },
    {
      "cell_type": "code",
      "execution_count": 34,
      "metadata": {
        "id": "kr_9E204htR5"
      },
      "outputs": [],
      "source": [
        "# define the function val_model\n",
        "def val_model(X, y, clf, show=True):\n",
        "    \"\"\"\n",
        "    Apply cross-validation on the training set.\n",
        "\n",
        "    # Arguments\n",
        "        X: DataFrame containing the independent variables.\n",
        "        y: Series containing the target vector.\n",
        "        clf: Scikit-learn estimator instance.\n",
        "        \n",
        "    # Returns\n",
        "        float, mean value of the cross-validation scores.\n",
        "    \"\"\"\n",
        "    \n",
        "    X = np.array(X)\n",
        "    y = np.array(y)\n",
        "\n",
        "    pipeline = make_pipeline(StandardScaler(), clf)\n",
        "    scores = cross_val_score(pipeline, X, y, scoring='recall')\n",
        "\n",
        "    if show == True:\n",
        "        print(f'Recall: {scores.mean()}, {scores.std()}')\n",
        "    \n",
        "    return scores.mean()"
      ]
    },
    {
      "cell_type": "markdown",
      "metadata": {
        "id": "i60QLJ4vLhy7"
      },
      "source": [
        "Notice that all three models yielded similar results. We'll now tune some hyperparameters on the models to see if we can achieve higher score values. The method utilized here is `GridSearchCV`, which will search over specified parameter values for each estimator."
      ]
    },
    {
      "cell_type": "markdown",
      "metadata": {
        "id": "bjyzBN1liixm"
      },
      "source": [
        "### XGBoost\n",
        "\n",
        "Let's start by making some adjustments to the XGBoost estimator. XGBoost is known for being one of the most effective Machine Learning algorithms, due to its good performance on structured and tabular datasets on classification and regression predictive modeling problems. It is highly customizable and counts with a large range of hyperparameters to be tuned.\n",
        "\n",
        "For the XGBoost model, we'll tune the following hyperparameters, according to [the official documentation](https://xgboost.readthedocs.io/en/latest/parameter.html):\n",
        "\n",
        "\n",
        "*   `n_estimators` - The number of trees in the model\n",
        "*   `max_depth` - Maximum depth of a tree\n",
        "*   `min_child_weight` - Minimum sum of instance weight needed in a child\n",
        "*   `gamma` - Minimum loss reduction required to make a further partition on a leaf node of the tree\n",
        "*   `learning_rate` - Step size shrinkage used in the update to prevents overfitting"
      ]
    },
    {
      "cell_type": "code",
      "execution_count": 35,
      "metadata": {
        "colab": {
          "base_uri": "https://localhost:8080/",
          "height": 34
        },
        "id": "UMi1z4dVAfvB",
        "outputId": "f20b1e61-917b-44c4-e2ac-d5efe5863dde"
      },
      "outputs": [],
      "source": [
        "# XGBoost\n",
        "xgb = XGBClassifier()\n",
        "\n",
        "# parameter to be searched\n",
        "param_grid = {\n",
        "    'n_estimators': [100, 200, 300, 400],  # Start from 100, avoid 0\n",
        "    'max_depth': [3, 5, 7, 10],  # 1 is too low; 7-10 adds complexity\n",
        "    'min_child_weight': [1, 3, 5],  # Avoid too high values unless overfitting\n",
        "    'gamma': [0, 0.1, 0.3, 0.5],  # Small values help regularization\n",
        "    'learning_rate': [0.01, 0.05, 0.1, 0.2],  # 0.001 is too small, slows training\n",
        "    # 'subsample': [0.7, 0.8, 0.9],  # Avoid 1.0 to prevent overfitting\n",
        "    # 'colsample_bytree': [0.7, 0.8, 0.9],  # Controls feature sampling\n",
        "    # 'lambda': [0.01, 0.1, 1, 10],  # L2 Regularization\n",
        "    # 'alpha': [0, 0.1, 1, 10]  # L1 Regularization\n",
        "}\n",
        "\n",
        "\n",
        "# # find the best parameter   \n",
        "# kfold = StratifiedKFold(n_splits=3, shuffle=True)\n",
        "# grid_search = GridSearchCV(xgb, param_grid, scoring=\"recall\", n_jobs=-1, cv=kfold)\n",
        "# grid_result = grid_search.fit(X_train_rus, y_train_rus)\n",
        "\n",
        "# print(f'Best result: {grid_result.best_score_} for {grid_result.best_params_}')\n",
        "\n",
        "# Best result: 0.7522522522522523 for {'gamma': 0, 'learning_rate': 0.01, 'max_depth': 3, 'min_child_weight': 3, 'n_estimators': 100"
      ]
    },
    {
      "cell_type": "code",
      "execution_count": 36,
      "metadata": {
        "colab": {
          "base_uri": "https://localhost:8080/",
          "height": 34
        },
        "id": "SnuviVqbC-Da",
        "outputId": "476e89eb-d03a-4486-ad2b-f2acddc79696"
      },
      "outputs": [],
      "source": [
        "# # XGBoost\n",
        "# xgb = XGBClassifier(n_estimators=100)\n",
        "\n",
        "# # parameter to be searched\n",
        "# param_grid = {'max_depth': [1, 3, 6],\n",
        "#               'min_child_weight': [1, 10, 20]}\n",
        "\n",
        "# # find the best parameter   \n",
        "# kfold = StratifiedKFold(n_splits=3, shuffle=True)\n",
        "# grid_search = GridSearchCV(xgb, param_grid, scoring=\"recall\", n_jobs=-1, cv=kfold)\n",
        "# grid_result = grid_search.fit(X_train_rus, y_train_rus)\n",
        "\n",
        "# print(f'Best result: {grid_result.best_score_} for {grid_result.best_params_}')"
      ]
    },
    {
      "cell_type": "code",
      "execution_count": 37,
      "metadata": {
        "colab": {
          "base_uri": "https://localhost:8080/",
          "height": 34
        },
        "id": "4S-Smd2IEFbZ",
        "outputId": "c9b68aee-de15-4330-bd01-eef1bff263c3"
      },
      "outputs": [],
      "source": [
        "# # XGBoost\n",
        "# xgb = XGBClassifier(n_estimators=100, max_depth=1, min_child_weight=6)\n",
        "\n",
        "# # parameter to be searched\n",
        "# param_grid = {'gamma': [0, 1, 5]}\n",
        "\n",
        "# # find the best parameter   \n",
        "# kfold = StratifiedKFold(n_splits=3, shuffle=True)\n",
        "# grid_search = GridSearchCV(xgb, param_grid, scoring=\"recall\", n_jobs=-1, cv=kfold)\n",
        "# grid_result = grid_search.fit(X_train_rus, y_train_rus)\n",
        "\n",
        "# print(f'Best result: {grid_result.best_score_} for {grid_result.best_params_}')"
      ]
    },
    {
      "cell_type": "code",
      "execution_count": 38,
      "metadata": {
        "colab": {
          "base_uri": "https://localhost:8080/",
          "height": 34
        },
        "id": "nXvejpNNFGNH",
        "outputId": "a6c3d476-6446-416a-86b0-02230e19ed5e"
      },
      "outputs": [],
      "source": [
        "# # XGBoost\n",
        "# xgb = XGBClassifier(n_estimators=100, max_depth=1, min_child_weight=6, gamma=0)\n",
        "\n",
        "# # parameter to be searched\n",
        "# param_grid = {'learning_rate': [0.0001, 0.001, 0.01, 0.1]}\n",
        "\n",
        "# # find the best parameter\n",
        "# kfold = StratifiedKFold(n_splits=3, shuffle=True)\n",
        "# grid_search = GridSearchCV(xgb, param_grid, scoring='recall', n_jobs=-1, cv=kfold)\n",
        "# grid_result = grid_search.fit(X_train_rus, y_train_rus)\n",
        "\n",
        "# print(f'Best result: {grid_result.best_score_} for {grid_result.best_params_}')"
      ]
    },
    {
      "cell_type": "markdown",
      "metadata": {
        "id": "OdidLcdsFNC7"
      },
      "source": [
        "After tuning some hyperparameters, all three models displayed betters results. It is worth mentioning that XGBoost presented a great score increase, while LightGBM and CatBoost saw a meager improvement.\n",
        "\n",
        "Now, we can check how these models perform on the **test set**. To help us visualize the results, we are plotting a **confusion matrix**."
      ]
    },
    {
      "cell_type": "code",
      "execution_count": 39,
      "metadata": {
        "colab": {
          "base_uri": "https://localhost:8080/",
          "height": 448
        },
        "id": "lktBzTrUG3bP",
        "outputId": "ab75e7a2-38a4-41ec-8b85-ea74c3d328c0"
      },
      "outputs": [
        {
          "name": "stdout",
          "output_type": "stream",
          "text": [
            "              precision    recall  f1-score   support\n",
            "\n",
            "           0       0.88      1.00      0.93      3057\n",
            "           1       1.00      0.89      0.94      3982\n",
            "           2       1.00      1.00      1.00      1738\n",
            "           3       1.00      1.00      1.00      1748\n",
            "           4       1.00      1.00      1.00      1998\n",
            "\n",
            "    accuracy                           0.97     12523\n",
            "   macro avg       0.98      0.98      0.98     12523\n",
            "weighted avg       0.97      0.97      0.97     12523\n",
            "\n"
          ]
        },
        {
          "data": {
            "image/png": "[encoded data removed]",
            "text/plain": [
              "<Figure size 640x480 with 2 Axes>"
            ]
          },
          "metadata": {},
          "output_type": "display_data"
        },
        {
          "data": {
            "text/plain": [
              "array([-1.47109016e-01,  1.13900952e-01, -6.54773447e-01, -1.95214500e+00,\n",
              "       -4.52797542e-02, -5.78764832e-01, -6.88975158e-01, -1.94661840e-01,\n",
              "        1.41275793e-01, -8.78765259e-02, -2.77316953e-01, -5.44225127e-02,\n",
              "       -1.45434158e+00, -1.31494926e+00,  9.85035302e-01, -1.34866651e+00,\n",
              "        6.99207518e-01, -1.64009583e-03, -3.08637583e-01, -4.14030203e-02,\n",
              "       -4.35775428e-01, -5.40356274e-01, -7.38534016e-01, -7.05673351e-01,\n",
              "        5.92887039e-01,  1.08793271e+00,  5.53711948e-01])"
            ]
          },
          "execution_count": 39,
          "metadata": {},
          "output_type": "execute_result"
        }
      ],
      "source": [
        "# final XGBoost model\n",
        "xgb = XGBClassifier(max_depth=3, learning_rate=0.01, n_estimators=100, gamma=0, min_child_weight=3)\n",
        "xgb.fit(X_train_rus, y_train_rus)\n",
        "# prediction\n",
        "X_test_xgb = scaler.transform(X_test)\n",
        "y_pred_xgb = xgb.predict(X_test_xgb)\n",
        "\n",
        "# classification report\n",
        "print(classification_report(y_test, y_pred_xgb))\n",
        "\n",
        "# confusion matrix\n",
        "fig, ax = plt.subplots()\n",
        "sns.heatmap(confusion_matrix(y_test, y_pred_xgb, normalize='true'), annot=True, ax=ax)\n",
        "ax.set_title('Confusion Matrix - XGBoost')\n",
        "ax.set_xlabel('Predicted Value')\n",
        "ax.set_ylabel('Real Value')\n",
        "\n",
        "plt.show()\n",
        "\n",
        "\n",
        "X_test_xgb[0]"
      ]
    },
    {
      "cell_type": "code",
      "execution_count": 47,
      "metadata": {},
      "outputs": [
        {
          "ename": "ValueError",
          "evalue": "The feature names should match those that were passed during fit.\nFeature names seen at fit time, yet now missing:\n- real_state\n- score_2\n- target_default\n",
          "output_type": "error",
          "traceback": [
            "\u001b[1;31m---------------------------------------------------------------------------\u001b[0m",
            "\u001b[1;31mValueError\u001b[0m                                Traceback (most recent call last)",
            "Cell \u001b[1;32mIn[47], line 72\u001b[0m\n\u001b[0;32m     69\u001b[0m numerical_cols \u001b[38;5;241m=\u001b[39m user_df\u001b[38;5;241m.\u001b[39mselect_dtypes(include\u001b[38;5;241m=\u001b[39m[\u001b[38;5;124m'\u001b[39m\u001b[38;5;124mfloat64\u001b[39m\u001b[38;5;124m'\u001b[39m, \u001b[38;5;124m'\u001b[39m\u001b[38;5;124mint64\u001b[39m\u001b[38;5;124m'\u001b[39m])\u001b[38;5;241m.\u001b[39mcolumns\u001b[38;5;241m.\u001b[39mtolist()\n\u001b[0;32m     70\u001b[0m categorical_cols \u001b[38;5;241m=\u001b[39m user_df\u001b[38;5;241m.\u001b[39mselect_dtypes(include\u001b[38;5;241m=\u001b[39m[\u001b[38;5;124m'\u001b[39m\u001b[38;5;124mobject\u001b[39m\u001b[38;5;124m'\u001b[39m])\u001b[38;5;241m.\u001b[39mcolumns\u001b[38;5;241m.\u001b[39mtolist()\n\u001b[1;32m---> 72\u001b[0m user_df\u001b[38;5;241m.\u001b[39mloc[:, categorical_cols] \u001b[38;5;241m=\u001b[39m \u001b[43mcimputer\u001b[49m\u001b[38;5;241;43m.\u001b[39;49m\u001b[43mtransform\u001b[49m\u001b[43m(\u001b[49m\u001b[43muser_df\u001b[49m\u001b[38;5;241;43m.\u001b[39;49m\u001b[43mloc\u001b[49m\u001b[43m[\u001b[49m\u001b[43m:\u001b[49m\u001b[43m,\u001b[49m\u001b[43m \u001b[49m\u001b[43mcategorical_cols\u001b[49m\u001b[43m]\u001b[49m\u001b[43m)\u001b[49m\n\u001b[0;32m     73\u001b[0m user_df\u001b[38;5;241m.\u001b[39mloc[:, df_credit_num] \u001b[38;5;241m=\u001b[39m nimputer\u001b[38;5;241m.\u001b[39mtransform(user_df\u001b[38;5;241m.\u001b[39mloc[:, df_credit_num])\n\u001b[0;32m     75\u001b[0m user_processed \u001b[38;5;241m=\u001b[39m preprocessor\u001b[38;5;241m.\u001b[39mtransform(user_df)\n",
            "File \u001b[1;32mc:\\Python-3.11.10\\Lib\\site-packages\\sklearn\\utils\\_set_output.py:319\u001b[0m, in \u001b[0;36m_wrap_method_output.<locals>.wrapped\u001b[1;34m(self, X, *args, **kwargs)\u001b[0m\n\u001b[0;32m    317\u001b[0m \u001b[38;5;129m@wraps\u001b[39m(f)\n\u001b[0;32m    318\u001b[0m \u001b[38;5;28;01mdef\u001b[39;00m\u001b[38;5;250m \u001b[39m\u001b[38;5;21mwrapped\u001b[39m(\u001b[38;5;28mself\u001b[39m, X, \u001b[38;5;241m*\u001b[39margs, \u001b[38;5;241m*\u001b[39m\u001b[38;5;241m*\u001b[39mkwargs):\n\u001b[1;32m--> 319\u001b[0m     data_to_wrap \u001b[38;5;241m=\u001b[39m \u001b[43mf\u001b[49m\u001b[43m(\u001b[49m\u001b[38;5;28;43mself\u001b[39;49m\u001b[43m,\u001b[49m\u001b[43m \u001b[49m\u001b[43mX\u001b[49m\u001b[43m,\u001b[49m\u001b[43m \u001b[49m\u001b[38;5;241;43m*\u001b[39;49m\u001b[43margs\u001b[49m\u001b[43m,\u001b[49m\u001b[43m \u001b[49m\u001b[38;5;241;43m*\u001b[39;49m\u001b[38;5;241;43m*\u001b[39;49m\u001b[43mkwargs\u001b[49m\u001b[43m)\u001b[49m\n\u001b[0;32m    320\u001b[0m     \u001b[38;5;28;01mif\u001b[39;00m \u001b[38;5;28misinstance\u001b[39m(data_to_wrap, \u001b[38;5;28mtuple\u001b[39m):\n\u001b[0;32m    321\u001b[0m         \u001b[38;5;66;03m# only wrap the first output for cross decomposition\u001b[39;00m\n\u001b[0;32m    322\u001b[0m         return_tuple \u001b[38;5;241m=\u001b[39m (\n\u001b[0;32m    323\u001b[0m             _wrap_data_with_container(method, data_to_wrap[\u001b[38;5;241m0\u001b[39m], X, \u001b[38;5;28mself\u001b[39m),\n\u001b[0;32m    324\u001b[0m             \u001b[38;5;241m*\u001b[39mdata_to_wrap[\u001b[38;5;241m1\u001b[39m:],\n\u001b[0;32m    325\u001b[0m         )\n",
            "File \u001b[1;32mc:\\Python-3.11.10\\Lib\\site-packages\\sklearn\\impute\\_base.py:607\u001b[0m, in \u001b[0;36mSimpleImputer.transform\u001b[1;34m(self, X)\u001b[0m\n\u001b[0;32m    592\u001b[0m \u001b[38;5;250m\u001b[39m\u001b[38;5;124;03m\"\"\"Impute all missing values in `X`.\u001b[39;00m\n\u001b[0;32m    593\u001b[0m \n\u001b[0;32m    594\u001b[0m \u001b[38;5;124;03mParameters\u001b[39;00m\n\u001b[1;32m   (...)\u001b[0m\n\u001b[0;32m    603\u001b[0m \u001b[38;5;124;03m    `X` with imputed values.\u001b[39;00m\n\u001b[0;32m    604\u001b[0m \u001b[38;5;124;03m\"\"\"\u001b[39;00m\n\u001b[0;32m    605\u001b[0m check_is_fitted(\u001b[38;5;28mself\u001b[39m)\n\u001b[1;32m--> 607\u001b[0m X \u001b[38;5;241m=\u001b[39m \u001b[38;5;28;43mself\u001b[39;49m\u001b[38;5;241;43m.\u001b[39;49m\u001b[43m_validate_input\u001b[49m\u001b[43m(\u001b[49m\u001b[43mX\u001b[49m\u001b[43m,\u001b[49m\u001b[43m \u001b[49m\u001b[43min_fit\u001b[49m\u001b[38;5;241;43m=\u001b[39;49m\u001b[38;5;28;43;01mFalse\u001b[39;49;00m\u001b[43m)\u001b[49m\n\u001b[0;32m    608\u001b[0m statistics \u001b[38;5;241m=\u001b[39m \u001b[38;5;28mself\u001b[39m\u001b[38;5;241m.\u001b[39mstatistics_\n\u001b[0;32m    610\u001b[0m \u001b[38;5;28;01mif\u001b[39;00m X\u001b[38;5;241m.\u001b[39mshape[\u001b[38;5;241m1\u001b[39m] \u001b[38;5;241m!=\u001b[39m statistics\u001b[38;5;241m.\u001b[39mshape[\u001b[38;5;241m0\u001b[39m]:\n",
            "File \u001b[1;32mc:\\Python-3.11.10\\Lib\\site-packages\\sklearn\\impute\\_base.py:363\u001b[0m, in \u001b[0;36mSimpleImputer._validate_input\u001b[1;34m(self, X, in_fit)\u001b[0m\n\u001b[0;32m    361\u001b[0m         \u001b[38;5;28;01mraise\u001b[39;00m new_ve \u001b[38;5;28;01mfrom\u001b[39;00m\u001b[38;5;250m \u001b[39m\u001b[38;5;28;01mNone\u001b[39;00m\n\u001b[0;32m    362\u001b[0m     \u001b[38;5;28;01melse\u001b[39;00m:\n\u001b[1;32m--> 363\u001b[0m         \u001b[38;5;28;01mraise\u001b[39;00m ve\n\u001b[0;32m    365\u001b[0m \u001b[38;5;28;01mif\u001b[39;00m in_fit:\n\u001b[0;32m    366\u001b[0m     \u001b[38;5;66;03m# Use the dtype seen in `fit` for non-`fit` conversion\u001b[39;00m\n\u001b[0;32m    367\u001b[0m     \u001b[38;5;28mself\u001b[39m\u001b[38;5;241m.\u001b[39m_fit_dtype \u001b[38;5;241m=\u001b[39m X\u001b[38;5;241m.\u001b[39mdtype\n",
            "File \u001b[1;32mc:\\Python-3.11.10\\Lib\\site-packages\\sklearn\\impute\\_base.py:344\u001b[0m, in \u001b[0;36mSimpleImputer._validate_input\u001b[1;34m(self, X, in_fit)\u001b[0m\n\u001b[0;32m    341\u001b[0m     ensure_all_finite \u001b[38;5;241m=\u001b[39m \u001b[38;5;28;01mTrue\u001b[39;00m\n\u001b[0;32m    343\u001b[0m \u001b[38;5;28;01mtry\u001b[39;00m:\n\u001b[1;32m--> 344\u001b[0m     X \u001b[38;5;241m=\u001b[39m \u001b[43mvalidate_data\u001b[49m\u001b[43m(\u001b[49m\n\u001b[0;32m    345\u001b[0m \u001b[43m        \u001b[49m\u001b[38;5;28;43mself\u001b[39;49m\u001b[43m,\u001b[49m\n\u001b[0;32m    346\u001b[0m \u001b[43m        \u001b[49m\u001b[43mX\u001b[49m\u001b[43m,\u001b[49m\n\u001b[0;32m    347\u001b[0m \u001b[43m        \u001b[49m\u001b[43mreset\u001b[49m\u001b[38;5;241;43m=\u001b[39;49m\u001b[43min_fit\u001b[49m\u001b[43m,\u001b[49m\n\u001b[0;32m    348\u001b[0m \u001b[43m        \u001b[49m\u001b[43maccept_sparse\u001b[49m\u001b[38;5;241;43m=\u001b[39;49m\u001b[38;5;124;43m\"\u001b[39;49m\u001b[38;5;124;43mcsc\u001b[39;49m\u001b[38;5;124;43m\"\u001b[39;49m\u001b[43m,\u001b[49m\n\u001b[0;32m    349\u001b[0m \u001b[43m        \u001b[49m\u001b[43mdtype\u001b[49m\u001b[38;5;241;43m=\u001b[39;49m\u001b[43mdtype\u001b[49m\u001b[43m,\u001b[49m\n\u001b[0;32m    350\u001b[0m \u001b[43m        \u001b[49m\u001b[43mforce_writeable\u001b[49m\u001b[38;5;241;43m=\u001b[39;49m\u001b[38;5;28;43;01mTrue\u001b[39;49;00m\u001b[43m \u001b[49m\u001b[38;5;28;43;01mif\u001b[39;49;00m\u001b[43m \u001b[49m\u001b[38;5;129;43;01mnot\u001b[39;49;00m\u001b[43m \u001b[49m\u001b[43min_fit\u001b[49m\u001b[43m \u001b[49m\u001b[38;5;28;43;01melse\u001b[39;49;00m\u001b[43m \u001b[49m\u001b[38;5;28;43;01mNone\u001b[39;49;00m\u001b[43m,\u001b[49m\n\u001b[0;32m    351\u001b[0m \u001b[43m        \u001b[49m\u001b[43mensure_all_finite\u001b[49m\u001b[38;5;241;43m=\u001b[39;49m\u001b[43mensure_all_finite\u001b[49m\u001b[43m,\u001b[49m\n\u001b[0;32m    352\u001b[0m \u001b[43m        \u001b[49m\u001b[43mcopy\u001b[49m\u001b[38;5;241;43m=\u001b[39;49m\u001b[38;5;28;43mself\u001b[39;49m\u001b[38;5;241;43m.\u001b[39;49m\u001b[43mcopy\u001b[49m\u001b[43m,\u001b[49m\n\u001b[0;32m    353\u001b[0m \u001b[43m    \u001b[49m\u001b[43m)\u001b[49m\n\u001b[0;32m    354\u001b[0m \u001b[38;5;28;01mexcept\u001b[39;00m \u001b[38;5;167;01mValueError\u001b[39;00m \u001b[38;5;28;01mas\u001b[39;00m ve:\n\u001b[0;32m    355\u001b[0m     \u001b[38;5;28;01mif\u001b[39;00m \u001b[38;5;124m\"\u001b[39m\u001b[38;5;124mcould not convert\u001b[39m\u001b[38;5;124m\"\u001b[39m \u001b[38;5;129;01min\u001b[39;00m \u001b[38;5;28mstr\u001b[39m(ve):\n",
            "File \u001b[1;32mc:\\Python-3.11.10\\Lib\\site-packages\\sklearn\\utils\\validation.py:2919\u001b[0m, in \u001b[0;36mvalidate_data\u001b[1;34m(_estimator, X, y, reset, validate_separately, skip_check_array, **check_params)\u001b[0m\n\u001b[0;32m   2835\u001b[0m \u001b[38;5;28;01mdef\u001b[39;00m\u001b[38;5;250m \u001b[39m\u001b[38;5;21mvalidate_data\u001b[39m(\n\u001b[0;32m   2836\u001b[0m     _estimator,\n\u001b[0;32m   2837\u001b[0m     \u001b[38;5;241m/\u001b[39m,\n\u001b[1;32m   (...)\u001b[0m\n\u001b[0;32m   2843\u001b[0m     \u001b[38;5;241m*\u001b[39m\u001b[38;5;241m*\u001b[39mcheck_params,\n\u001b[0;32m   2844\u001b[0m ):\n\u001b[0;32m   2845\u001b[0m \u001b[38;5;250m    \u001b[39m\u001b[38;5;124;03m\"\"\"Validate input data and set or check feature names and counts of the input.\u001b[39;00m\n\u001b[0;32m   2846\u001b[0m \n\u001b[0;32m   2847\u001b[0m \u001b[38;5;124;03m    This helper function should be used in an estimator that requires input\u001b[39;00m\n\u001b[1;32m   (...)\u001b[0m\n\u001b[0;32m   2917\u001b[0m \u001b[38;5;124;03m        validated.\u001b[39;00m\n\u001b[0;32m   2918\u001b[0m \u001b[38;5;124;03m    \"\"\"\u001b[39;00m\n\u001b[1;32m-> 2919\u001b[0m     \u001b[43m_check_feature_names\u001b[49m\u001b[43m(\u001b[49m\u001b[43m_estimator\u001b[49m\u001b[43m,\u001b[49m\u001b[43m \u001b[49m\u001b[43mX\u001b[49m\u001b[43m,\u001b[49m\u001b[43m \u001b[49m\u001b[43mreset\u001b[49m\u001b[38;5;241;43m=\u001b[39;49m\u001b[43mreset\u001b[49m\u001b[43m)\u001b[49m\n\u001b[0;32m   2920\u001b[0m     tags \u001b[38;5;241m=\u001b[39m get_tags(_estimator)\n\u001b[0;32m   2921\u001b[0m     \u001b[38;5;28;01mif\u001b[39;00m y \u001b[38;5;129;01mis\u001b[39;00m \u001b[38;5;28;01mNone\u001b[39;00m \u001b[38;5;129;01mand\u001b[39;00m tags\u001b[38;5;241m.\u001b[39mtarget_tags\u001b[38;5;241m.\u001b[39mrequired:\n",
            "File \u001b[1;32mc:\\Python-3.11.10\\Lib\\site-packages\\sklearn\\utils\\validation.py:2777\u001b[0m, in \u001b[0;36m_check_feature_names\u001b[1;34m(estimator, X, reset)\u001b[0m\n\u001b[0;32m   2774\u001b[0m \u001b[38;5;28;01mif\u001b[39;00m \u001b[38;5;129;01mnot\u001b[39;00m missing_names \u001b[38;5;129;01mand\u001b[39;00m \u001b[38;5;129;01mnot\u001b[39;00m unexpected_names:\n\u001b[0;32m   2775\u001b[0m     message \u001b[38;5;241m+\u001b[39m\u001b[38;5;241m=\u001b[39m \u001b[38;5;124m\"\u001b[39m\u001b[38;5;124mFeature names must be in the same order as they were in fit.\u001b[39m\u001b[38;5;130;01m\\n\u001b[39;00m\u001b[38;5;124m\"\u001b[39m\n\u001b[1;32m-> 2777\u001b[0m \u001b[38;5;28;01mraise\u001b[39;00m \u001b[38;5;167;01mValueError\u001b[39;00m(message)\n",
            "\u001b[1;31mValueError\u001b[0m: The feature names should match those that were passed during fit.\nFeature names seen at fit time, yet now missing:\n- real_state\n- score_2\n- target_default\n"
          ]
        }
      ],
      "source": [
        "import numpy as np\n",
        "import pandas as pd\n",
        "from sklearn.impute import SimpleImputer\n",
        "from sklearn.pipeline import Pipeline\n",
        "from sklearn.preprocessing import StandardScaler\n",
        "from sklearn.compose import ColumnTransformer\n",
        "from xgboost import XGBClassifier\n",
        "\n",
        "# Define imputers\n",
        "numerical_imputer = SimpleImputer(missing_values=np.nan, strategy='median')\n",
        "categorical_imputer = SimpleImputer(missing_values=np.nan, strategy='most_frequent')\n",
        "\n",
        "# Define numerical and categorical features\n",
        "numerical_features = [\n",
        "    'score_3', 'score_4', 'score_5', 'score_6', 'risk_rate', 'last_amount_borrowed',\n",
        "    'last_borrowed_in_months', 'credit_limit', 'income', 'ok_since', 'n_bankruptcies',\n",
        "    'n_defaulted_loans', 'n_accounts', 'n_issues', 'external_data_provider_credit_checks_last_2_year',\n",
        "    'external_data_provider_credit_checks_last_year', 'external_data_provider_email_seen_before',\n",
        "    'reported_income', 'application_time_in_funnel', 'external_data_provider_credit_checks_last_month',\n",
        "    'external_data_provider_fraud_score'\n",
        "]\n",
        "\n",
        "categorical_features = [\n",
        "    'shipping_state', 'facebook_profile', 'state', 'score_1', 'score_2'\n",
        "]\n",
        "\n",
        "# Fit the preprocessor on the training data\n",
        "\n",
        "# Example user input\n",
        "user_input = {\n",
        "    'score_3': 0.5, 'score_4': np.nan, 'score_5': 0.7, 'score_6': np.nan,\n",
        "    'risk_rate': 0.2, 'last_amount_borrowed': 1000, 'last_borrowed_in_months': 12,\n",
        "    'credit_limit': 5000, 'income': np.nan, 'ok_since': 24, 'n_bankruptcies': 0,\n",
        "    'n_defaulted_loans': 1, 'n_accounts': 3, 'n_issues': 2,\n",
        "    'external_data_provider_credit_checks_last_2_year': 1,\n",
        "    'external_data_provider_credit_checks_last_year': 0,\n",
        "    'external_data_provider_email_seen_before': 1, 'reported_income': 50000,\n",
        "    'application_time_in_funnel': 5, 'external_data_provider_credit_checks_last_month': 0,\n",
        "    'external_data_provider_fraud_score': 50, 'shipping_state': 'CA',\n",
        "    'facebook_profile': 'yes', 'state': 'CA', 'score_1': 'A', 'score_2': 2\n",
        "}\n",
        "\n",
        "reasoning = {\n",
        "        '0': \"Substantial Risk \\n Significantly higher borrowing amounts and frequency, combined with elevated risk metrics, indicate substantial risk despite no defaults.\",\n",
        "        '1': \"Minimal Risk \\n This cluster represents the safest borrower profile due to conservative borrowing history, consistent scoring patterns, and demonstrated reliability\",\n",
        "        '2': \"Guarded Risk \\n While maintaining good reliability, slightly higher borrowing amounts and frequency indicate marginally increased risk compared to A1.\",\n",
        "        '3': \"Elevated Risk \\n Despite good fundamentals, higher risk rate and elevated scoring volatility suggest increased monitoring requirements.\",\n",
        "        '4': \"Critical Risk \\n This cluster represents the highest risk profile, marked by the presence of defaults, highest risk rate, and elevated early warning scores (score_1 and score_2).\"\n",
        "    }\n",
        "\n",
        "reasoning = {\n",
        "    '0': \"High Risk \\n Borrower has taken large loans frequently and shows concerning risk patterns in their behavior, though they haven't defaulted yet. This combination suggests a higher chance of future payment issues.\",\n",
        "\n",
        "    '1': \"Low Risk \\n Borrower has a cautious borrowing pattern with small loan amounts, consistent repayment behavior, and strong reliability indicators across all measures.\",\n",
        "\n",
        "    '2': \"Low-Medium Risk \\n Borrower shows good overall reliability but has taken moderate-sized loans more frequently than low-risk borrowers. Their behavior suggests slightly more caution is needed.\",\n",
        "\n",
        "    '3': \"Medium Risk \\n While the borrower shows generally positive patterns, their risk indicators are higher than usual and their scores show more variation, suggesting the need for closer monitoring.\",\n",
        "\n",
        "    '4': \"Very High Risk \\n Borrower has a history of defaults and shows the highest risk scores across multiple measures. Their patterns strongly suggest a high probability of payment problems.\"\n",
        "}\n",
        "\n",
        "# Convert user input to DataFrame\n",
        "user_df = pd.DataFrame([user_input])\n",
        "\n",
        "# Ensure the user input has the same columns as the training data\n",
        "user_df = user_df.reindex(columns=X.columns, fill_value=np.nan)\n",
        "# Separate numerical and categorical columns\n",
        "numerical_cols = user_df.select_dtypes(include=['float64', 'int64']).columns.tolist()\n",
        "categorical_cols = user_df.select_dtypes(include=['object']).columns.tolist()\n",
        "\n",
        "user_df.loc[:, categorical_cols] = cimputer.transform(user_df.loc[:, categorical_cols])\n",
        "user_df.loc[:, df_credit_num] = nimputer.transform(user_df.loc[:, df_credit_num])\n",
        "\n",
        "user_processed = preprocessor.transform(user_df)\n",
        "print(user_processed)\n",
        "# Make prediction\n",
        "prediction = xgb.predict(user_processed)\n",
        "prediction_proba = xgb.predict_proba(user_processed)\n",
        "\n",
        "print(\"Prediction:\", prediction)\n",
        "print(reasoning[str(prediction[0])])\n",
        "# print(\"Prediction Probability:\", prediction_proba)"
      ]
    },
    {
      "cell_type": "markdown",
      "metadata": {
        "id": "sWYf2ZV8Q07c"
      },
      "source": [
        "## Conclusion\n",
        "\n",
        "The main objective of this article was to build a machine learning algorithm that would be able to identify potential defaulters and therefore reduce company loss. The best model possible would be the one that could minimize false negatives, identifying all defaulters among the client base, while also minimizing false positives, preventing clients to be wrongly classified as defaulters.\n",
        "\n",
        "Meeting these requirements can be quite tricky as there is a tradeoff between precision and recall, meaning that increasing the value of one of these metrics often decreases the value of the other. Considering the importance of minimizing company loss, we decided to give more emphasis on reducing false positives, searching for the best hyperparameters that could increase the recall rate.\n",
        "\n",
        "Among the three **Gradient Boosting Algorithms** tested, **XGBoost** yielded the best results, with a recall rate of 81%, although it delivered an undesired 56% of false positives. On the other hand, **LightGBM** and **CatBoost** delivered a better count of false positives, with 38% and 33% respectively, but their false negatives were substantially higher than that of XGBoost, resulting in a weaker recall rate.\n",
        "\n",
        "This article presents a classic evaluation metrics dilemma. In this case, it would be up to the company's decision-makers to analyze the big picture, with the aid of the machine learning algorithms, and decide the best plan to follow. Of course, in a future article, we can test a different approach to achieve a more desirable result, such as taking advantage of deep learning models."
      ]
    }
  ],
  "metadata": {
    "colab": {
      "provenance": []
    },
    "kernelspec": {
      "display_name": "Python 3",
      "language": "python",
      "name": "python3"
    },
    "language_info": {
      "codemirror_mode": {
        "name": "ipython",
        "version": 3
      },
      "file_extension": ".py",
      "mimetype": "text/x-python",
      "name": "python",
      "nbconvert_exporter": "python",
      "pygments_lexer": "ipython3",
      "version": "3.11.0"
    }
  },
  "nbformat": 4,
  "nbformat_minor": 0
}
