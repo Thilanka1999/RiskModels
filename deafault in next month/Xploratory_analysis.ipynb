{
 "cells": [
  {
   "cell_type": "code",
   "execution_count": 1,
   "metadata": {
    "collapsed": true
   },
   "outputs": [],
   "source": [
    "import pandas as pd\n",
    "import numpy as np"
   ]
  },
  {
   "cell_type": "code",
   "execution_count": 3,
   "metadata": {
    "collapsed": true
   },
   "outputs": [],
   "source": [
    "Credit=pd.read_csv(\"Credit.csv\")"
   ]
  },
  {
   "cell_type": "code",
   "execution_count": 47,
   "metadata": {
    "collapsed": true
   },
   "outputs": [],
   "source": [
    "#SOME QUICK STATS"
   ]
  },
  {
   "cell_type": "code",
   "execution_count": 4,
   "metadata": {
    "collapsed": false
   },
   "outputs": [
    {
     "data": {
      "text/html": [
       "<div>\n",
       "<table border=\"1\" class=\"dataframe\">\n",
       "  <thead>\n",
       "    <tr style=\"text-align: right;\">\n",
       "      <th></th>\n",
       "      <th>ID</th>\n",
       "      <th>LIMIT_BAL</th>\n",
       "      <th>SEX</th>\n",
       "      <th>EDUCATION</th>\n",
       "      <th>MARRIAGE</th>\n",
       "      <th>AGE</th>\n",
       "      <th>PAY_0</th>\n",
       "      <th>PAY_2</th>\n",
       "      <th>PAY_3</th>\n",
       "      <th>PAY_4</th>\n",
       "      <th>...</th>\n",
       "      <th>BILL_AMT4</th>\n",
       "      <th>BILL_AMT5</th>\n",
       "      <th>BILL_AMT6</th>\n",
       "      <th>PAY_AMT1</th>\n",
       "      <th>PAY_AMT2</th>\n",
       "      <th>PAY_AMT3</th>\n",
       "      <th>PAY_AMT4</th>\n",
       "      <th>PAY_AMT5</th>\n",
       "      <th>PAY_AMT6</th>\n",
       "      <th>default.payment.next.month</th>\n",
       "    </tr>\n",
       "  </thead>\n",
       "  <tbody>\n",
       "    <tr>\n",
       "      <th>0</th>\n",
       "      <td>1</td>\n",
       "      <td>20000.0</td>\n",
       "      <td>2</td>\n",
       "      <td>2</td>\n",
       "      <td>1</td>\n",
       "      <td>24</td>\n",
       "      <td>2</td>\n",
       "      <td>2</td>\n",
       "      <td>-1</td>\n",
       "      <td>-1</td>\n",
       "      <td>...</td>\n",
       "      <td>0.0</td>\n",
       "      <td>0.0</td>\n",
       "      <td>0.0</td>\n",
       "      <td>0.0</td>\n",
       "      <td>689.0</td>\n",
       "      <td>0.0</td>\n",
       "      <td>0.0</td>\n",
       "      <td>0.0</td>\n",
       "      <td>0.0</td>\n",
       "      <td>1</td>\n",
       "    </tr>\n",
       "    <tr>\n",
       "      <th>1</th>\n",
       "      <td>2</td>\n",
       "      <td>120000.0</td>\n",
       "      <td>2</td>\n",
       "      <td>2</td>\n",
       "      <td>2</td>\n",
       "      <td>26</td>\n",
       "      <td>-1</td>\n",
       "      <td>2</td>\n",
       "      <td>0</td>\n",
       "      <td>0</td>\n",
       "      <td>...</td>\n",
       "      <td>3272.0</td>\n",
       "      <td>3455.0</td>\n",
       "      <td>3261.0</td>\n",
       "      <td>0.0</td>\n",
       "      <td>1000.0</td>\n",
       "      <td>1000.0</td>\n",
       "      <td>1000.0</td>\n",
       "      <td>0.0</td>\n",
       "      <td>2000.0</td>\n",
       "      <td>1</td>\n",
       "    </tr>\n",
       "    <tr>\n",
       "      <th>2</th>\n",
       "      <td>3</td>\n",
       "      <td>90000.0</td>\n",
       "      <td>2</td>\n",
       "      <td>2</td>\n",
       "      <td>2</td>\n",
       "      <td>34</td>\n",
       "      <td>0</td>\n",
       "      <td>0</td>\n",
       "      <td>0</td>\n",
       "      <td>0</td>\n",
       "      <td>...</td>\n",
       "      <td>14331.0</td>\n",
       "      <td>14948.0</td>\n",
       "      <td>15549.0</td>\n",
       "      <td>1518.0</td>\n",
       "      <td>1500.0</td>\n",
       "      <td>1000.0</td>\n",
       "      <td>1000.0</td>\n",
       "      <td>1000.0</td>\n",
       "      <td>5000.0</td>\n",
       "      <td>0</td>\n",
       "    </tr>\n",
       "    <tr>\n",
       "      <th>3</th>\n",
       "      <td>4</td>\n",
       "      <td>50000.0</td>\n",
       "      <td>2</td>\n",
       "      <td>2</td>\n",
       "      <td>1</td>\n",
       "      <td>37</td>\n",
       "      <td>0</td>\n",
       "      <td>0</td>\n",
       "      <td>0</td>\n",
       "      <td>0</td>\n",
       "      <td>...</td>\n",
       "      <td>28314.0</td>\n",
       "      <td>28959.0</td>\n",
       "      <td>29547.0</td>\n",
       "      <td>2000.0</td>\n",
       "      <td>2019.0</td>\n",
       "      <td>1200.0</td>\n",
       "      <td>1100.0</td>\n",
       "      <td>1069.0</td>\n",
       "      <td>1000.0</td>\n",
       "      <td>0</td>\n",
       "    </tr>\n",
       "    <tr>\n",
       "      <th>4</th>\n",
       "      <td>5</td>\n",
       "      <td>50000.0</td>\n",
       "      <td>1</td>\n",
       "      <td>2</td>\n",
       "      <td>1</td>\n",
       "      <td>57</td>\n",
       "      <td>-1</td>\n",
       "      <td>0</td>\n",
       "      <td>-1</td>\n",
       "      <td>0</td>\n",
       "      <td>...</td>\n",
       "      <td>20940.0</td>\n",
       "      <td>19146.0</td>\n",
       "      <td>19131.0</td>\n",
       "      <td>2000.0</td>\n",
       "      <td>36681.0</td>\n",
       "      <td>10000.0</td>\n",
       "      <td>9000.0</td>\n",
       "      <td>689.0</td>\n",
       "      <td>679.0</td>\n",
       "      <td>0</td>\n",
       "    </tr>\n",
       "    <tr>\n",
       "      <th>5</th>\n",
       "      <td>6</td>\n",
       "      <td>50000.0</td>\n",
       "      <td>1</td>\n",
       "      <td>1</td>\n",
       "      <td>2</td>\n",
       "      <td>37</td>\n",
       "      <td>0</td>\n",
       "      <td>0</td>\n",
       "      <td>0</td>\n",
       "      <td>0</td>\n",
       "      <td>...</td>\n",
       "      <td>19394.0</td>\n",
       "      <td>19619.0</td>\n",
       "      <td>20024.0</td>\n",
       "      <td>2500.0</td>\n",
       "      <td>1815.0</td>\n",
       "      <td>657.0</td>\n",
       "      <td>1000.0</td>\n",
       "      <td>1000.0</td>\n",
       "      <td>800.0</td>\n",
       "      <td>0</td>\n",
       "    </tr>\n",
       "    <tr>\n",
       "      <th>6</th>\n",
       "      <td>7</td>\n",
       "      <td>500000.0</td>\n",
       "      <td>1</td>\n",
       "      <td>1</td>\n",
       "      <td>2</td>\n",
       "      <td>29</td>\n",
       "      <td>0</td>\n",
       "      <td>0</td>\n",
       "      <td>0</td>\n",
       "      <td>0</td>\n",
       "      <td>...</td>\n",
       "      <td>542653.0</td>\n",
       "      <td>483003.0</td>\n",
       "      <td>473944.0</td>\n",
       "      <td>55000.0</td>\n",
       "      <td>40000.0</td>\n",
       "      <td>38000.0</td>\n",
       "      <td>20239.0</td>\n",
       "      <td>13750.0</td>\n",
       "      <td>13770.0</td>\n",
       "      <td>0</td>\n",
       "    </tr>\n",
       "    <tr>\n",
       "      <th>7</th>\n",
       "      <td>8</td>\n",
       "      <td>100000.0</td>\n",
       "      <td>2</td>\n",
       "      <td>2</td>\n",
       "      <td>2</td>\n",
       "      <td>23</td>\n",
       "      <td>0</td>\n",
       "      <td>-1</td>\n",
       "      <td>-1</td>\n",
       "      <td>0</td>\n",
       "      <td>...</td>\n",
       "      <td>221.0</td>\n",
       "      <td>-159.0</td>\n",
       "      <td>567.0</td>\n",
       "      <td>380.0</td>\n",
       "      <td>601.0</td>\n",
       "      <td>0.0</td>\n",
       "      <td>581.0</td>\n",
       "      <td>1687.0</td>\n",
       "      <td>1542.0</td>\n",
       "      <td>0</td>\n",
       "    </tr>\n",
       "    <tr>\n",
       "      <th>8</th>\n",
       "      <td>9</td>\n",
       "      <td>140000.0</td>\n",
       "      <td>2</td>\n",
       "      <td>3</td>\n",
       "      <td>1</td>\n",
       "      <td>28</td>\n",
       "      <td>0</td>\n",
       "      <td>0</td>\n",
       "      <td>2</td>\n",
       "      <td>0</td>\n",
       "      <td>...</td>\n",
       "      <td>12211.0</td>\n",
       "      <td>11793.0</td>\n",
       "      <td>3719.0</td>\n",
       "      <td>3329.0</td>\n",
       "      <td>0.0</td>\n",
       "      <td>432.0</td>\n",
       "      <td>1000.0</td>\n",
       "      <td>1000.0</td>\n",
       "      <td>1000.0</td>\n",
       "      <td>0</td>\n",
       "    </tr>\n",
       "    <tr>\n",
       "      <th>9</th>\n",
       "      <td>10</td>\n",
       "      <td>20000.0</td>\n",
       "      <td>1</td>\n",
       "      <td>3</td>\n",
       "      <td>2</td>\n",
       "      <td>35</td>\n",
       "      <td>-2</td>\n",
       "      <td>-2</td>\n",
       "      <td>-2</td>\n",
       "      <td>-2</td>\n",
       "      <td>...</td>\n",
       "      <td>0.0</td>\n",
       "      <td>13007.0</td>\n",
       "      <td>13912.0</td>\n",
       "      <td>0.0</td>\n",
       "      <td>0.0</td>\n",
       "      <td>0.0</td>\n",
       "      <td>13007.0</td>\n",
       "      <td>1122.0</td>\n",
       "      <td>0.0</td>\n",
       "      <td>0</td>\n",
       "    </tr>\n",
       "  </tbody>\n",
       "</table>\n",
       "<p>10 rows × 25 columns</p>\n",
       "</div>"
      ],
      "text/plain": [
       "   ID  LIMIT_BAL  SEX  EDUCATION  MARRIAGE  AGE  PAY_0  PAY_2  PAY_3  PAY_4  \\\n",
       "0   1    20000.0    2          2         1   24      2      2     -1     -1   \n",
       "1   2   120000.0    2          2         2   26     -1      2      0      0   \n",
       "2   3    90000.0    2          2         2   34      0      0      0      0   \n",
       "3   4    50000.0    2          2         1   37      0      0      0      0   \n",
       "4   5    50000.0    1          2         1   57     -1      0     -1      0   \n",
       "5   6    50000.0    1          1         2   37      0      0      0      0   \n",
       "6   7   500000.0    1          1         2   29      0      0      0      0   \n",
       "7   8   100000.0    2          2         2   23      0     -1     -1      0   \n",
       "8   9   140000.0    2          3         1   28      0      0      2      0   \n",
       "9  10    20000.0    1          3         2   35     -2     -2     -2     -2   \n",
       "\n",
       "              ...              BILL_AMT4  BILL_AMT5  BILL_AMT6  PAY_AMT1  \\\n",
       "0             ...                    0.0        0.0        0.0       0.0   \n",
       "1             ...                 3272.0     3455.0     3261.0       0.0   \n",
       "2             ...                14331.0    14948.0    15549.0    1518.0   \n",
       "3             ...                28314.0    28959.0    29547.0    2000.0   \n",
       "4             ...                20940.0    19146.0    19131.0    2000.0   \n",
       "5             ...                19394.0    19619.0    20024.0    2500.0   \n",
       "6             ...               542653.0   483003.0   473944.0   55000.0   \n",
       "7             ...                  221.0     -159.0      567.0     380.0   \n",
       "8             ...                12211.0    11793.0     3719.0    3329.0   \n",
       "9             ...                    0.0    13007.0    13912.0       0.0   \n",
       "\n",
       "   PAY_AMT2  PAY_AMT3  PAY_AMT4  PAY_AMT5  PAY_AMT6  \\\n",
       "0     689.0       0.0       0.0       0.0       0.0   \n",
       "1    1000.0    1000.0    1000.0       0.0    2000.0   \n",
       "2    1500.0    1000.0    1000.0    1000.0    5000.0   \n",
       "3    2019.0    1200.0    1100.0    1069.0    1000.0   \n",
       "4   36681.0   10000.0    9000.0     689.0     679.0   \n",
       "5    1815.0     657.0    1000.0    1000.0     800.0   \n",
       "6   40000.0   38000.0   20239.0   13750.0   13770.0   \n",
       "7     601.0       0.0     581.0    1687.0    1542.0   \n",
       "8       0.0     432.0    1000.0    1000.0    1000.0   \n",
       "9       0.0       0.0   13007.0    1122.0       0.0   \n",
       "\n",
       "   default.payment.next.month  \n",
       "0                           1  \n",
       "1                           1  \n",
       "2                           0  \n",
       "3                           0  \n",
       "4                           0  \n",
       "5                           0  \n",
       "6                           0  \n",
       "7                           0  \n",
       "8                           0  \n",
       "9                           0  \n",
       "\n",
       "[10 rows x 25 columns]"
      ]
     },
     "execution_count": 4,
     "metadata": {},
     "output_type": "execute_result"
    }
   ],
   "source": [
    "Credit.head(10)"
   ]
  },
  {
   "cell_type": "code",
   "execution_count": 5,
   "metadata": {
    "collapsed": false
   },
   "outputs": [
    {
     "data": {
      "text/html": [
       "<div>\n",
       "<table border=\"1\" class=\"dataframe\">\n",
       "  <thead>\n",
       "    <tr style=\"text-align: right;\">\n",
       "      <th></th>\n",
       "      <th>count</th>\n",
       "      <th>mean</th>\n",
       "      <th>std</th>\n",
       "      <th>min</th>\n",
       "      <th>25%</th>\n",
       "      <th>50%</th>\n",
       "      <th>75%</th>\n",
       "      <th>max</th>\n",
       "    </tr>\n",
       "  </thead>\n",
       "  <tbody>\n",
       "    <tr>\n",
       "      <th>ID</th>\n",
       "      <td>30000.0</td>\n",
       "      <td>15000.500000</td>\n",
       "      <td>8660.398374</td>\n",
       "      <td>1.0</td>\n",
       "      <td>7500.75</td>\n",
       "      <td>15000.5</td>\n",
       "      <td>22500.25</td>\n",
       "      <td>30000.0</td>\n",
       "    </tr>\n",
       "    <tr>\n",
       "      <th>LIMIT_BAL</th>\n",
       "      <td>30000.0</td>\n",
       "      <td>167484.322667</td>\n",
       "      <td>129747.661567</td>\n",
       "      <td>10000.0</td>\n",
       "      <td>50000.00</td>\n",
       "      <td>140000.0</td>\n",
       "      <td>240000.00</td>\n",
       "      <td>1000000.0</td>\n",
       "    </tr>\n",
       "    <tr>\n",
       "      <th>SEX</th>\n",
       "      <td>30000.0</td>\n",
       "      <td>1.603733</td>\n",
       "      <td>0.489129</td>\n",
       "      <td>1.0</td>\n",
       "      <td>1.00</td>\n",
       "      <td>2.0</td>\n",
       "      <td>2.00</td>\n",
       "      <td>2.0</td>\n",
       "    </tr>\n",
       "    <tr>\n",
       "      <th>EDUCATION</th>\n",
       "      <td>30000.0</td>\n",
       "      <td>1.853133</td>\n",
       "      <td>0.790349</td>\n",
       "      <td>0.0</td>\n",
       "      <td>1.00</td>\n",
       "      <td>2.0</td>\n",
       "      <td>2.00</td>\n",
       "      <td>6.0</td>\n",
       "    </tr>\n",
       "    <tr>\n",
       "      <th>MARRIAGE</th>\n",
       "      <td>30000.0</td>\n",
       "      <td>1.551867</td>\n",
       "      <td>0.521970</td>\n",
       "      <td>0.0</td>\n",
       "      <td>1.00</td>\n",
       "      <td>2.0</td>\n",
       "      <td>2.00</td>\n",
       "      <td>3.0</td>\n",
       "    </tr>\n",
       "    <tr>\n",
       "      <th>AGE</th>\n",
       "      <td>30000.0</td>\n",
       "      <td>35.485500</td>\n",
       "      <td>9.217904</td>\n",
       "      <td>21.0</td>\n",
       "      <td>28.00</td>\n",
       "      <td>34.0</td>\n",
       "      <td>41.00</td>\n",
       "      <td>79.0</td>\n",
       "    </tr>\n",
       "    <tr>\n",
       "      <th>PAY_0</th>\n",
       "      <td>30000.0</td>\n",
       "      <td>-0.016700</td>\n",
       "      <td>1.123802</td>\n",
       "      <td>-2.0</td>\n",
       "      <td>-1.00</td>\n",
       "      <td>0.0</td>\n",
       "      <td>0.00</td>\n",
       "      <td>8.0</td>\n",
       "    </tr>\n",
       "    <tr>\n",
       "      <th>PAY_2</th>\n",
       "      <td>30000.0</td>\n",
       "      <td>-0.133767</td>\n",
       "      <td>1.197186</td>\n",
       "      <td>-2.0</td>\n",
       "      <td>-1.00</td>\n",
       "      <td>0.0</td>\n",
       "      <td>0.00</td>\n",
       "      <td>8.0</td>\n",
       "    </tr>\n",
       "    <tr>\n",
       "      <th>PAY_3</th>\n",
       "      <td>30000.0</td>\n",
       "      <td>-0.166200</td>\n",
       "      <td>1.196868</td>\n",
       "      <td>-2.0</td>\n",
       "      <td>-1.00</td>\n",
       "      <td>0.0</td>\n",
       "      <td>0.00</td>\n",
       "      <td>8.0</td>\n",
       "    </tr>\n",
       "    <tr>\n",
       "      <th>PAY_4</th>\n",
       "      <td>30000.0</td>\n",
       "      <td>-0.220667</td>\n",
       "      <td>1.169139</td>\n",
       "      <td>-2.0</td>\n",
       "      <td>-1.00</td>\n",
       "      <td>0.0</td>\n",
       "      <td>0.00</td>\n",
       "      <td>8.0</td>\n",
       "    </tr>\n",
       "    <tr>\n",
       "      <th>PAY_5</th>\n",
       "      <td>30000.0</td>\n",
       "      <td>-0.266200</td>\n",
       "      <td>1.133187</td>\n",
       "      <td>-2.0</td>\n",
       "      <td>-1.00</td>\n",
       "      <td>0.0</td>\n",
       "      <td>0.00</td>\n",
       "      <td>8.0</td>\n",
       "    </tr>\n",
       "    <tr>\n",
       "      <th>PAY_6</th>\n",
       "      <td>30000.0</td>\n",
       "      <td>-0.291100</td>\n",
       "      <td>1.149988</td>\n",
       "      <td>-2.0</td>\n",
       "      <td>-1.00</td>\n",
       "      <td>0.0</td>\n",
       "      <td>0.00</td>\n",
       "      <td>8.0</td>\n",
       "    </tr>\n",
       "    <tr>\n",
       "      <th>BILL_AMT1</th>\n",
       "      <td>30000.0</td>\n",
       "      <td>51223.330900</td>\n",
       "      <td>73635.860576</td>\n",
       "      <td>-165580.0</td>\n",
       "      <td>3558.75</td>\n",
       "      <td>22381.5</td>\n",
       "      <td>67091.00</td>\n",
       "      <td>964511.0</td>\n",
       "    </tr>\n",
       "    <tr>\n",
       "      <th>BILL_AMT2</th>\n",
       "      <td>30000.0</td>\n",
       "      <td>49179.075167</td>\n",
       "      <td>71173.768783</td>\n",
       "      <td>-69777.0</td>\n",
       "      <td>2984.75</td>\n",
       "      <td>21200.0</td>\n",
       "      <td>64006.25</td>\n",
       "      <td>983931.0</td>\n",
       "    </tr>\n",
       "    <tr>\n",
       "      <th>BILL_AMT3</th>\n",
       "      <td>30000.0</td>\n",
       "      <td>47013.154800</td>\n",
       "      <td>69349.387427</td>\n",
       "      <td>-157264.0</td>\n",
       "      <td>2666.25</td>\n",
       "      <td>20088.5</td>\n",
       "      <td>60164.75</td>\n",
       "      <td>1664089.0</td>\n",
       "    </tr>\n",
       "    <tr>\n",
       "      <th>BILL_AMT4</th>\n",
       "      <td>30000.0</td>\n",
       "      <td>43262.948967</td>\n",
       "      <td>64332.856134</td>\n",
       "      <td>-170000.0</td>\n",
       "      <td>2326.75</td>\n",
       "      <td>19052.0</td>\n",
       "      <td>54506.00</td>\n",
       "      <td>891586.0</td>\n",
       "    </tr>\n",
       "    <tr>\n",
       "      <th>BILL_AMT5</th>\n",
       "      <td>30000.0</td>\n",
       "      <td>40311.400967</td>\n",
       "      <td>60797.155770</td>\n",
       "      <td>-81334.0</td>\n",
       "      <td>1763.00</td>\n",
       "      <td>18104.5</td>\n",
       "      <td>50190.50</td>\n",
       "      <td>927171.0</td>\n",
       "    </tr>\n",
       "    <tr>\n",
       "      <th>BILL_AMT6</th>\n",
       "      <td>30000.0</td>\n",
       "      <td>38871.760400</td>\n",
       "      <td>59554.107537</td>\n",
       "      <td>-339603.0</td>\n",
       "      <td>1256.00</td>\n",
       "      <td>17071.0</td>\n",
       "      <td>49198.25</td>\n",
       "      <td>961664.0</td>\n",
       "    </tr>\n",
       "    <tr>\n",
       "      <th>PAY_AMT1</th>\n",
       "      <td>30000.0</td>\n",
       "      <td>5663.580500</td>\n",
       "      <td>16563.280354</td>\n",
       "      <td>0.0</td>\n",
       "      <td>1000.00</td>\n",
       "      <td>2100.0</td>\n",
       "      <td>5006.00</td>\n",
       "      <td>873552.0</td>\n",
       "    </tr>\n",
       "    <tr>\n",
       "      <th>PAY_AMT2</th>\n",
       "      <td>30000.0</td>\n",
       "      <td>5921.163500</td>\n",
       "      <td>23040.870402</td>\n",
       "      <td>0.0</td>\n",
       "      <td>833.00</td>\n",
       "      <td>2009.0</td>\n",
       "      <td>5000.00</td>\n",
       "      <td>1684259.0</td>\n",
       "    </tr>\n",
       "    <tr>\n",
       "      <th>PAY_AMT3</th>\n",
       "      <td>30000.0</td>\n",
       "      <td>5225.681500</td>\n",
       "      <td>17606.961470</td>\n",
       "      <td>0.0</td>\n",
       "      <td>390.00</td>\n",
       "      <td>1800.0</td>\n",
       "      <td>4505.00</td>\n",
       "      <td>896040.0</td>\n",
       "    </tr>\n",
       "    <tr>\n",
       "      <th>PAY_AMT4</th>\n",
       "      <td>30000.0</td>\n",
       "      <td>4826.076867</td>\n",
       "      <td>15666.159744</td>\n",
       "      <td>0.0</td>\n",
       "      <td>296.00</td>\n",
       "      <td>1500.0</td>\n",
       "      <td>4013.25</td>\n",
       "      <td>621000.0</td>\n",
       "    </tr>\n",
       "    <tr>\n",
       "      <th>PAY_AMT5</th>\n",
       "      <td>30000.0</td>\n",
       "      <td>4799.387633</td>\n",
       "      <td>15278.305679</td>\n",
       "      <td>0.0</td>\n",
       "      <td>252.50</td>\n",
       "      <td>1500.0</td>\n",
       "      <td>4031.50</td>\n",
       "      <td>426529.0</td>\n",
       "    </tr>\n",
       "    <tr>\n",
       "      <th>PAY_AMT6</th>\n",
       "      <td>30000.0</td>\n",
       "      <td>5215.502567</td>\n",
       "      <td>17777.465775</td>\n",
       "      <td>0.0</td>\n",
       "      <td>117.75</td>\n",
       "      <td>1500.0</td>\n",
       "      <td>4000.00</td>\n",
       "      <td>528666.0</td>\n",
       "    </tr>\n",
       "    <tr>\n",
       "      <th>default.payment.next.month</th>\n",
       "      <td>30000.0</td>\n",
       "      <td>0.221200</td>\n",
       "      <td>0.415062</td>\n",
       "      <td>0.0</td>\n",
       "      <td>0.00</td>\n",
       "      <td>0.0</td>\n",
       "      <td>0.00</td>\n",
       "      <td>1.0</td>\n",
       "    </tr>\n",
       "  </tbody>\n",
       "</table>\n",
       "</div>"
      ],
      "text/plain": [
       "                              count           mean            std       min  \\\n",
       "ID                          30000.0   15000.500000    8660.398374       1.0   \n",
       "LIMIT_BAL                   30000.0  167484.322667  129747.661567   10000.0   \n",
       "SEX                         30000.0       1.603733       0.489129       1.0   \n",
       "EDUCATION                   30000.0       1.853133       0.790349       0.0   \n",
       "MARRIAGE                    30000.0       1.551867       0.521970       0.0   \n",
       "AGE                         30000.0      35.485500       9.217904      21.0   \n",
       "PAY_0                       30000.0      -0.016700       1.123802      -2.0   \n",
       "PAY_2                       30000.0      -0.133767       1.197186      -2.0   \n",
       "PAY_3                       30000.0      -0.166200       1.196868      -2.0   \n",
       "PAY_4                       30000.0      -0.220667       1.169139      -2.0   \n",
       "PAY_5                       30000.0      -0.266200       1.133187      -2.0   \n",
       "PAY_6                       30000.0      -0.291100       1.149988      -2.0   \n",
       "BILL_AMT1                   30000.0   51223.330900   73635.860576 -165580.0   \n",
       "BILL_AMT2                   30000.0   49179.075167   71173.768783  -69777.0   \n",
       "BILL_AMT3                   30000.0   47013.154800   69349.387427 -157264.0   \n",
       "BILL_AMT4                   30000.0   43262.948967   64332.856134 -170000.0   \n",
       "BILL_AMT5                   30000.0   40311.400967   60797.155770  -81334.0   \n",
       "BILL_AMT6                   30000.0   38871.760400   59554.107537 -339603.0   \n",
       "PAY_AMT1                    30000.0    5663.580500   16563.280354       0.0   \n",
       "PAY_AMT2                    30000.0    5921.163500   23040.870402       0.0   \n",
       "PAY_AMT3                    30000.0    5225.681500   17606.961470       0.0   \n",
       "PAY_AMT4                    30000.0    4826.076867   15666.159744       0.0   \n",
       "PAY_AMT5                    30000.0    4799.387633   15278.305679       0.0   \n",
       "PAY_AMT6                    30000.0    5215.502567   17777.465775       0.0   \n",
       "default.payment.next.month  30000.0       0.221200       0.415062       0.0   \n",
       "\n",
       "                                 25%       50%        75%        max  \n",
       "ID                           7500.75   15000.5   22500.25    30000.0  \n",
       "LIMIT_BAL                   50000.00  140000.0  240000.00  1000000.0  \n",
       "SEX                             1.00       2.0       2.00        2.0  \n",
       "EDUCATION                       1.00       2.0       2.00        6.0  \n",
       "MARRIAGE                        1.00       2.0       2.00        3.0  \n",
       "AGE                            28.00      34.0      41.00       79.0  \n",
       "PAY_0                          -1.00       0.0       0.00        8.0  \n",
       "PAY_2                          -1.00       0.0       0.00        8.0  \n",
       "PAY_3                          -1.00       0.0       0.00        8.0  \n",
       "PAY_4                          -1.00       0.0       0.00        8.0  \n",
       "PAY_5                          -1.00       0.0       0.00        8.0  \n",
       "PAY_6                          -1.00       0.0       0.00        8.0  \n",
       "BILL_AMT1                    3558.75   22381.5   67091.00   964511.0  \n",
       "BILL_AMT2                    2984.75   21200.0   64006.25   983931.0  \n",
       "BILL_AMT3                    2666.25   20088.5   60164.75  1664089.0  \n",
       "BILL_AMT4                    2326.75   19052.0   54506.00   891586.0  \n",
       "BILL_AMT5                    1763.00   18104.5   50190.50   927171.0  \n",
       "BILL_AMT6                    1256.00   17071.0   49198.25   961664.0  \n",
       "PAY_AMT1                     1000.00    2100.0    5006.00   873552.0  \n",
       "PAY_AMT2                      833.00    2009.0    5000.00  1684259.0  \n",
       "PAY_AMT3                      390.00    1800.0    4505.00   896040.0  \n",
       "PAY_AMT4                      296.00    1500.0    4013.25   621000.0  \n",
       "PAY_AMT5                      252.50    1500.0    4031.50   426529.0  \n",
       "PAY_AMT6                      117.75    1500.0    4000.00   528666.0  \n",
       "default.payment.next.month      0.00       0.0       0.00        1.0  "
      ]
     },
     "execution_count": 5,
     "metadata": {},
     "output_type": "execute_result"
    }
   ],
   "source": [
    "Credit.describe().transpose()"
   ]
  },
  {
   "cell_type": "code",
   "execution_count": 8,
   "metadata": {
    "collapsed": false
   },
   "outputs": [
    {
     "data": {
      "text/plain": [
       "count      30000.000000\n",
       "mean      167484.322667\n",
       "std       129747.661567\n",
       "min        10000.000000\n",
       "25%        50000.000000\n",
       "50%       140000.000000\n",
       "75%       240000.000000\n",
       "max      1000000.000000\n",
       "Name: LIMIT_BAL, dtype: float64"
      ]
     },
     "execution_count": 8,
     "metadata": {},
     "output_type": "execute_result"
    }
   ],
   "source": [
    "Credit['LIMIT_BAL'].describe()"
   ]
  },
  {
   "cell_type": "code",
   "execution_count": 20,
   "metadata": {
    "collapsed": false
   },
   "outputs": [
    {
     "data": {
      "text/plain": [
       "2    18112\n",
       "1    11888\n",
       "Name: SEX, dtype: int64"
      ]
     },
     "execution_count": 20,
     "metadata": {},
     "output_type": "execute_result"
    }
   ],
   "source": [
    "Credit['SEX'].value_counts()"
   ]
  },
  {
   "cell_type": "code",
   "execution_count": 21,
   "metadata": {
    "collapsed": false
   },
   "outputs": [
    {
     "data": {
      "text/plain": [
       "2    14030\n",
       "1    10585\n",
       "3     4917\n",
       "5      280\n",
       "4      123\n",
       "6       51\n",
       "0       14\n",
       "Name: EDUCATION, dtype: int64"
      ]
     },
     "execution_count": 21,
     "metadata": {},
     "output_type": "execute_result"
    }
   ],
   "source": [
    "Credit['EDUCATION'].value_counts()"
   ]
  },
  {
   "cell_type": "code",
   "execution_count": 22,
   "metadata": {
    "collapsed": false
   },
   "outputs": [
    {
     "data": {
      "text/plain": [
       "2    15964\n",
       "1    13659\n",
       "3      323\n",
       "0       54\n",
       "Name: MARRIAGE, dtype: int64"
      ]
     },
     "execution_count": 22,
     "metadata": {},
     "output_type": "execute_result"
    }
   ],
   "source": [
    "Credit['MARRIAGE'].value_counts()"
   ]
  },
  {
   "cell_type": "code",
   "execution_count": 15,
   "metadata": {
    "collapsed": false
   },
   "outputs": [
    {
     "data": {
      "text/plain": [
       "count    30000.000000\n",
       "mean        35.485500\n",
       "std          9.217904\n",
       "min         21.000000\n",
       "25%         28.000000\n",
       "50%         34.000000\n",
       "75%         41.000000\n",
       "max         79.000000\n",
       "Name: AGE, dtype: float64"
      ]
     },
     "execution_count": 15,
     "metadata": {},
     "output_type": "execute_result"
    }
   ],
   "source": [
    "Credit['AGE'].describe()"
   ]
  },
  {
   "cell_type": "code",
   "execution_count": 38,
   "metadata": {
    "collapsed": false
   },
   "outputs": [
    {
     "name": "stdout",
     "output_type": "stream",
     "text": [
      " 0    14737\n",
      "-1     5686\n",
      " 1     3688\n",
      "-2     2759\n",
      " 2     2667\n",
      " 3      322\n",
      " 4       76\n",
      " 5       26\n",
      " 8       19\n",
      " 6       11\n",
      " 7        9\n",
      "Name: PAY_0, dtype: int64  0    15730\n",
      "-1     6050\n",
      " 2     3927\n",
      "-2     3782\n",
      " 3      326\n",
      " 4       99\n",
      " 1       28\n",
      " 5       25\n",
      " 7       20\n",
      " 6       12\n",
      " 8        1\n",
      "Name: PAY_2, dtype: int64  0    15764\n",
      "-1     5938\n",
      "-2     4085\n",
      " 2     3819\n",
      " 3      240\n",
      " 4       76\n",
      " 7       27\n",
      " 6       23\n",
      " 5       21\n",
      " 1        4\n",
      " 8        3\n",
      "Name: PAY_3, dtype: int64  0    16455\n",
      "-1     5687\n",
      "-2     4348\n",
      " 2     3159\n",
      " 3      180\n",
      " 4       69\n",
      " 7       58\n",
      " 5       35\n",
      " 6        5\n",
      " 8        2\n",
      " 1        2\n",
      "Name: PAY_4, dtype: int64  0    16947\n",
      "-1     5539\n",
      "-2     4546\n",
      " 2     2626\n",
      " 3      178\n",
      " 4       84\n",
      " 7       58\n",
      " 5       17\n",
      " 6        4\n",
      " 8        1\n",
      "Name: PAY_5, dtype: int64  0    16286\n",
      "-1     5740\n",
      "-2     4895\n",
      " 2     2766\n",
      " 3      184\n",
      " 4       49\n",
      " 7       46\n",
      " 6       19\n",
      " 5       13\n",
      " 8        2\n",
      "Name: PAY_6, dtype: int64\n"
     ]
    }
   ],
   "source": [
    "pay0=Credit['PAY_0'].value_counts()\n",
    "pay2=Credit['PAY_2'].value_counts()\n",
    "pay3=Credit['PAY_3'].value_counts()\n",
    "pay4=Credit['PAY_4'].value_counts()\n",
    "pay5=Credit['PAY_5'].value_counts()\n",
    "pay6=Credit['PAY_6'].value_counts()\n",
    "print(pay0,pay1,pay3,pay4,pay5,pay6)"
   ]
  },
  {
   "cell_type": "code",
   "execution_count": 6,
   "metadata": {
    "collapsed": false
   },
   "outputs": [
    {
     "data": {
      "text/plain": [
       "ID                            0\n",
       "LIMIT_BAL                     0\n",
       "SEX                           0\n",
       "EDUCATION                     0\n",
       "MARRIAGE                      0\n",
       "AGE                           0\n",
       "PAY_0                         0\n",
       "PAY_2                         0\n",
       "PAY_3                         0\n",
       "PAY_4                         0\n",
       "PAY_5                         0\n",
       "PAY_6                         0\n",
       "BILL_AMT1                     0\n",
       "BILL_AMT2                     0\n",
       "BILL_AMT3                     0\n",
       "BILL_AMT4                     0\n",
       "BILL_AMT5                     0\n",
       "BILL_AMT6                     0\n",
       "PAY_AMT1                      0\n",
       "PAY_AMT2                      0\n",
       "PAY_AMT3                      0\n",
       "PAY_AMT4                      0\n",
       "PAY_AMT5                      0\n",
       "PAY_AMT6                      0\n",
       "default.payment.next.month    0\n",
       "dtype: int64"
      ]
     },
     "execution_count": 6,
     "metadata": {},
     "output_type": "execute_result"
    }
   ],
   "source": [
    "Credit.apply(lambda x: sum(x.isnull()),axis=0) "
   ]
  },
  {
   "cell_type": "code",
   "execution_count": null,
   "metadata": {
    "collapsed": true
   },
   "outputs": [],
   "source": [
    "#VISUALIZATION ANALYSIS"
   ]
  },
  {
   "cell_type": "code",
   "execution_count": 7,
   "metadata": {
    "collapsed": true
   },
   "outputs": [],
   "source": [
    "import matplotlib\n",
    "%matplotlib inline"
   ]
  },
  {
   "cell_type": "code",
   "execution_count": 8,
   "metadata": {
    "collapsed": true
   },
   "outputs": [],
   "source": [
    "import seaborn as sb"
   ]
  },
  {
   "cell_type": "code",
   "execution_count": 68,
   "metadata": {
    "collapsed": false
   },
   "outputs": [
    {
     "data": {
      "text/plain": [
       "<matplotlib.axes._subplots.AxesSubplot at 0x1cba191eeb8>"
      ]
     },
     "execution_count": 68,
     "metadata": {},
     "output_type": "execute_result"
    },
    {
     "data": {
      "image/png": "[encoded data removed]",
      "text/plain": [
       "<matplotlib.figure.Figure at 0x1cba168e1d0>"
      ]
     },
     "metadata": {},
     "output_type": "display_data"
    }
   ],
   "source": [
    "#Limit Bal distribution\n",
    "Credit['LIMIT_BAL'].hist(bins=60, color='orange')"
   ]
  },
  {
   "cell_type": "code",
   "execution_count": 66,
   "metadata": {
    "collapsed": false
   },
   "outputs": [
    {
     "data": {
      "text/plain": [
       "<matplotlib.axes._subplots.AxesSubplot at 0x1cba1684ef0>"
      ]
     },
     "execution_count": 66,
     "metadata": {},
     "output_type": "execute_result"
    },
    {
     "data": {
      "image/png": "[encoded data removed]",
      "text/plain": [
       "<matplotlib.figure.Figure at 0x1cb9f8d2518>"
      ]
     },
     "metadata": {},
     "output_type": "display_data"
    }
   ],
   "source": [
    "#prediction labels\n",
    "Credit.groupby('default.payment.next.month').size().plot(kind='bar', color='yellow')"
   ]
  },
  {
   "cell_type": "code",
   "execution_count": 77,
   "metadata": {
    "collapsed": false
   },
   "outputs": [
    {
     "data": {
      "text/plain": [
       "<matplotlib.axes._subplots.AxesSubplot at 0x1e1bbbdb080>"
      ]
     },
     "execution_count": 77,
     "metadata": {},
     "output_type": "execute_result"
    },
    {
     "data": {
      "image/png": "[encoded data removed]",
      "text/plain": [
       "<matplotlib.figure.Figure at 0x1e1bd6097f0>"
      ]
     },
     "metadata": {},
     "output_type": "display_data"
    }
   ],
   "source": [
    "#default payment vs Limi_bal wrt gender\n",
    "sb.barplot(x=\"default.payment.next.month\",y=\"LIMIT_BAL\", hue=\"SEX\", data=Credit, palette=\"Blues\")"
   ]
  },
  {
   "cell_type": "code",
   "execution_count": 83,
   "metadata": {
    "collapsed": false
   },
   "outputs": [
    {
     "data": {
      "text/plain": [
       "<matplotlib.axes._subplots.AxesSubplot at 0x1cba309e5c0>"
      ]
     },
     "execution_count": 83,
     "metadata": {},
     "output_type": "execute_result"
    },
    {
     "data": {
      "image/png": "[encoded data removed]",
      "text/plain": [
       "<matplotlib.figure.Figure at 0x1cba2d87c50>"
      ]
     },
     "metadata": {},
     "output_type": "display_data"
    }
   ],
   "source": [
    "#Education levels count vs default payments\n",
    "sb.countplot(x=\"EDUCATION\", hue=\"default.payment.next.month\", data=Credit, palette=\"Set2\")"
   ]
  },
  {
   "cell_type": "code",
   "execution_count": 103,
   "metadata": {
    "collapsed": false
   },
   "outputs": [
    {
     "data": {
      "text/plain": [
       "<matplotlib.axes._subplots.AxesSubplot at 0x1e1bdef45f8>"
      ]
     },
     "execution_count": 103,
     "metadata": {},
     "output_type": "execute_result"
    },
    {
     "data": {
      "image/png": "[encoded data removed]",
      "text/plain": [
       "<matplotlib.figure.Figure at 0x1e1bdf96898>"
      ]
     },
     "metadata": {},
     "output_type": "display_data"
    }
   ],
   "source": [
    "#Marriage levels count\n",
    "sb.countplot(x=\"MARRIAGE\", data=Credit, palette=\"Set2\")"
   ]
  },
  {
   "cell_type": "code",
   "execution_count": 111,
   "metadata": {
    "collapsed": false
   },
   "outputs": [
    {
     "data": {
      "text/plain": [
       "<matplotlib.axes._subplots.AxesSubplot at 0x1e1bfc9a630>"
      ]
     },
     "execution_count": 111,
     "metadata": {},
     "output_type": "execute_result"
    },
    {
     "data": {
      "image/png": "[encoded data removed]",
      "text/plain": [
       "<matplotlib.figure.Figure at 0x1e1bf9ca940>"
      ]
     },
     "metadata": {},
     "output_type": "display_data"
    }
   ],
   "source": [
    "#Marriage levels vs defaul payments\n",
    "sb.countplot(x=\"MARRIAGE\", hue=\"default.payment.next.month\", data=Credit, palette=\"bright\")"
   ]
  },
  {
   "cell_type": "code",
   "execution_count": 112,
   "metadata": {
    "collapsed": false
   },
   "outputs": [
    {
     "data": {
      "text/plain": [
       "<matplotlib.axes._subplots.AxesSubplot at 0x1e1bfd59668>"
      ]
     },
     "execution_count": 112,
     "metadata": {},
     "output_type": "execute_result"
    },
    {
     "data": {
      "image/png": "[encoded data removed]",
      "text/plain": [
       "<matplotlib.figure.Figure at 0x1e1bfbe2ac8>"
      ]
     },
     "metadata": {},
     "output_type": "display_data"
    }
   ],
   "source": [
    "#aLL Pay distributions\n",
    "sb.countplot(x=\"PAY_0\", data=Credit,palette=\"Purples_r\")"
   ]
  },
  {
   "cell_type": "code",
   "execution_count": 201,
   "metadata": {
    "collapsed": false
   },
   "outputs": [
    {
     "data": {
      "text/plain": [
       "<matplotlib.axes._subplots.AxesSubplot at 0x1cbcf48ada0>"
      ]
     },
     "execution_count": 201,
     "metadata": {},
     "output_type": "execute_result"
    },
    {
     "data": {
      "image/png": "[encoded data removed]",
      "text/plain": [
       "<matplotlib.figure.Figure at 0x1cbcb1988d0>"
      ]
     },
     "metadata": {},
     "output_type": "display_data"
    }
   ],
   "source": [
    "sb.countplot(x=\"PAY_2\", data=Credit,palette=(\"Purples_r\"))"
   ]
  },
  {
   "cell_type": "code",
   "execution_count": 202,
   "metadata": {
    "collapsed": false
   },
   "outputs": [
    {
     "data": {
      "text/plain": [
       "<matplotlib.axes._subplots.AxesSubplot at 0x1cbc6201668>"
      ]
     },
     "execution_count": 202,
     "metadata": {},
     "output_type": "execute_result"
    },
    {
     "data": {
      "image/png": "[encoded data removed]",
      "text/plain": [
       "<matplotlib.figure.Figure at 0x1cbcf4aa710>"
      ]
     },
     "metadata": {},
     "output_type": "display_data"
    }
   ],
   "source": [
    "sb.countplot(x=\"PAY_3\", data=Credit,palette=\"Purples_r\")"
   ]
  },
  {
   "cell_type": "code",
   "execution_count": 204,
   "metadata": {
    "collapsed": false
   },
   "outputs": [
    {
     "data": {
      "text/plain": [
       "<matplotlib.axes._subplots.AxesSubplot at 0x1cbaae1f9b0>"
      ]
     },
     "execution_count": 204,
     "metadata": {},
     "output_type": "execute_result"
    },
    {
     "data": {
      "image/png": "[encoded data removed]",
      "text/plain": [
       "<matplotlib.figure.Figure at 0x1cbc63d4b38>"
      ]
     },
     "metadata": {},
     "output_type": "display_data"
    }
   ],
   "source": [
    "sb.countplot(x=\"PAY_4\", data=Credit,palette=\"Purples_r\")"
   ]
  },
  {
   "cell_type": "code",
   "execution_count": 205,
   "metadata": {
    "collapsed": false
   },
   "outputs": [
    {
     "data": {
      "text/plain": [
       "<matplotlib.axes._subplots.AxesSubplot at 0x1cbcb0e82b0>"
      ]
     },
     "execution_count": 205,
     "metadata": {},
     "output_type": "execute_result"
    },
    {
     "data": {
      "image/png": "[encoded data removed]",
      "text/plain": [
       "<matplotlib.figure.Figure at 0x1cbc9ea0fd0>"
      ]
     },
     "metadata": {},
     "output_type": "display_data"
    }
   ],
   "source": [
    "sb.countplot(x=\"PAY_5\", data=Credit,palette=\"Purples_r\")"
   ]
  },
  {
   "cell_type": "code",
   "execution_count": 206,
   "metadata": {
    "collapsed": false
   },
   "outputs": [
    {
     "data": {
      "text/plain": [
       "<matplotlib.axes._subplots.AxesSubplot at 0x1cbc8d82c50>"
      ]
     },
     "execution_count": 206,
     "metadata": {},
     "output_type": "execute_result"
    },
    {
     "data": {
      "image/png": "[encoded data removed]",
      "text/plain": [
       "<matplotlib.figure.Figure at 0x1cbcf4404e0>"
      ]
     },
     "metadata": {},
     "output_type": "display_data"
    }
   ],
   "source": [
    "sb.countplot(x=\"PAY_6\", data=Credit,palette=\"Purples_r\")"
   ]
  },
  {
   "cell_type": "code",
   "execution_count": null,
   "metadata": {
    "collapsed": true
   },
   "outputs": [],
   "source": [
    "#Some Extra VISUALIZATIONS(NOT PART OF THE REPORT)"
   ]
  },
  {
   "cell_type": "code",
   "execution_count": 107,
   "metadata": {
    "collapsed": false
   },
   "outputs": [],
   "source": [
    "#lets calucate correlation matrix\n",
    "corr=Credit.corr()"
   ]
  },
  {
   "cell_type": "code",
   "execution_count": 65,
   "metadata": {
    "collapsed": false
   },
   "outputs": [
    {
     "data": {
      "text/html": [
       "<div>\n",
       "<table border=\"1\" class=\"dataframe\">\n",
       "  <thead>\n",
       "    <tr style=\"text-align: right;\">\n",
       "      <th></th>\n",
       "      <th>ID</th>\n",
       "      <th>LIMIT_BAL</th>\n",
       "      <th>SEX</th>\n",
       "      <th>EDUCATION</th>\n",
       "      <th>MARRIAGE</th>\n",
       "      <th>AGE</th>\n",
       "      <th>PAY_0</th>\n",
       "      <th>PAY_2</th>\n",
       "      <th>PAY_3</th>\n",
       "      <th>PAY_4</th>\n",
       "      <th>...</th>\n",
       "      <th>BILL_AMT4</th>\n",
       "      <th>BILL_AMT5</th>\n",
       "      <th>BILL_AMT6</th>\n",
       "      <th>PAY_AMT1</th>\n",
       "      <th>PAY_AMT2</th>\n",
       "      <th>PAY_AMT3</th>\n",
       "      <th>PAY_AMT4</th>\n",
       "      <th>PAY_AMT5</th>\n",
       "      <th>PAY_AMT6</th>\n",
       "      <th>default.payment.next.month</th>\n",
       "    </tr>\n",
       "  </thead>\n",
       "  <tbody>\n",
       "    <tr>\n",
       "      <th>ID</th>\n",
       "      <td>1.000000</td>\n",
       "      <td>0.026179</td>\n",
       "      <td>0.018497</td>\n",
       "      <td>0.039177</td>\n",
       "      <td>-0.029079</td>\n",
       "      <td>0.018678</td>\n",
       "      <td>-0.030575</td>\n",
       "      <td>-0.011215</td>\n",
       "      <td>-0.018494</td>\n",
       "      <td>-0.002735</td>\n",
       "      <td>...</td>\n",
       "      <td>0.040351</td>\n",
       "      <td>0.016705</td>\n",
       "      <td>0.016730</td>\n",
       "      <td>0.009742</td>\n",
       "      <td>0.008406</td>\n",
       "      <td>0.039151</td>\n",
       "      <td>0.007793</td>\n",
       "      <td>0.000652</td>\n",
       "      <td>0.003000</td>\n",
       "      <td>-0.013952</td>\n",
       "    </tr>\n",
       "    <tr>\n",
       "      <th>LIMIT_BAL</th>\n",
       "      <td>0.026179</td>\n",
       "      <td>1.000000</td>\n",
       "      <td>0.024755</td>\n",
       "      <td>-0.219161</td>\n",
       "      <td>-0.108139</td>\n",
       "      <td>0.144713</td>\n",
       "      <td>-0.271214</td>\n",
       "      <td>-0.296382</td>\n",
       "      <td>-0.286123</td>\n",
       "      <td>-0.267460</td>\n",
       "      <td>...</td>\n",
       "      <td>0.293988</td>\n",
       "      <td>0.295562</td>\n",
       "      <td>0.290389</td>\n",
       "      <td>0.195236</td>\n",
       "      <td>0.178408</td>\n",
       "      <td>0.210167</td>\n",
       "      <td>0.203242</td>\n",
       "      <td>0.217202</td>\n",
       "      <td>0.219595</td>\n",
       "      <td>-0.153520</td>\n",
       "    </tr>\n",
       "    <tr>\n",
       "      <th>SEX</th>\n",
       "      <td>0.018497</td>\n",
       "      <td>0.024755</td>\n",
       "      <td>1.000000</td>\n",
       "      <td>0.014232</td>\n",
       "      <td>-0.031389</td>\n",
       "      <td>-0.090874</td>\n",
       "      <td>-0.057643</td>\n",
       "      <td>-0.070771</td>\n",
       "      <td>-0.066096</td>\n",
       "      <td>-0.060173</td>\n",
       "      <td>...</td>\n",
       "      <td>-0.021880</td>\n",
       "      <td>-0.017005</td>\n",
       "      <td>-0.016733</td>\n",
       "      <td>-0.000242</td>\n",
       "      <td>-0.001391</td>\n",
       "      <td>-0.008597</td>\n",
       "      <td>-0.002229</td>\n",
       "      <td>-0.001667</td>\n",
       "      <td>-0.002766</td>\n",
       "      <td>-0.039961</td>\n",
       "    </tr>\n",
       "    <tr>\n",
       "      <th>EDUCATION</th>\n",
       "      <td>0.039177</td>\n",
       "      <td>-0.219161</td>\n",
       "      <td>0.014232</td>\n",
       "      <td>1.000000</td>\n",
       "      <td>-0.143464</td>\n",
       "      <td>0.175061</td>\n",
       "      <td>0.105364</td>\n",
       "      <td>0.121566</td>\n",
       "      <td>0.114025</td>\n",
       "      <td>0.108793</td>\n",
       "      <td>...</td>\n",
       "      <td>-0.000451</td>\n",
       "      <td>-0.007567</td>\n",
       "      <td>-0.009099</td>\n",
       "      <td>-0.037456</td>\n",
       "      <td>-0.030038</td>\n",
       "      <td>-0.039943</td>\n",
       "      <td>-0.038218</td>\n",
       "      <td>-0.040358</td>\n",
       "      <td>-0.037200</td>\n",
       "      <td>0.028006</td>\n",
       "    </tr>\n",
       "    <tr>\n",
       "      <th>MARRIAGE</th>\n",
       "      <td>-0.029079</td>\n",
       "      <td>-0.108139</td>\n",
       "      <td>-0.031389</td>\n",
       "      <td>-0.143464</td>\n",
       "      <td>1.000000</td>\n",
       "      <td>-0.414170</td>\n",
       "      <td>0.019917</td>\n",
       "      <td>0.024199</td>\n",
       "      <td>0.032688</td>\n",
       "      <td>0.033122</td>\n",
       "      <td>...</td>\n",
       "      <td>-0.023344</td>\n",
       "      <td>-0.025393</td>\n",
       "      <td>-0.021207</td>\n",
       "      <td>-0.005979</td>\n",
       "      <td>-0.008093</td>\n",
       "      <td>-0.003541</td>\n",
       "      <td>-0.012659</td>\n",
       "      <td>-0.001205</td>\n",
       "      <td>-0.006641</td>\n",
       "      <td>-0.024339</td>\n",
       "    </tr>\n",
       "    <tr>\n",
       "      <th>AGE</th>\n",
       "      <td>0.018678</td>\n",
       "      <td>0.144713</td>\n",
       "      <td>-0.090874</td>\n",
       "      <td>0.175061</td>\n",
       "      <td>-0.414170</td>\n",
       "      <td>1.000000</td>\n",
       "      <td>-0.039447</td>\n",
       "      <td>-0.050148</td>\n",
       "      <td>-0.053048</td>\n",
       "      <td>-0.049722</td>\n",
       "      <td>...</td>\n",
       "      <td>0.051353</td>\n",
       "      <td>0.049345</td>\n",
       "      <td>0.047613</td>\n",
       "      <td>0.026147</td>\n",
       "      <td>0.021785</td>\n",
       "      <td>0.029247</td>\n",
       "      <td>0.021379</td>\n",
       "      <td>0.022850</td>\n",
       "      <td>0.019478</td>\n",
       "      <td>0.013890</td>\n",
       "    </tr>\n",
       "    <tr>\n",
       "      <th>PAY_0</th>\n",
       "      <td>-0.030575</td>\n",
       "      <td>-0.271214</td>\n",
       "      <td>-0.057643</td>\n",
       "      <td>0.105364</td>\n",
       "      <td>0.019917</td>\n",
       "      <td>-0.039447</td>\n",
       "      <td>1.000000</td>\n",
       "      <td>0.672164</td>\n",
       "      <td>0.574245</td>\n",
       "      <td>0.538841</td>\n",
       "      <td>...</td>\n",
       "      <td>0.179125</td>\n",
       "      <td>0.180635</td>\n",
       "      <td>0.176980</td>\n",
       "      <td>-0.079269</td>\n",
       "      <td>-0.070101</td>\n",
       "      <td>-0.070561</td>\n",
       "      <td>-0.064005</td>\n",
       "      <td>-0.058190</td>\n",
       "      <td>-0.058673</td>\n",
       "      <td>0.324794</td>\n",
       "    </tr>\n",
       "    <tr>\n",
       "      <th>PAY_2</th>\n",
       "      <td>-0.011215</td>\n",
       "      <td>-0.296382</td>\n",
       "      <td>-0.070771</td>\n",
       "      <td>0.121566</td>\n",
       "      <td>0.024199</td>\n",
       "      <td>-0.050148</td>\n",
       "      <td>0.672164</td>\n",
       "      <td>1.000000</td>\n",
       "      <td>0.766552</td>\n",
       "      <td>0.662067</td>\n",
       "      <td>...</td>\n",
       "      <td>0.222237</td>\n",
       "      <td>0.221348</td>\n",
       "      <td>0.219403</td>\n",
       "      <td>-0.080701</td>\n",
       "      <td>-0.058990</td>\n",
       "      <td>-0.055901</td>\n",
       "      <td>-0.046858</td>\n",
       "      <td>-0.037093</td>\n",
       "      <td>-0.036500</td>\n",
       "      <td>0.263551</td>\n",
       "    </tr>\n",
       "    <tr>\n",
       "      <th>PAY_3</th>\n",
       "      <td>-0.018494</td>\n",
       "      <td>-0.286123</td>\n",
       "      <td>-0.066096</td>\n",
       "      <td>0.114025</td>\n",
       "      <td>0.032688</td>\n",
       "      <td>-0.053048</td>\n",
       "      <td>0.574245</td>\n",
       "      <td>0.766552</td>\n",
       "      <td>1.000000</td>\n",
       "      <td>0.777359</td>\n",
       "      <td>...</td>\n",
       "      <td>0.227202</td>\n",
       "      <td>0.225145</td>\n",
       "      <td>0.222327</td>\n",
       "      <td>0.001295</td>\n",
       "      <td>-0.066793</td>\n",
       "      <td>-0.053311</td>\n",
       "      <td>-0.046067</td>\n",
       "      <td>-0.035863</td>\n",
       "      <td>-0.035861</td>\n",
       "      <td>0.235253</td>\n",
       "    </tr>\n",
       "    <tr>\n",
       "      <th>PAY_4</th>\n",
       "      <td>-0.002735</td>\n",
       "      <td>-0.267460</td>\n",
       "      <td>-0.060173</td>\n",
       "      <td>0.108793</td>\n",
       "      <td>0.033122</td>\n",
       "      <td>-0.049722</td>\n",
       "      <td>0.538841</td>\n",
       "      <td>0.662067</td>\n",
       "      <td>0.777359</td>\n",
       "      <td>1.000000</td>\n",
       "      <td>...</td>\n",
       "      <td>0.245917</td>\n",
       "      <td>0.242902</td>\n",
       "      <td>0.239154</td>\n",
       "      <td>-0.009362</td>\n",
       "      <td>-0.001944</td>\n",
       "      <td>-0.069235</td>\n",
       "      <td>-0.043461</td>\n",
       "      <td>-0.033590</td>\n",
       "      <td>-0.026565</td>\n",
       "      <td>0.216614</td>\n",
       "    </tr>\n",
       "    <tr>\n",
       "      <th>PAY_5</th>\n",
       "      <td>-0.022199</td>\n",
       "      <td>-0.249411</td>\n",
       "      <td>-0.055064</td>\n",
       "      <td>0.097520</td>\n",
       "      <td>0.035629</td>\n",
       "      <td>-0.053826</td>\n",
       "      <td>0.509426</td>\n",
       "      <td>0.622780</td>\n",
       "      <td>0.686775</td>\n",
       "      <td>0.819835</td>\n",
       "      <td>...</td>\n",
       "      <td>0.271915</td>\n",
       "      <td>0.269783</td>\n",
       "      <td>0.262509</td>\n",
       "      <td>-0.006089</td>\n",
       "      <td>-0.003191</td>\n",
       "      <td>0.009062</td>\n",
       "      <td>-0.058299</td>\n",
       "      <td>-0.033337</td>\n",
       "      <td>-0.023027</td>\n",
       "      <td>0.204149</td>\n",
       "    </tr>\n",
       "    <tr>\n",
       "      <th>PAY_6</th>\n",
       "      <td>-0.020270</td>\n",
       "      <td>-0.235195</td>\n",
       "      <td>-0.044008</td>\n",
       "      <td>0.082316</td>\n",
       "      <td>0.034345</td>\n",
       "      <td>-0.048773</td>\n",
       "      <td>0.474553</td>\n",
       "      <td>0.575501</td>\n",
       "      <td>0.632684</td>\n",
       "      <td>0.716449</td>\n",
       "      <td>...</td>\n",
       "      <td>0.266356</td>\n",
       "      <td>0.290894</td>\n",
       "      <td>0.285091</td>\n",
       "      <td>-0.001496</td>\n",
       "      <td>-0.005223</td>\n",
       "      <td>0.005834</td>\n",
       "      <td>0.019018</td>\n",
       "      <td>-0.046434</td>\n",
       "      <td>-0.025299</td>\n",
       "      <td>0.186866</td>\n",
       "    </tr>\n",
       "    <tr>\n",
       "      <th>BILL_AMT1</th>\n",
       "      <td>0.019389</td>\n",
       "      <td>0.285430</td>\n",
       "      <td>-0.033642</td>\n",
       "      <td>0.023581</td>\n",
       "      <td>-0.023472</td>\n",
       "      <td>0.056239</td>\n",
       "      <td>0.187068</td>\n",
       "      <td>0.234887</td>\n",
       "      <td>0.208473</td>\n",
       "      <td>0.202812</td>\n",
       "      <td>...</td>\n",
       "      <td>0.860272</td>\n",
       "      <td>0.829779</td>\n",
       "      <td>0.802650</td>\n",
       "      <td>0.140277</td>\n",
       "      <td>0.099355</td>\n",
       "      <td>0.156887</td>\n",
       "      <td>0.158303</td>\n",
       "      <td>0.167026</td>\n",
       "      <td>0.179341</td>\n",
       "      <td>-0.019644</td>\n",
       "    </tr>\n",
       "    <tr>\n",
       "      <th>BILL_AMT2</th>\n",
       "      <td>0.017982</td>\n",
       "      <td>0.278314</td>\n",
       "      <td>-0.031183</td>\n",
       "      <td>0.018749</td>\n",
       "      <td>-0.021602</td>\n",
       "      <td>0.054283</td>\n",
       "      <td>0.189859</td>\n",
       "      <td>0.235257</td>\n",
       "      <td>0.237295</td>\n",
       "      <td>0.225816</td>\n",
       "      <td>...</td>\n",
       "      <td>0.892482</td>\n",
       "      <td>0.859778</td>\n",
       "      <td>0.831594</td>\n",
       "      <td>0.280365</td>\n",
       "      <td>0.100851</td>\n",
       "      <td>0.150718</td>\n",
       "      <td>0.147398</td>\n",
       "      <td>0.157957</td>\n",
       "      <td>0.174256</td>\n",
       "      <td>-0.014193</td>\n",
       "    </tr>\n",
       "    <tr>\n",
       "      <th>BILL_AMT3</th>\n",
       "      <td>0.024354</td>\n",
       "      <td>0.283236</td>\n",
       "      <td>-0.024563</td>\n",
       "      <td>0.013002</td>\n",
       "      <td>-0.024909</td>\n",
       "      <td>0.053710</td>\n",
       "      <td>0.179785</td>\n",
       "      <td>0.224146</td>\n",
       "      <td>0.227494</td>\n",
       "      <td>0.244983</td>\n",
       "      <td>...</td>\n",
       "      <td>0.923969</td>\n",
       "      <td>0.883910</td>\n",
       "      <td>0.853320</td>\n",
       "      <td>0.244335</td>\n",
       "      <td>0.316936</td>\n",
       "      <td>0.130011</td>\n",
       "      <td>0.143405</td>\n",
       "      <td>0.179712</td>\n",
       "      <td>0.182326</td>\n",
       "      <td>-0.014076</td>\n",
       "    </tr>\n",
       "    <tr>\n",
       "      <th>BILL_AMT4</th>\n",
       "      <td>0.040351</td>\n",
       "      <td>0.293988</td>\n",
       "      <td>-0.021880</td>\n",
       "      <td>-0.000451</td>\n",
       "      <td>-0.023344</td>\n",
       "      <td>0.051353</td>\n",
       "      <td>0.179125</td>\n",
       "      <td>0.222237</td>\n",
       "      <td>0.227202</td>\n",
       "      <td>0.245917</td>\n",
       "      <td>...</td>\n",
       "      <td>1.000000</td>\n",
       "      <td>0.940134</td>\n",
       "      <td>0.900941</td>\n",
       "      <td>0.233012</td>\n",
       "      <td>0.207564</td>\n",
       "      <td>0.300023</td>\n",
       "      <td>0.130191</td>\n",
       "      <td>0.160433</td>\n",
       "      <td>0.177637</td>\n",
       "      <td>-0.010156</td>\n",
       "    </tr>\n",
       "    <tr>\n",
       "      <th>BILL_AMT5</th>\n",
       "      <td>0.016705</td>\n",
       "      <td>0.295562</td>\n",
       "      <td>-0.017005</td>\n",
       "      <td>-0.007567</td>\n",
       "      <td>-0.025393</td>\n",
       "      <td>0.049345</td>\n",
       "      <td>0.180635</td>\n",
       "      <td>0.221348</td>\n",
       "      <td>0.225145</td>\n",
       "      <td>0.242902</td>\n",
       "      <td>...</td>\n",
       "      <td>0.940134</td>\n",
       "      <td>1.000000</td>\n",
       "      <td>0.946197</td>\n",
       "      <td>0.217031</td>\n",
       "      <td>0.181246</td>\n",
       "      <td>0.252305</td>\n",
       "      <td>0.293118</td>\n",
       "      <td>0.141574</td>\n",
       "      <td>0.164184</td>\n",
       "      <td>-0.006760</td>\n",
       "    </tr>\n",
       "    <tr>\n",
       "      <th>BILL_AMT6</th>\n",
       "      <td>0.016730</td>\n",
       "      <td>0.290389</td>\n",
       "      <td>-0.016733</td>\n",
       "      <td>-0.009099</td>\n",
       "      <td>-0.021207</td>\n",
       "      <td>0.047613</td>\n",
       "      <td>0.176980</td>\n",
       "      <td>0.219403</td>\n",
       "      <td>0.222327</td>\n",
       "      <td>0.239154</td>\n",
       "      <td>...</td>\n",
       "      <td>0.900941</td>\n",
       "      <td>0.946197</td>\n",
       "      <td>1.000000</td>\n",
       "      <td>0.199965</td>\n",
       "      <td>0.172663</td>\n",
       "      <td>0.233770</td>\n",
       "      <td>0.250237</td>\n",
       "      <td>0.307729</td>\n",
       "      <td>0.115494</td>\n",
       "      <td>-0.005372</td>\n",
       "    </tr>\n",
       "    <tr>\n",
       "      <th>PAY_AMT1</th>\n",
       "      <td>0.009742</td>\n",
       "      <td>0.195236</td>\n",
       "      <td>-0.000242</td>\n",
       "      <td>-0.037456</td>\n",
       "      <td>-0.005979</td>\n",
       "      <td>0.026147</td>\n",
       "      <td>-0.079269</td>\n",
       "      <td>-0.080701</td>\n",
       "      <td>0.001295</td>\n",
       "      <td>-0.009362</td>\n",
       "      <td>...</td>\n",
       "      <td>0.233012</td>\n",
       "      <td>0.217031</td>\n",
       "      <td>0.199965</td>\n",
       "      <td>1.000000</td>\n",
       "      <td>0.285576</td>\n",
       "      <td>0.252191</td>\n",
       "      <td>0.199558</td>\n",
       "      <td>0.148459</td>\n",
       "      <td>0.185735</td>\n",
       "      <td>-0.072929</td>\n",
       "    </tr>\n",
       "    <tr>\n",
       "      <th>PAY_AMT2</th>\n",
       "      <td>0.008406</td>\n",
       "      <td>0.178408</td>\n",
       "      <td>-0.001391</td>\n",
       "      <td>-0.030038</td>\n",
       "      <td>-0.008093</td>\n",
       "      <td>0.021785</td>\n",
       "      <td>-0.070101</td>\n",
       "      <td>-0.058990</td>\n",
       "      <td>-0.066793</td>\n",
       "      <td>-0.001944</td>\n",
       "      <td>...</td>\n",
       "      <td>0.207564</td>\n",
       "      <td>0.181246</td>\n",
       "      <td>0.172663</td>\n",
       "      <td>0.285576</td>\n",
       "      <td>1.000000</td>\n",
       "      <td>0.244770</td>\n",
       "      <td>0.180107</td>\n",
       "      <td>0.180908</td>\n",
       "      <td>0.157634</td>\n",
       "      <td>-0.058579</td>\n",
       "    </tr>\n",
       "    <tr>\n",
       "      <th>PAY_AMT3</th>\n",
       "      <td>0.039151</td>\n",
       "      <td>0.210167</td>\n",
       "      <td>-0.008597</td>\n",
       "      <td>-0.039943</td>\n",
       "      <td>-0.003541</td>\n",
       "      <td>0.029247</td>\n",
       "      <td>-0.070561</td>\n",
       "      <td>-0.055901</td>\n",
       "      <td>-0.053311</td>\n",
       "      <td>-0.069235</td>\n",
       "      <td>...</td>\n",
       "      <td>0.300023</td>\n",
       "      <td>0.252305</td>\n",
       "      <td>0.233770</td>\n",
       "      <td>0.252191</td>\n",
       "      <td>0.244770</td>\n",
       "      <td>1.000000</td>\n",
       "      <td>0.216325</td>\n",
       "      <td>0.159214</td>\n",
       "      <td>0.162740</td>\n",
       "      <td>-0.056250</td>\n",
       "    </tr>\n",
       "    <tr>\n",
       "      <th>PAY_AMT4</th>\n",
       "      <td>0.007793</td>\n",
       "      <td>0.203242</td>\n",
       "      <td>-0.002229</td>\n",
       "      <td>-0.038218</td>\n",
       "      <td>-0.012659</td>\n",
       "      <td>0.021379</td>\n",
       "      <td>-0.064005</td>\n",
       "      <td>-0.046858</td>\n",
       "      <td>-0.046067</td>\n",
       "      <td>-0.043461</td>\n",
       "      <td>...</td>\n",
       "      <td>0.130191</td>\n",
       "      <td>0.293118</td>\n",
       "      <td>0.250237</td>\n",
       "      <td>0.199558</td>\n",
       "      <td>0.180107</td>\n",
       "      <td>0.216325</td>\n",
       "      <td>1.000000</td>\n",
       "      <td>0.151830</td>\n",
       "      <td>0.157834</td>\n",
       "      <td>-0.056827</td>\n",
       "    </tr>\n",
       "    <tr>\n",
       "      <th>PAY_AMT5</th>\n",
       "      <td>0.000652</td>\n",
       "      <td>0.217202</td>\n",
       "      <td>-0.001667</td>\n",
       "      <td>-0.040358</td>\n",
       "      <td>-0.001205</td>\n",
       "      <td>0.022850</td>\n",
       "      <td>-0.058190</td>\n",
       "      <td>-0.037093</td>\n",
       "      <td>-0.035863</td>\n",
       "      <td>-0.033590</td>\n",
       "      <td>...</td>\n",
       "      <td>0.160433</td>\n",
       "      <td>0.141574</td>\n",
       "      <td>0.307729</td>\n",
       "      <td>0.148459</td>\n",
       "      <td>0.180908</td>\n",
       "      <td>0.159214</td>\n",
       "      <td>0.151830</td>\n",
       "      <td>1.000000</td>\n",
       "      <td>0.154896</td>\n",
       "      <td>-0.055124</td>\n",
       "    </tr>\n",
       "    <tr>\n",
       "      <th>PAY_AMT6</th>\n",
       "      <td>0.003000</td>\n",
       "      <td>0.219595</td>\n",
       "      <td>-0.002766</td>\n",
       "      <td>-0.037200</td>\n",
       "      <td>-0.006641</td>\n",
       "      <td>0.019478</td>\n",
       "      <td>-0.058673</td>\n",
       "      <td>-0.036500</td>\n",
       "      <td>-0.035861</td>\n",
       "      <td>-0.026565</td>\n",
       "      <td>...</td>\n",
       "      <td>0.177637</td>\n",
       "      <td>0.164184</td>\n",
       "      <td>0.115494</td>\n",
       "      <td>0.185735</td>\n",
       "      <td>0.157634</td>\n",
       "      <td>0.162740</td>\n",
       "      <td>0.157834</td>\n",
       "      <td>0.154896</td>\n",
       "      <td>1.000000</td>\n",
       "      <td>-0.053183</td>\n",
       "    </tr>\n",
       "    <tr>\n",
       "      <th>default.payment.next.month</th>\n",
       "      <td>-0.013952</td>\n",
       "      <td>-0.153520</td>\n",
       "      <td>-0.039961</td>\n",
       "      <td>0.028006</td>\n",
       "      <td>-0.024339</td>\n",
       "      <td>0.013890</td>\n",
       "      <td>0.324794</td>\n",
       "      <td>0.263551</td>\n",
       "      <td>0.235253</td>\n",
       "      <td>0.216614</td>\n",
       "      <td>...</td>\n",
       "      <td>-0.010156</td>\n",
       "      <td>-0.006760</td>\n",
       "      <td>-0.005372</td>\n",
       "      <td>-0.072929</td>\n",
       "      <td>-0.058579</td>\n",
       "      <td>-0.056250</td>\n",
       "      <td>-0.056827</td>\n",
       "      <td>-0.055124</td>\n",
       "      <td>-0.053183</td>\n",
       "      <td>1.000000</td>\n",
       "    </tr>\n",
       "  </tbody>\n",
       "</table>\n",
       "<p>25 rows × 25 columns</p>\n",
       "</div>"
      ],
      "text/plain": [
       "                                  ID  LIMIT_BAL       SEX  EDUCATION  \\\n",
       "ID                          1.000000   0.026179  0.018497   0.039177   \n",
       "LIMIT_BAL                   0.026179   1.000000  0.024755  -0.219161   \n",
       "SEX                         0.018497   0.024755  1.000000   0.014232   \n",
       "EDUCATION                   0.039177  -0.219161  0.014232   1.000000   \n",
       "MARRIAGE                   -0.029079  -0.108139 -0.031389  -0.143464   \n",
       "AGE                         0.018678   0.144713 -0.090874   0.175061   \n",
       "PAY_0                      -0.030575  -0.271214 -0.057643   0.105364   \n",
       "PAY_2                      -0.011215  -0.296382 -0.070771   0.121566   \n",
       "PAY_3                      -0.018494  -0.286123 -0.066096   0.114025   \n",
       "PAY_4                      -0.002735  -0.267460 -0.060173   0.108793   \n",
       "PAY_5                      -0.022199  -0.249411 -0.055064   0.097520   \n",
       "PAY_6                      -0.020270  -0.235195 -0.044008   0.082316   \n",
       "BILL_AMT1                   0.019389   0.285430 -0.033642   0.023581   \n",
       "BILL_AMT2                   0.017982   0.278314 -0.031183   0.018749   \n",
       "BILL_AMT3                   0.024354   0.283236 -0.024563   0.013002   \n",
       "BILL_AMT4                   0.040351   0.293988 -0.021880  -0.000451   \n",
       "BILL_AMT5                   0.016705   0.295562 -0.017005  -0.007567   \n",
       "BILL_AMT6                   0.016730   0.290389 -0.016733  -0.009099   \n",
       "PAY_AMT1                    0.009742   0.195236 -0.000242  -0.037456   \n",
       "PAY_AMT2                    0.008406   0.178408 -0.001391  -0.030038   \n",
       "PAY_AMT3                    0.039151   0.210167 -0.008597  -0.039943   \n",
       "PAY_AMT4                    0.007793   0.203242 -0.002229  -0.038218   \n",
       "PAY_AMT5                    0.000652   0.217202 -0.001667  -0.040358   \n",
       "PAY_AMT6                    0.003000   0.219595 -0.002766  -0.037200   \n",
       "default.payment.next.month -0.013952  -0.153520 -0.039961   0.028006   \n",
       "\n",
       "                            MARRIAGE       AGE     PAY_0     PAY_2     PAY_3  \\\n",
       "ID                         -0.029079  0.018678 -0.030575 -0.011215 -0.018494   \n",
       "LIMIT_BAL                  -0.108139  0.144713 -0.271214 -0.296382 -0.286123   \n",
       "SEX                        -0.031389 -0.090874 -0.057643 -0.070771 -0.066096   \n",
       "EDUCATION                  -0.143464  0.175061  0.105364  0.121566  0.114025   \n",
       "MARRIAGE                    1.000000 -0.414170  0.019917  0.024199  0.032688   \n",
       "AGE                        -0.414170  1.000000 -0.039447 -0.050148 -0.053048   \n",
       "PAY_0                       0.019917 -0.039447  1.000000  0.672164  0.574245   \n",
       "PAY_2                       0.024199 -0.050148  0.672164  1.000000  0.766552   \n",
       "PAY_3                       0.032688 -0.053048  0.574245  0.766552  1.000000   \n",
       "PAY_4                       0.033122 -0.049722  0.538841  0.662067  0.777359   \n",
       "PAY_5                       0.035629 -0.053826  0.509426  0.622780  0.686775   \n",
       "PAY_6                       0.034345 -0.048773  0.474553  0.575501  0.632684   \n",
       "BILL_AMT1                  -0.023472  0.056239  0.187068  0.234887  0.208473   \n",
       "BILL_AMT2                  -0.021602  0.054283  0.189859  0.235257  0.237295   \n",
       "BILL_AMT3                  -0.024909  0.053710  0.179785  0.224146  0.227494   \n",
       "BILL_AMT4                  -0.023344  0.051353  0.179125  0.222237  0.227202   \n",
       "BILL_AMT5                  -0.025393  0.049345  0.180635  0.221348  0.225145   \n",
       "BILL_AMT6                  -0.021207  0.047613  0.176980  0.219403  0.222327   \n",
       "PAY_AMT1                   -0.005979  0.026147 -0.079269 -0.080701  0.001295   \n",
       "PAY_AMT2                   -0.008093  0.021785 -0.070101 -0.058990 -0.066793   \n",
       "PAY_AMT3                   -0.003541  0.029247 -0.070561 -0.055901 -0.053311   \n",
       "PAY_AMT4                   -0.012659  0.021379 -0.064005 -0.046858 -0.046067   \n",
       "PAY_AMT5                   -0.001205  0.022850 -0.058190 -0.037093 -0.035863   \n",
       "PAY_AMT6                   -0.006641  0.019478 -0.058673 -0.036500 -0.035861   \n",
       "default.payment.next.month -0.024339  0.013890  0.324794  0.263551  0.235253   \n",
       "\n",
       "                               PAY_4             ...              BILL_AMT4  \\\n",
       "ID                         -0.002735             ...               0.040351   \n",
       "LIMIT_BAL                  -0.267460             ...               0.293988   \n",
       "SEX                        -0.060173             ...              -0.021880   \n",
       "EDUCATION                   0.108793             ...              -0.000451   \n",
       "MARRIAGE                    0.033122             ...              -0.023344   \n",
       "AGE                        -0.049722             ...               0.051353   \n",
       "PAY_0                       0.538841             ...               0.179125   \n",
       "PAY_2                       0.662067             ...               0.222237   \n",
       "PAY_3                       0.777359             ...               0.227202   \n",
       "PAY_4                       1.000000             ...               0.245917   \n",
       "PAY_5                       0.819835             ...               0.271915   \n",
       "PAY_6                       0.716449             ...               0.266356   \n",
       "BILL_AMT1                   0.202812             ...               0.860272   \n",
       "BILL_AMT2                   0.225816             ...               0.892482   \n",
       "BILL_AMT3                   0.244983             ...               0.923969   \n",
       "BILL_AMT4                   0.245917             ...               1.000000   \n",
       "BILL_AMT5                   0.242902             ...               0.940134   \n",
       "BILL_AMT6                   0.239154             ...               0.900941   \n",
       "PAY_AMT1                   -0.009362             ...               0.233012   \n",
       "PAY_AMT2                   -0.001944             ...               0.207564   \n",
       "PAY_AMT3                   -0.069235             ...               0.300023   \n",
       "PAY_AMT4                   -0.043461             ...               0.130191   \n",
       "PAY_AMT5                   -0.033590             ...               0.160433   \n",
       "PAY_AMT6                   -0.026565             ...               0.177637   \n",
       "default.payment.next.month  0.216614             ...              -0.010156   \n",
       "\n",
       "                            BILL_AMT5  BILL_AMT6  PAY_AMT1  PAY_AMT2  \\\n",
       "ID                           0.016705   0.016730  0.009742  0.008406   \n",
       "LIMIT_BAL                    0.295562   0.290389  0.195236  0.178408   \n",
       "SEX                         -0.017005  -0.016733 -0.000242 -0.001391   \n",
       "EDUCATION                   -0.007567  -0.009099 -0.037456 -0.030038   \n",
       "MARRIAGE                    -0.025393  -0.021207 -0.005979 -0.008093   \n",
       "AGE                          0.049345   0.047613  0.026147  0.021785   \n",
       "PAY_0                        0.180635   0.176980 -0.079269 -0.070101   \n",
       "PAY_2                        0.221348   0.219403 -0.080701 -0.058990   \n",
       "PAY_3                        0.225145   0.222327  0.001295 -0.066793   \n",
       "PAY_4                        0.242902   0.239154 -0.009362 -0.001944   \n",
       "PAY_5                        0.269783   0.262509 -0.006089 -0.003191   \n",
       "PAY_6                        0.290894   0.285091 -0.001496 -0.005223   \n",
       "BILL_AMT1                    0.829779   0.802650  0.140277  0.099355   \n",
       "BILL_AMT2                    0.859778   0.831594  0.280365  0.100851   \n",
       "BILL_AMT3                    0.883910   0.853320  0.244335  0.316936   \n",
       "BILL_AMT4                    0.940134   0.900941  0.233012  0.207564   \n",
       "BILL_AMT5                    1.000000   0.946197  0.217031  0.181246   \n",
       "BILL_AMT6                    0.946197   1.000000  0.199965  0.172663   \n",
       "PAY_AMT1                     0.217031   0.199965  1.000000  0.285576   \n",
       "PAY_AMT2                     0.181246   0.172663  0.285576  1.000000   \n",
       "PAY_AMT3                     0.252305   0.233770  0.252191  0.244770   \n",
       "PAY_AMT4                     0.293118   0.250237  0.199558  0.180107   \n",
       "PAY_AMT5                     0.141574   0.307729  0.148459  0.180908   \n",
       "PAY_AMT6                     0.164184   0.115494  0.185735  0.157634   \n",
       "default.payment.next.month  -0.006760  -0.005372 -0.072929 -0.058579   \n",
       "\n",
       "                            PAY_AMT3  PAY_AMT4  PAY_AMT5  PAY_AMT6  \\\n",
       "ID                          0.039151  0.007793  0.000652  0.003000   \n",
       "LIMIT_BAL                   0.210167  0.203242  0.217202  0.219595   \n",
       "SEX                        -0.008597 -0.002229 -0.001667 -0.002766   \n",
       "EDUCATION                  -0.039943 -0.038218 -0.040358 -0.037200   \n",
       "MARRIAGE                   -0.003541 -0.012659 -0.001205 -0.006641   \n",
       "AGE                         0.029247  0.021379  0.022850  0.019478   \n",
       "PAY_0                      -0.070561 -0.064005 -0.058190 -0.058673   \n",
       "PAY_2                      -0.055901 -0.046858 -0.037093 -0.036500   \n",
       "PAY_3                      -0.053311 -0.046067 -0.035863 -0.035861   \n",
       "PAY_4                      -0.069235 -0.043461 -0.033590 -0.026565   \n",
       "PAY_5                       0.009062 -0.058299 -0.033337 -0.023027   \n",
       "PAY_6                       0.005834  0.019018 -0.046434 -0.025299   \n",
       "BILL_AMT1                   0.156887  0.158303  0.167026  0.179341   \n",
       "BILL_AMT2                   0.150718  0.147398  0.157957  0.174256   \n",
       "BILL_AMT3                   0.130011  0.143405  0.179712  0.182326   \n",
       "BILL_AMT4                   0.300023  0.130191  0.160433  0.177637   \n",
       "BILL_AMT5                   0.252305  0.293118  0.141574  0.164184   \n",
       "BILL_AMT6                   0.233770  0.250237  0.307729  0.115494   \n",
       "PAY_AMT1                    0.252191  0.199558  0.148459  0.185735   \n",
       "PAY_AMT2                    0.244770  0.180107  0.180908  0.157634   \n",
       "PAY_AMT3                    1.000000  0.216325  0.159214  0.162740   \n",
       "PAY_AMT4                    0.216325  1.000000  0.151830  0.157834   \n",
       "PAY_AMT5                    0.159214  0.151830  1.000000  0.154896   \n",
       "PAY_AMT6                    0.162740  0.157834  0.154896  1.000000   \n",
       "default.payment.next.month -0.056250 -0.056827 -0.055124 -0.053183   \n",
       "\n",
       "                            default.payment.next.month  \n",
       "ID                                           -0.013952  \n",
       "LIMIT_BAL                                    -0.153520  \n",
       "SEX                                          -0.039961  \n",
       "EDUCATION                                     0.028006  \n",
       "MARRIAGE                                     -0.024339  \n",
       "AGE                                           0.013890  \n",
       "PAY_0                                         0.324794  \n",
       "PAY_2                                         0.263551  \n",
       "PAY_3                                         0.235253  \n",
       "PAY_4                                         0.216614  \n",
       "PAY_5                                         0.204149  \n",
       "PAY_6                                         0.186866  \n",
       "BILL_AMT1                                    -0.019644  \n",
       "BILL_AMT2                                    -0.014193  \n",
       "BILL_AMT3                                    -0.014076  \n",
       "BILL_AMT4                                    -0.010156  \n",
       "BILL_AMT5                                    -0.006760  \n",
       "BILL_AMT6                                    -0.005372  \n",
       "PAY_AMT1                                     -0.072929  \n",
       "PAY_AMT2                                     -0.058579  \n",
       "PAY_AMT3                                     -0.056250  \n",
       "PAY_AMT4                                     -0.056827  \n",
       "PAY_AMT5                                     -0.055124  \n",
       "PAY_AMT6                                     -0.053183  \n",
       "default.payment.next.month                    1.000000  \n",
       "\n",
       "[25 rows x 25 columns]"
      ]
     },
     "execution_count": 65,
     "metadata": {},
     "output_type": "execute_result"
    }
   ],
   "source": [
    "corr.transpose()"
   ]
  },
  {
   "cell_type": "code",
   "execution_count": 32,
   "metadata": {
    "collapsed": false
   },
   "outputs": [],
   "source": [
    "mask=np.zeros_like(corr,dtype=np.bool)\n",
    "mask[np.triu_indices_from(mask)]=True"
   ]
  },
  {
   "cell_type": "code",
   "execution_count": 54,
   "metadata": {
    "collapsed": false
   },
   "outputs": [
    {
     "data": {
      "image/png": "[encoded data removed]",
      "text/plain": [
       "<matplotlib.figure.Figure at 0x1e1bbf79780>"
      ]
     },
     "metadata": {},
     "output_type": "display_data"
    }
   ],
   "source": [
    "with sb.axes_style(\"white\"):\n",
    "    a=sb.heatmap(corr,mask=mask,vmax=0.7,square=True)"
   ]
  },
  {
   "cell_type": "code",
   "execution_count": 38,
   "metadata": {
    "collapsed": false
   },
   "outputs": [
    {
     "data": {
      "image/png": "[encoded data removed]",
      "text/plain": [
       "<matplotlib.figure.Figure at 0x1e1b8d1ea58>"
      ]
     },
     "metadata": {},
     "output_type": "display_data"
    }
   ],
   "source": [
    "f, a1=matplotlib.pyplot.subplots(figsize=(15,9))"
   ]
  },
  {
   "cell_type": "code",
   "execution_count": 39,
   "metadata": {
    "collapsed": false
   },
   "outputs": [],
   "source": [
    "customap=sb.diverging_palette(220,10,as_cmap=True)"
   ]
  },
  {
   "cell_type": "code",
   "execution_count": 108,
   "metadata": {
    "collapsed": false
   },
   "outputs": [
    {
     "data": {
      "text/plain": [
       "<matplotlib.axes._subplots.AxesSubplot at 0x1e1bfa3cc50>"
      ]
     },
     "execution_count": 108,
     "metadata": {},
     "output_type": "execute_result"
    },
    {
     "data": {
      "image/png": "[encoded data removed]",
      "text/plain": [
       "<matplotlib.figure.Figure at 0x1e1bdfca4e0>"
      ]
     },
     "metadata": {},
     "output_type": "display_data"
    }
   ],
   "source": [
    "sb.heatmap(corr,mask=mask,cmap=customap,vmax=0.8,center=0,square=True,linewidth=0.4,cbar_kws={\"shrink\": 0.9})"
   ]
  }
 ],
 "metadata": {
  "kernelspec": {
   "display_name": "Python 3",
   "language": "python",
   "name": "python3"
  },
  "language_info": {
   "codemirror_mode": {
    "name": "ipython",
    "version": 3
   },
   "file_extension": ".py",
   "mimetype": "text/x-python",
   "name": "python",
   "nbconvert_exporter": "python",
   "pygments_lexer": "ipython3",
   "version": "3.6.0"
  }
 },
 "nbformat": 4,
 "nbformat_minor": 2
}
